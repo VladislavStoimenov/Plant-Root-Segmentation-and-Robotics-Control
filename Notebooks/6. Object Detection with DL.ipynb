{
 "cells": [
  {
   "cell_type": "markdown",
   "metadata": {},
   "source": [
    "# 6. Object Detection with DL\n",
    "\n",
    "Outline:\n",
    "\n",
    "1. Creating an image with multiple MNIST digits\n",
    "2. Train a multiclass CNN on MNIST\n",
    "3. Selective Search for Object Recognition\n",
    "4. Get predictions on each detected object bounding box\n",
    "5. Non-maximum supression\n",
    "6. Putting it all together\n",
    "\n",
    "In this notebook you will learn the fundamentals of object detection with Region-based Convolutional Neural Networks (R-CNNs). R-CNNs combine region proposals with convolutional neural networks (CNNs). They use selective search to first identify potential object regions in an image and then apply CNNs to classify these regions. R-CNNs have evolved into faster and more efficient versions, like Fast R-CNN and Faster R-CNN, which streamline the process and improve computational efficiency.\n",
    "\n",
    "The other prominent object detection approach is YOLO (You Only Look Once), which divides the image into a grid and predicts bounding boxes and class probabilities for these boxes in a single pass through the neural network. This makes YOLO extremely fast, as it processes the entire image in one go. YOLO also have evolved, indicated by a version number (YOLO v2, v3 etc.)\n",
    "\n",
    "For real time object detection, a YOLO based approach is preferred. For accuracy, an R-CNN based approach is preferred.\n",
    "\n",
    "In this notebook we will cover the basic R-CNN. If you want to extend your knowledge in object detection, take a look at Fast and Faster R-CNN as well as YOLO.\n",
    "\n",
    "We will create an image based on MNIST that contains 4 digits. Then, we will implement an R-CNN and run it on this image.\n",
    "\n",
    "<img src='images/rcnn_output.png' width=600>"
   ]
  },
  {
   "cell_type": "markdown",
   "metadata": {},
   "source": [
    "## 1. Creating an image with multiple MNIST digits"
   ]
  },
  {
   "cell_type": "code",
   "execution_count": 12,
   "metadata": {},
   "outputs": [],
   "source": [
    "import cv2\n",
    "\n",
    "import matplotlib.pyplot as plt\n",
    "import numpy as np\n",
    "import pandas as pd\n",
    "\n",
    "from tensorflow import keras\n",
    "\n",
    "(x_train, y_train), (x_test, y_test) = keras.datasets.mnist.load_data()"
   ]
  },
  {
   "cell_type": "code",
   "execution_count": 13,
   "metadata": {},
   "outputs": [],
   "source": [
    "x_test_canvas = x_test.copy()"
   ]
  },
  {
   "cell_type": "code",
   "execution_count": 14,
   "metadata": {},
   "outputs": [],
   "source": [
    "def create_canvas():\n",
    "    canvas_size = 200\n",
    "    canvas_mid = int(canvas_size/2)\n",
    "    \n",
    "    # black canvas\n",
    "    canvas = np.zeros((canvas_size, canvas_size))\n",
    "\n",
    "    for i in range(2):\n",
    "        for j in range(2):\n",
    "            # select a random digit\n",
    "            random_id = np.random.randint(0, 10000)\n",
    "            random_digit_image = x_test_canvas[random_id]\n",
    "            # resize it\n",
    "            random_size = np.random.randint(14, 56)\n",
    "            random_digit_image = cv2.resize(random_digit_image, (random_size, random_size), interpolation = cv2.INTER_AREA)\n",
    "            # place it on the canvas\n",
    "            # one image in each quadrant\n",
    "            random_x = np.random.randint(canvas_mid*i, canvas_mid*i + canvas_mid - random_size)\n",
    "            random_y = np.random.randint(canvas_mid*j, canvas_mid*j + canvas_mid - random_size)\n",
    "            canvas[random_y:random_y+random_size, random_x:random_x+random_size] = random_digit_image\n",
    "\n",
    "    # convert it to 3 channel\n",
    "    # because selective search requires 3 channels\n",
    "    canvas = np.stack((canvas,)*3, axis=-1)\n",
    "    canvas = canvas.astype(dtype=np.uint8)\n",
    "    return canvas"
   ]
  },
  {
   "cell_type": "code",
   "execution_count": 15,
   "metadata": {},
   "outputs": [
    {
     "data": {
      "text/plain": [
       "<matplotlib.image.AxesImage at 0x1a8c328b370>"
      ]
     },
     "execution_count": 15,
     "metadata": {},
     "output_type": "execute_result"
    },
    {
     "data": {
      "image/png": "[encoded data removed]",
      "text/plain": [
       "<Figure size 640x480 with 1 Axes>"
      ]
     },
     "metadata": {},
     "output_type": "display_data"
    }
   ],
   "source": [
    "# Run this cell a few times to see different outputs\n",
    "canvas = create_canvas()\n",
    "plt.imshow(canvas)"
   ]
  },
  {
   "cell_type": "markdown",
   "metadata": {},
   "source": [
    "## 2. Train a multiclass CNN on MNIST."
   ]
  },
  {
   "cell_type": "markdown",
   "metadata": {},
   "source": [
    "**Exercise 6.1**\n",
    "\n",
    "You have learned how to build a CNN for classification in Y1C. Build one for the MNIST dataset. Use data augmentation with horizontal/vertical shifts as well as zoom ins and outs. This will be helpful because selective search might not return a bounding box where the digit is at the center, and digit size can be slightly different.\n",
    "\n",
    "The model I developed obtained an accuracy between 98-99 % on the test set. The example results in the next sections will come from this model."
   ]
  },
  {
   "cell_type": "code",
   "execution_count": 16,
   "metadata": {},
   "outputs": [],
   "source": [
    "from tensorflow.keras import layers\n",
    "from tensorflow.keras.preprocessing.image import ImageDataGenerator"
   ]
  },
  {
   "cell_type": "code",
   "execution_count": 17,
   "metadata": {},
   "outputs": [],
   "source": [
    "from keras.datasets import mnist\n",
    "from keras.models import Sequential\n",
    "from keras.layers import Dense, Conv2D, Flatten, MaxPooling2D\n",
    "\n",
    "from tensorflow.keras.utils import to_categorical\n",
    "import numpy as np"
   ]
  },
  {
   "cell_type": "code",
   "execution_count": 18,
   "metadata": {},
   "outputs": [
    {
     "name": "stdout",
     "output_type": "stream",
     "text": [
      "Epoch 1/10\n",
      "1875/1875 - 21s - 11ms/step - accuracy: 0.8630 - loss: 0.4193 - val_accuracy: 0.9759 - val_loss: 0.0755\n",
      "Epoch 2/10\n",
      "1875/1875 - 19s - 10ms/step - accuracy: 0.9544 - loss: 0.1477 - val_accuracy: 0.9840 - val_loss: 0.0467\n",
      "Epoch 3/10\n",
      "1875/1875 - 20s - 11ms/step - accuracy: 0.9659 - loss: 0.1081 - val_accuracy: 0.9891 - val_loss: 0.0362\n",
      "Epoch 4/10\n",
      "1875/1875 - 19s - 10ms/step - accuracy: 0.9721 - loss: 0.0914 - val_accuracy: 0.9823 - val_loss: 0.0559\n",
      "Epoch 5/10\n",
      "1875/1875 - 18s - 10ms/step - accuracy: 0.9756 - loss: 0.0808 - val_accuracy: 0.9849 - val_loss: 0.0516\n",
      "Epoch 6/10\n",
      "1875/1875 - 19s - 10ms/step - accuracy: 0.9777 - loss: 0.0738 - val_accuracy: 0.9900 - val_loss: 0.0339\n",
      "Epoch 7/10\n",
      "1875/1875 - 19s - 10ms/step - accuracy: 0.9795 - loss: 0.0672 - val_accuracy: 0.9890 - val_loss: 0.0356\n",
      "Epoch 8/10\n",
      "1875/1875 - 20s - 11ms/step - accuracy: 0.9816 - loss: 0.0630 - val_accuracy: 0.9923 - val_loss: 0.0272\n",
      "Epoch 9/10\n",
      "1875/1875 - 20s - 11ms/step - accuracy: 0.9826 - loss: 0.0588 - val_accuracy: 0.9909 - val_loss: 0.0282\n",
      "Epoch 10/10\n",
      "1875/1875 - 20s - 11ms/step - accuracy: 0.9832 - loss: 0.0575 - val_accuracy: 0.9900 - val_loss: 0.0314\n"
     ]
    },
    {
     "data": {
      "text/plain": [
       "<keras.src.callbacks.history.History at 0x1a8c0589c70>"
      ]
     },
     "execution_count": 18,
     "metadata": {},
     "output_type": "execute_result"
    }
   ],
   "source": [
    "# YOUR CODE HERE\n",
    "# Preprocess the data\n",
    "x_train = x_train.astype('float32') / 255.0\n",
    "x_test = x_test.astype('float32') / 255.0\n",
    "x_train = np.expand_dims(x_train, axis=-1)  # Add channel dimension\n",
    "x_test = np.expand_dims(x_test, axis=-1)\n",
    "\n",
    "# One-hot encode the labels\n",
    "y_train = to_categorical(y_train, 10)\n",
    "y_test = to_categorical(y_test, 10)\n",
    "\n",
    "# Data Augmentation \n",
    "\n",
    "datagen = ImageDataGenerator(width_shift_range=0.2, height_shift_range=0.2, zoom_range=0.2)\n",
    "datagen.fit(x_train)\n",
    "\n",
    "model = Sequential([\n",
    "    Conv2D(32, (3,3), activation='relu', input_shape = (28, 28, 1)),\n",
    "    MaxPooling2D((2,2)),\n",
    "    Conv2D(64, (3,3), activation='relu'),\n",
    "    MaxPooling2D((2,2)),\n",
    "    Conv2D(128, (3,3), activation='relu'),\n",
    "    Flatten(),\n",
    "    Dense(128, activation='relu'), \n",
    "    Dense(10, activation='softmax')\n",
    "])\n",
    "\n",
    "\n",
    "model.compile(optimizer='adam', loss='categorical_crossentropy', metrics=['accuracy'])\n",
    "\n",
    "\n",
    "model.fit(datagen.flow(x_train, y_train), validation_data=(x_test, y_test), \n",
    "epochs=10,\n",
    "    verbose=2)"
   ]
  },
  {
   "cell_type": "code",
   "execution_count": 19,
   "metadata": {},
   "outputs": [
    {
     "name": "stdout",
     "output_type": "stream",
     "text": [
      "Test loss: 0.031358733773231506\n",
      "Test accuracy: 0.9900000095367432\n"
     ]
    }
   ],
   "source": [
    "score = model.evaluate(x_test, y_test, verbose=0)\n",
    "print(\"Test loss:\", score[0])\n",
    "print(\"Test accuracy:\", score[1])"
   ]
  },
  {
   "cell_type": "markdown",
   "metadata": {},
   "source": [
    "## 3. Selective Search for Object Recognition"
   ]
  },
  {
   "cell_type": "markdown",
   "metadata": {},
   "source": [
    "\"Selective Search for Object Recognition\" is a seminal paper in computer vision for object recognition. It is authored by J.R.R. Uijlings, K.E.A. van de Sande, T. Gevers, and A.W.M. Smeulders in University of Amsterdam.\n",
    "\n",
    "Please read the paper to understand how it works.\n",
    "\n",
    "Abstract\n",
    "\n",
    ">This paper addresses the problem of generating possible object lo- cations for use in object recognition. We introduce Selective Search which combines the strength of both an exhaustive search and seg- mentation. Like segmentation, we use the image structure to guide our sampling process. Like exhaustive search, we aim to capture all possible object locations. Instead of a single technique to gen- erate possible object locations, we diversify our search and use a variety of complementary image partitionings to deal with as many image conditions as possible. Our Selective Search results in a small set of data-driven, class-independent, high quality locations, yielding 99% recall and a Mean Average Best Overlap of 0.879 at 10,097 locations. The reduced number of locations compared to an exhaustive search enables the use of stronger machine learning techniques and stronger appearance models for object recognition. In this paper we show that our selective search enables the use of the powerful Bag-of-Words model for recognition. The Selective Search software is made publicly available 1.\n",
    "\n",
    "[Link to pdf](https://ivi.fnwi.uva.nl/isis/publications/2013/UijlingsIJCV2013/UijlingsIJCV2013.pdf)"
   ]
  },
  {
   "cell_type": "markdown",
   "metadata": {},
   "source": [
    "The algorithm is implemented in OpenCV as \n",
    "\n",
    "```cv2.ximgproc.segmentation.createSelectiveSearchSegmentation()```\n",
    "\n",
    "However this operation is not in the main modules, it is available in the full installation of OpenCV.\n",
    "\n",
    "If you look [here](https://pypi.org/project/opencv-python/), you will see two options for installing OpenCV:\n",
    "\n",
    "a. Packages for standard desktop environments (Windows, macOS, almost any GNU/Linux distribution)\n",
    "1. Main modules package: `pip install opencv-python`\n",
    "2. Full package (contains both main modules and contrib/extra modules): `pip install opencv-contrib-python` (check contrib/extra modules listing from OpenCV documentation)\n",
    "\n",
    "If you don't have the full package, please install it."
   ]
  },
  {
   "cell_type": "markdown",
   "metadata": {},
   "source": [
    "**Exercise 6.2**\n",
    "\n",
    "Write a function that takes in the canvas (200, 200, 3), applies selective search and returns the bounding boxes. Selective search returns bounding boxes in the `(x, y, w, h)` format, where `(x, y)` is the coordinates of the top left corner of the bounding box and `w` and `h` are the width and height of the bounding box. It returns a numpy array of shape `(num_of_bounding_boxes, 4)`."
   ]
  },
  {
   "cell_type": "code",
   "execution_count": 20,
   "metadata": {},
   "outputs": [],
   "source": [
    "def selective_search(canvas, search_method='Quality'):\n",
    "    ss = cv2.ximgproc.segmentation.createSelectiveSearchSegmentation()\n",
    "    \n",
    "    # YOUR CODE HERE\n",
    "    ss.setBaseImage(canvas)\n",
    "\n",
    "    # Set the search method: 'Quality' is more accurate but slower, 'Fast' is faster but less accurate\n",
    "    if search_method == 'Fast':\n",
    "        ss.switchToSelectiveSearchFast()\n",
    "    elif search_method == 'Quality':\n",
    "        ss.switchToSelectiveSearchQuality()\n",
    "\n",
    "    # Run selective search and get bounding boxes\n",
    "    bboxes = ss.process()  # Returns a list of rectangles in (x, y, w, h) format\n",
    "\n",
    "    # Convert bounding boxes to numpy array\n",
    "    bboxes_xywh = np.array(bboxes)\n",
    "    # remove the canvas if it is detected\n",
    "    mask = ~np.all(bboxes_xywh == [0, 0, 200, 200], axis=1)\n",
    "    bboxes_xywh = bboxes_xywh[mask]\n",
    "\n",
    "    return bboxes_xywh"
   ]
  },
  {
   "cell_type": "code",
   "execution_count": 21,
   "metadata": {},
   "outputs": [
    {
     "name": "stdout",
     "output_type": "stream",
     "text": [
      "True\n"
     ]
    }
   ],
   "source": [
    "import cv2\n",
    "print(hasattr(cv2, 'ximgproc'))  # Should return Tru"
   ]
  },
  {
   "cell_type": "code",
   "execution_count": 22,
   "metadata": {},
   "outputs": [
    {
     "data": {
      "text/plain": [
       "20"
      ]
     },
     "execution_count": 22,
     "metadata": {},
     "output_type": "execute_result"
    }
   ],
   "source": [
    "bboxes_xywh = selective_search(canvas)\n",
    "len(bboxes_xywh)"
   ]
  },
  {
   "cell_type": "markdown",
   "metadata": {},
   "source": [
    "**Exercise 6.3**\n",
    "\n",
    "Write a function takes an image and bounding boxes as input and plots the bounding boxes on the image.\n",
    "\n",
    "<img src='images/exercise_6_3.png' width=300>"
   ]
  },
  {
   "cell_type": "code",
   "execution_count": null,
   "metadata": {},
   "outputs": [],
   "source": [
    "import matplotlib.patches as patches\n",
    "\n",
    "def bb_plotter(im, bboxes_xywh):\n",
    "    \n",
    "    # YOUR CODE HERE\n",
    "    fig, ax = plt.subplots(1, figsize=(8, 8))\n",
    "    ax.imshow(im)\n",
    "\n",
    "    # Iterate over bounding boxes and add them as rectangles\n",
    "    for (x, y, w, h) in bboxes_xywh:\n",
    "        rect = patches.Rectangle((x, y), w, h, linewidth=2, edgecolor='red', facecolor='none')\n",
    "        ax.add_patch(rect)\n",
    "\n",
    "    # Display the image with bounding boxes\n",
    "    plt.axis('off')  # Turn off axes for better visualization\n",
    "    plt.show()"
   ]
  },
  {
   "cell_type": "code",
   "execution_count": 24,
   "metadata": {},
   "outputs": [
    {
     "data": {
      "image/png": "[encoded data removed]",
      "text/plain": [
       "<Figure size 800x800 with 1 Axes>"
      ]
     },
     "metadata": {},
     "output_type": "display_data"
    }
   ],
   "source": [
    "bb_plotter(canvas, bboxes_xywh)"
   ]
  },
  {
   "cell_type": "markdown",
   "metadata": {},
   "source": [
    "## 4. Get predictions on each detected object bounding box"
   ]
  },
  {
   "cell_type": "markdown",
   "metadata": {},
   "source": [
    "Let's get predictions for each bounding box. The first step for doing that is to crop the images and resize them to 28x28x1 as this is the input size our model expects.\n",
    "\n",
    "**Exercise 6.4**\n",
    "\n",
    "Write a function that accepts the canvas and the bounding boxes as input and returns the images in the bounding boxes with size `(number_of_bounding_boxes, 28, 28, 1)`, and normalized to the pixel values you have used to train the CNN.\n"
   ]
  },
  {
   "cell_type": "code",
   "execution_count": 59,
   "metadata": {},
   "outputs": [],
   "source": [
    "def extract_and_resize_images_from_canvas(canvas, bboxes_xywh):\n",
    "    detected_images = []\n",
    "    for (x, y, w, h) in bboxes_xywh:\n",
    "        # YOUR CODE HERE\n",
    "        roi = canvas[y:y+h,x:x+w]\n",
    "        gray_roi = cv2.cvtColor(roi, cv2.COLOR_BGR2GRAY)\n",
    "        resized_roi = cv2.resize(gray_roi, (28, 28), interpolation=cv2.INTER_AREA)\n",
    "        normalized_roi = resized_roi.astype('float32') / 255.0\n",
    "        detected_images.append(normalized_roi[:,:, np.newaxis])\n",
    "\n",
    "    detected_images = np.array(detected_images)\n",
    "    detected_images = detected_images.reshape(-1, 28, 28, 1)\n",
    "    return detected_images"
   ]
  },
  {
   "cell_type": "code",
   "execution_count": 60,
   "metadata": {},
   "outputs": [],
   "source": [
    "detected_images = extract_and_resize_images_from_canvas(canvas, bboxes_xywh)"
   ]
  },
  {
   "cell_type": "markdown",
   "metadata": {},
   "source": [
    "let's display 4 random images as a sanity check:"
   ]
  },
  {
   "cell_type": "code",
   "execution_count": 63,
   "metadata": {},
   "outputs": [
    {
     "data": {
      "image/png": "[encoded data removed]",
      "text/plain": [
       "<Figure size 1000x300 with 4 Axes>"
      ]
     },
     "metadata": {},
     "output_type": "display_data"
    }
   ],
   "source": [
    "# I want to display four random bounding boxes\n",
    "random_indices = np.random.choice(detected_images.shape[0], size=4, replace=False)\n",
    "selected_images = detected_images[random_indices]\n",
    "\n",
    "# Plotting the selected images\n",
    "fig, axes = plt.subplots(1, 4, figsize=(10, 3))\n",
    "for i, img in enumerate(selected_images):\n",
    "    # Use squeeze() to remove the single-channel dimension\n",
    "    axes[i].imshow(img.squeeze(), cmap='gray')"
   ]
  },
  {
   "cell_type": "markdown",
   "metadata": {},
   "source": [
    "**Exercise 6.5**\n",
    "\n",
    "Write a function that returns the predicted digit and its probability for each bounding box.\n",
    "\n",
    "Now run `model.predict()` on the detected images and get the predicted digit and its probability:"
   ]
  },
  {
   "cell_type": "code",
   "execution_count": 64,
   "metadata": {},
   "outputs": [],
   "source": [
    "def get_predictions(detected_images):\n",
    "    preds = model.predict(detected_images)\n",
    "    # YOUR CODE HERE\n",
    "    digit_index = []\n",
    "    digit_prob = []\n",
    "    for pred in preds:\n",
    "        max_prob_index = np.argmax(pred)\n",
    "        max_prob = pred[max_prob_index]\n",
    "        digit_index.append(max_prob_index)\n",
    "        digit_prob.append(max_prob)\n",
    "\n",
    "\n",
    "    return digit_index, digit_prob"
   ]
  },
  {
   "cell_type": "code",
   "execution_count": 65,
   "metadata": {},
   "outputs": [
    {
     "name": "stdout",
     "output_type": "stream",
     "text": [
      "\u001b[1m1/1\u001b[0m \u001b[32m━━━━━━━━━━━━━━━━━━━━\u001b[0m\u001b[37m\u001b[0m \u001b[1m0s\u001b[0m 31ms/step\n"
     ]
    }
   ],
   "source": [
    "digit_index, digit_prob = get_predictions(detected_images)"
   ]
  },
  {
   "cell_type": "code",
   "execution_count": 66,
   "metadata": {},
   "outputs": [
    {
     "data": {
      "text/html": [
       "<div>\n",
       "<style scoped>\n",
       "    .dataframe tbody tr th:only-of-type {\n",
       "        vertical-align: middle;\n",
       "    }\n",
       "\n",
       "    .dataframe tbody tr th {\n",
       "        vertical-align: top;\n",
       "    }\n",
       "\n",
       "    .dataframe thead th {\n",
       "        text-align: right;\n",
       "    }\n",
       "</style>\n",
       "<table border=\"1\" class=\"dataframe\">\n",
       "  <thead>\n",
       "    <tr style=\"text-align: right;\">\n",
       "      <th></th>\n",
       "      <th>Probability</th>\n",
       "      <th>Predicted Digit</th>\n",
       "    </tr>\n",
       "  </thead>\n",
       "  <tbody>\n",
       "    <tr>\n",
       "      <th>0</th>\n",
       "      <td>0.999279</td>\n",
       "      <td>3.0</td>\n",
       "    </tr>\n",
       "    <tr>\n",
       "      <th>1</th>\n",
       "      <td>1.000000</td>\n",
       "      <td>3.0</td>\n",
       "    </tr>\n",
       "    <tr>\n",
       "      <th>2</th>\n",
       "      <td>0.995323</td>\n",
       "      <td>7.0</td>\n",
       "    </tr>\n",
       "    <tr>\n",
       "      <th>3</th>\n",
       "      <td>0.999485</td>\n",
       "      <td>7.0</td>\n",
       "    </tr>\n",
       "    <tr>\n",
       "      <th>4</th>\n",
       "      <td>0.999678</td>\n",
       "      <td>4.0</td>\n",
       "    </tr>\n",
       "  </tbody>\n",
       "</table>\n",
       "</div>"
      ],
      "text/plain": [
       "   Probability  Predicted Digit\n",
       "0     0.999279              3.0\n",
       "1     1.000000              3.0\n",
       "2     0.995323              7.0\n",
       "3     0.999485              7.0\n",
       "4     0.999678              4.0"
      ]
     },
     "execution_count": 66,
     "metadata": {},
     "output_type": "execute_result"
    }
   ],
   "source": [
    "df = pd.DataFrame([digit_prob, digit_index]).T\n",
    "df.columns = ['Probability', 'Predicted Digit']\n",
    "df.head()"
   ]
  },
  {
   "cell_type": "markdown",
   "metadata": {},
   "source": [
    "let's display 4 random images as a sanity check, this time with prediction results:"
   ]
  },
  {
   "cell_type": "code",
   "execution_count": 148,
   "metadata": {},
   "outputs": [
    {
     "data": {
      "image/png": "[encoded data removed]",
      "text/plain": [
       "<Figure size 1000x300 with 4 Axes>"
      ]
     },
     "metadata": {},
     "output_type": "display_data"
    }
   ],
   "source": [
    "# I want to display four random bounding boxes\n",
    "digit_index = np.array(digit_index)\n",
    "digit_prob = np.array(digit_prob)\n",
    "\n",
    "random_indices = np.random.choice(detected_images.shape[0], size=4, replace=False)\n",
    "selected_images = detected_images[random_indices]\n",
    "\n",
    "# get predictions and probabilities\n",
    "selected_images_digits = digit_index[random_indices]\n",
    "selected_images_probs = digit_prob[random_indices]\n",
    "\n",
    "# Plotting the selected images\n",
    "fig, axes = plt.subplots(1, 4, figsize=(10, 3))\n",
    "for i, img in enumerate(selected_images):\n",
    "    title_text = f'{selected_images_digits[i]}, {selected_images_probs[i]:.2f}'\n",
    "    # Use squeeze() to remove the single-channel dimension\n",
    "    axes[i].imshow(img.squeeze(), cmap='gray')\n",
    "    axes[i].set_title(title_text)"
   ]
  },
  {
   "cell_type": "markdown",
   "metadata": {},
   "source": [
    "## 5. Non-maximum supression (NMS)\n",
    "\n",
    "The final problem we need to address is the multiple bounding boxes around a single digit. How can we find the best one?\n",
    "\n",
    "The algorithm we will use to do that is called non-maximum supression. Here's how it works:\n",
    "\n",
    "1. **Many Bounding Boxes**: Selective search will probably detect several bounding boxes around the same object. These boxes can vary slightly in size and position.\n",
    "\n",
    "2. **Scores for Each Box**: We run all these boxes through a classification model to obtain a score (probability) indicating the confidence level that the box contains the target object.\n",
    "\n",
    "3. **Best Box Selection**: Non-maximum suppression starts by selecting the box with the highest score, known as the \"current best box\".\n",
    "\n",
    "4. **Intersection over Union (IoU)**: IoU is a measure used to quantify the overlap between two bounding boxes. It divides the area of overlap between two boxes by the area of union (total area covered by both boxes). A higher IoU means more overlap.\n",
    "\n",
    "5. **Compare and Eliminate**: The algorithm then compares the IoU of the \"current best box\" with all other boxes. If another box has a high IoU with the \"current best box\" (above a certain threshold), it's likely detecting the same object and is discarded.\n",
    "\n",
    "6. **Repeat the Process**: The process is repeated – selecting the next highest scoring box and removing all boxes overlapping significantly with it, based on the IoU threshold. This continues until all boxes are either selected as a \"best box\" or discarded.\n",
    "\n",
    "7. **Final Result**: In the ideal scenario, each detected object in the image is represented by only one box – the one that the algorithm was most confident about.\n",
    "\n",
    "In summary, NMS uses the IoU metric to compare and filter overlapping bounding boxes, keeping only the most relevant ones for each detected object."
   ]
  },
  {
   "cell_type": "markdown",
   "metadata": {},
   "source": [
    "Before implementing NMS, let's implement IoU as a helper function. First read the following to understand what IoU is:\n",
    "\n",
    "[Jaccard Index (Wikipedia)](https://en.wikipedia.org/wiki/Jaccard_index)\n",
    "\n",
    "This picture shows clearly how to calculate IoU\n",
    "\n",
    "<img src='https://upload.wikimedia.org/wikipedia/commons/c/c7/Intersection_over_Union_-_visual_equation.png' width=300>\n",
    "\n",
    "An IoU of zero means the bounding boxes do not overlap, and one means they overlap perfectly.\n",
    "\n",
    "<img src='https://upload.wikimedia.org/wikipedia/commons/e/e6/Intersection_over_Union_-_poor%2C_good_and_excellent_score.png' width=300>"
   ]
  },
  {
   "cell_type": "markdown",
   "metadata": {},
   "source": [
    "currently we have bounding boxes in `(x, y, w, h)` format. It is easier to implement IoU if we have top left corner coordinates and bottom right corner coordinates. Here is a helper function that will convert `(x, y, w, h)` to `(left, top, right, bottom)`:"
   ]
  },
  {
   "cell_type": "code",
   "execution_count": 149,
   "metadata": {},
   "outputs": [],
   "source": [
    "def convert_xywh_to_ltrb(bboxes_xywh):\n",
    "    '''\n",
    "    This function takes in a list of bboxes\n",
    "    where each bbox is a tuple (x, y, w, h)\n",
    "    and creates a list of bboxes\n",
    "    where each bbox is a tuple (left, top, right, bottom)\n",
    "    '''\n",
    "    bboxes_ltrb = []\n",
    "    \n",
    "    for (x, y, w, h) in bboxes_xywh:\n",
    "        top = y\n",
    "        left = x\n",
    "        right = x + w\n",
    "        bottom = y + h\n",
    "        bboxes_ltrb.append((left, top, right, bottom))\n",
    "    \n",
    "    return bboxes_ltrb"
   ]
  },
  {
   "cell_type": "code",
   "execution_count": 150,
   "metadata": {},
   "outputs": [],
   "source": [
    "bboxes_ltrb = convert_xywh_to_ltrb(bboxes_xywh)"
   ]
  },
  {
   "cell_type": "markdown",
   "metadata": {},
   "source": [
    "**Exercise 6.6**\n",
    "\n",
    "Given two bounding boxes in `(left, top, right, bottom)` format, implement a function that calculates IoU between these bounding boxes. The function should return zero if the boxes do not overlap."
   ]
  },
  {
   "cell_type": "code",
   "execution_count": 151,
   "metadata": {},
   "outputs": [],
   "source": [
    "def iou_calculator(bbox1, bbox2):\n",
    "    l1, t1, r1, b1 = bbox1\n",
    "    l2, t2, r2, b2 = bbox2\n",
    "    import math\n",
    "    # Find the intersection rectangle\n",
    "    # YOUR CODE HERE\n",
    "    inter_left = max(l1, l2)\n",
    "    inter_top = max(t1, t2)\n",
    "    inter_right = min(r1, r2)\n",
    "    inter_bottom = min(b1, b2)\n",
    "    # w and h of the intersection rectangle\n",
    "    # YOUR CODE HERE\n",
    "    inter_width = max(0, inter_right - inter_left)\n",
    "    inter_height = max(0, inter_bottom - inter_top)\n",
    "    # intersection area\n",
    "    # YOUR CODE HERE\n",
    "    intersection = inter_height * inter_width\n",
    "    # areas of the bboxes\n",
    "    # YOUR CODE HERE\n",
    "    area1 = (r1 - l1) * (b1 - t1)\n",
    "    area2 = (r2 - l2) * (b2 - t2)\n",
    "    # union area\n",
    "    # YOUR CODE HERE\n",
    "    union = area1 + area2\n",
    "    if union == 0:  # To avoid division by zero\n",
    "        return 0\n",
    "    return intersection / union"
   ]
  },
  {
   "cell_type": "markdown",
   "metadata": {},
   "source": [
    "Now we are ready for implementing, NMS. Let's combine everything we calculated for each bbox, and sort by probability:"
   ]
  },
  {
   "cell_type": "code",
   "execution_count": 152,
   "metadata": {},
   "outputs": [
    {
     "data": {
      "text/html": [
       "<div>\n",
       "<style scoped>\n",
       "    .dataframe tbody tr th:only-of-type {\n",
       "        vertical-align: middle;\n",
       "    }\n",
       "\n",
       "    .dataframe tbody tr th {\n",
       "        vertical-align: top;\n",
       "    }\n",
       "\n",
       "    .dataframe thead th {\n",
       "        text-align: right;\n",
       "    }\n",
       "</style>\n",
       "<table border=\"1\" class=\"dataframe\">\n",
       "  <thead>\n",
       "    <tr style=\"text-align: right;\">\n",
       "      <th></th>\n",
       "      <th>Probability</th>\n",
       "      <th>Predicted Digit</th>\n",
       "      <th>x, y, w, h</th>\n",
       "      <th>l, t, r, b</th>\n",
       "    </tr>\n",
       "  </thead>\n",
       "  <tbody>\n",
       "    <tr>\n",
       "      <th>0</th>\n",
       "      <td>0.999999</td>\n",
       "      <td>4</td>\n",
       "      <td>(63, 11, 20, 26)</td>\n",
       "      <td>(63, 11, 83, 37)</td>\n",
       "    </tr>\n",
       "    <tr>\n",
       "      <th>1</th>\n",
       "      <td>0.999997</td>\n",
       "      <td>4</td>\n",
       "      <td>(63, 12, 20, 24)</td>\n",
       "      <td>(63, 12, 83, 36)</td>\n",
       "    </tr>\n",
       "    <tr>\n",
       "      <th>2</th>\n",
       "      <td>0.999967</td>\n",
       "      <td>4</td>\n",
       "      <td>(66, 14, 14, 20)</td>\n",
       "      <td>(66, 14, 80, 34)</td>\n",
       "    </tr>\n",
       "    <tr>\n",
       "      <th>3</th>\n",
       "      <td>0.999631</td>\n",
       "      <td>7</td>\n",
       "      <td>(128, 140, 28, 40)</td>\n",
       "      <td>(128, 140, 156, 180)</td>\n",
       "    </tr>\n",
       "    <tr>\n",
       "      <th>4</th>\n",
       "      <td>0.999518</td>\n",
       "      <td>8</td>\n",
       "      <td>(29, 160, 14, 17)</td>\n",
       "      <td>(29, 160, 43, 177)</td>\n",
       "    </tr>\n",
       "    <tr>\n",
       "      <th>5</th>\n",
       "      <td>0.999480</td>\n",
       "      <td>7</td>\n",
       "      <td>(129, 140, 27, 40)</td>\n",
       "      <td>(129, 140, 156, 180)</td>\n",
       "    </tr>\n",
       "    <tr>\n",
       "      <th>6</th>\n",
       "      <td>0.999329</td>\n",
       "      <td>7</td>\n",
       "      <td>(129, 140, 27, 39)</td>\n",
       "      <td>(129, 140, 156, 179)</td>\n",
       "    </tr>\n",
       "    <tr>\n",
       "      <th>7</th>\n",
       "      <td>0.998503</td>\n",
       "      <td>8</td>\n",
       "      <td>(28, 160, 15, 17)</td>\n",
       "      <td>(28, 160, 43, 177)</td>\n",
       "    </tr>\n",
       "    <tr>\n",
       "      <th>8</th>\n",
       "      <td>0.998366</td>\n",
       "      <td>7</td>\n",
       "      <td>(129, 140, 26, 39)</td>\n",
       "      <td>(129, 140, 155, 179)</td>\n",
       "    </tr>\n",
       "    <tr>\n",
       "      <th>9</th>\n",
       "      <td>0.997206</td>\n",
       "      <td>7</td>\n",
       "      <td>(131, 142, 22, 35)</td>\n",
       "      <td>(131, 142, 153, 177)</td>\n",
       "    </tr>\n",
       "  </tbody>\n",
       "</table>\n",
       "</div>"
      ],
      "text/plain": [
       "   Probability  Predicted Digit          x, y, w, h            l, t, r, b\n",
       "0     0.999999                4    (63, 11, 20, 26)      (63, 11, 83, 37)\n",
       "1     0.999997                4    (63, 12, 20, 24)      (63, 12, 83, 36)\n",
       "2     0.999967                4    (66, 14, 14, 20)      (66, 14, 80, 34)\n",
       "3     0.999631                7  (128, 140, 28, 40)  (128, 140, 156, 180)\n",
       "4     0.999518                8   (29, 160, 14, 17)    (29, 160, 43, 177)\n",
       "5     0.999480                7  (129, 140, 27, 40)  (129, 140, 156, 180)\n",
       "6     0.999329                7  (129, 140, 27, 39)  (129, 140, 156, 179)\n",
       "7     0.998503                8   (28, 160, 15, 17)    (28, 160, 43, 177)\n",
       "8     0.998366                7  (129, 140, 26, 39)  (129, 140, 155, 179)\n",
       "9     0.997206                7  (131, 142, 22, 35)  (131, 142, 153, 177)"
      ]
     },
     "execution_count": 152,
     "metadata": {},
     "output_type": "execute_result"
    }
   ],
   "source": [
    "bboxes_with_score = [(digit_prob[i], digit_index[i], tuple(bboxes_xywh[i]), bboxes_ltrb[i]) for i in range(len(bboxes_xywh))]\n",
    "bboxes_with_score.sort(reverse=True)\n",
    "df = pd.DataFrame(bboxes_with_score, columns=['Probability', 'Predicted Digit', 'x, y, w, h', 'l, t, r, b'])\n",
    "df.head(n=10)"
   ]
  },
  {
   "cell_type": "markdown",
   "metadata": {},
   "source": [
    "**Exercise 6.7**\n",
    "\n",
    "Implement NMS. It should take the list `bboxes_with_score` created above and return a single bounding box per digit.\n",
    "\n",
    "- select the first box (highest prob)\n",
    "- find all the boxes that overlap with this box above a certain IoU and remove them\n",
    "- repeat this process with the remaining boxes, until no box is left."
   ]
  },
  {
   "cell_type": "code",
   "execution_count": 161,
   "metadata": {},
   "outputs": [],
   "source": [
    "def nms(bboxes_with_score):\n",
    "    selected_bboxes = []\n",
    "    while len(bboxes_with_score) > 0:\n",
    "        # Select the box with the highest score (probability)\n",
    "        best_box = bboxes_with_score[0]\n",
    "        selected_bboxes.append(best_box)\n",
    "\n",
    "        # Remove the selected box from the list\n",
    "        bboxes_with_score = bboxes_with_score[1:]\n",
    "\n",
    "        # Filter out boxes that overlap too much with the selected box\n",
    "        remaining_boxes = []\n",
    "        for box in bboxes_with_score:\n",
    "            iou = iou_calculator(best_box[3], box[3])  # Compare (l, t, r, b) format\n",
    "            if iou < 0.5:\n",
    "                remaining_boxes.append(box)\n",
    "\n",
    "        # Update the list of boxes to process\n",
    "        bboxes_with_score = remaining_boxes\n",
    "    return selected_bboxes"
   ]
  },
  {
   "cell_type": "code",
   "execution_count": 162,
   "metadata": {},
   "outputs": [
    {
     "data": {
      "text/html": [
       "<div>\n",
       "<style scoped>\n",
       "    .dataframe tbody tr th:only-of-type {\n",
       "        vertical-align: middle;\n",
       "    }\n",
       "\n",
       "    .dataframe tbody tr th {\n",
       "        vertical-align: top;\n",
       "    }\n",
       "\n",
       "    .dataframe thead th {\n",
       "        text-align: right;\n",
       "    }\n",
       "</style>\n",
       "<table border=\"1\" class=\"dataframe\">\n",
       "  <thead>\n",
       "    <tr style=\"text-align: right;\">\n",
       "      <th></th>\n",
       "      <th>Probability</th>\n",
       "      <th>Predicted Digit</th>\n",
       "      <th>x, y, w, h</th>\n",
       "      <th>l, t, r, b</th>\n",
       "    </tr>\n",
       "  </thead>\n",
       "  <tbody>\n",
       "  </tbody>\n",
       "</table>\n",
       "</div>"
      ],
      "text/plain": [
       "Empty DataFrame\n",
       "Columns: [Probability, Predicted Digit, x, y, w, h, l, t, r, b]\n",
       "Index: []"
      ]
     },
     "execution_count": 162,
     "metadata": {},
     "output_type": "execute_result"
    }
   ],
   "source": [
    "df = pd.DataFrame(selected_bboxes, columns=['Probability', 'Predicted Digit', 'x, y, w, h', 'l, t, r, b'])\n",
    "df"
   ]
  },
  {
   "cell_type": "code",
   "execution_count": 163,
   "metadata": {},
   "outputs": [
    {
     "data": {
      "text/plain": [
       "(np.float64(-0.5), np.float64(199.5), np.float64(199.5), np.float64(-0.5))"
      ]
     },
     "execution_count": 163,
     "metadata": {},
     "output_type": "execute_result"
    },
    {
     "data": {
      "image/png": "[encoded data removed]",
      "text/plain": [
       "<Figure size 1920x1440 with 1 Axes>"
      ]
     },
     "metadata": {},
     "output_type": "display_data"
    }
   ],
   "source": [
    "fig, ax = plt.subplots(dpi=300)\n",
    "ax.imshow(canvas)\n",
    "for prob, digit, (x, y, w, h), _ in selected_bboxes:\n",
    "    rect = patches.Rectangle((x, y), w, h, linewidth=1, edgecolor='r', facecolor='none')\n",
    "    ax.add_patch(rect)\n",
    "    text_on_box  = f'{digit}'\n",
    "    ax.text(x, y, text_on_box, color='white')\n",
    "ax.axis('off')"
   ]
  },
  {
   "cell_type": "markdown",
   "metadata": {},
   "source": [
    "## 6. Putting it all together"
   ]
  },
  {
   "cell_type": "code",
   "execution_count": 164,
   "metadata": {},
   "outputs": [
    {
     "name": "stdout",
     "output_type": "stream",
     "text": [
      "\u001b[1m2/2\u001b[0m \u001b[32m━━━━━━━━━━━━━━━━━━━━\u001b[0m\u001b[37m\u001b[0m \u001b[1m0s\u001b[0m 19ms/step\n"
     ]
    }
   ],
   "source": [
    "canvas = create_canvas()\n",
    "bboxes_xywh = selective_search(canvas)\n",
    "bboxes_ltrb = convert_xywh_to_ltrb(bboxes_xywh)\n",
    "detected_images = extract_and_resize_images_from_canvas(canvas, bboxes_xywh)\n",
    "digit_index, digit_prob = get_predictions(detected_images)\n",
    "bboxes_with_score = [(digit_prob[i], digit_index[i], tuple(bboxes_xywh[i]), bboxes_ltrb[i]) for i in range(len(bboxes_xywh))]\n",
    "bboxes_with_score.sort(reverse=True)\n",
    "selected_bboxes = nms(bboxes_with_score)"
   ]
  },
  {
   "cell_type": "code",
   "execution_count": 165,
   "metadata": {},
   "outputs": [
    {
     "data": {
      "text/plain": [
       "(np.float64(-0.5), np.float64(199.5), np.float64(199.5), np.float64(-0.5))"
      ]
     },
     "execution_count": 165,
     "metadata": {},
     "output_type": "execute_result"
    },
    {
     "data": {
      "image/png": "[encoded data removed]",
      "text/plain": [
       "<Figure size 1920x1440 with 1 Axes>"
      ]
     },
     "metadata": {},
     "output_type": "display_data"
    }
   ],
   "source": [
    "fig, ax = plt.subplots(dpi=300)\n",
    "ax.imshow(canvas)\n",
    "for prob, digit, (x, y, w, h), _ in selected_bboxes:\n",
    "    rect = patches.Rectangle((x, y), w, h, linewidth=1, edgecolor='r', facecolor='none')\n",
    "    ax.add_patch(rect)\n",
    "    text_on_box  = f'{digit}'\n",
    "    ax.text(x, y, text_on_box, color='white')\n",
    "ax.axis('off')"
   ]
  }
 ],
 "metadata": {
  "kernelspec": {
   "display_name": "block_b2",
   "language": "python",
   "name": "python3"
  },
  "language_info": {
   "codemirror_mode": {
    "name": "ipython",
    "version": 3
   },
   "file_extension": ".py",
   "mimetype": "text/x-python",
   "name": "python",
   "nbconvert_exporter": "python",
   "pygments_lexer": "ipython3",
   "version": "3.9.20"
  },
  "orig_nbformat": 4
 },
 "nbformat": 4,
 "nbformat_minor": 2
}
