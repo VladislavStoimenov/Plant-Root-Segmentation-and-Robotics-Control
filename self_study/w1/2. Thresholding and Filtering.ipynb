{
 "cells": [
  {
   "cell_type": "code",
   "execution_count": null,
   "metadata": {},
   "outputs": [],
   "source": [
    "import cv2\n",
    "import skimage\n",
    "\n",
    "import numpy as np\n",
    "import matplotlib.pyplot as plt"
   ]
  },
  {
   "cell_type": "markdown",
   "metadata": {},
   "source": [
    "Thresholding and filtering are fundamental concepts in the field of computer vision, playing a crucial role in image processing and analysis. Thresholding is segmenting an image into distinct regions based on pixel intensity values. This method is commonly used to separate objects of interest from their background. However, presence of noise or details that we are not interested in can hinder thresholding performance. We can use filtering to overcome this problem. Filtering, is used to enhance or suppress certain features within an image by applying various convolution operations. As you know, convolutions form the basis of CNNs. In this notebook we will first explore thresholding and then see how filtering can help improve thresholding performance. In the previous notebook you have already seen thresholding, but as you will see there is much more to it.\n",
    "\n",
    "1. Simple Thresholding\n",
    "2. Otsu Thresholding\n",
    "3. Adaptive Thresholding\n",
    "4. Filtering Images\n"
   ]
  },
  {
   "cell_type": "markdown",
   "metadata": {},
   "source": [
    "## 1. Simple Thresholding"
   ]
  },
  {
   "cell_type": "markdown",
   "metadata": {},
   "source": [
    "Previously we used logical operators (`<` and `>`) for thresholding. OpenCV has a function to do the same with additional functionality:\n",
    "\n",
    "\n",
    "```thresh, binary_im = cv2.threshold(src, thresh, maxval, type)```\n",
    "\n",
    "Parameters\n",
    "- `src`: input image\n",
    "- `thresh`: threshold value\n",
    "- `maxval`: maximum value to use with the THRESH_BINARY and THRESH_BINARY_INV thresholding types.\n",
    "- `type`: thresholding type\n",
    "\n",
    "Returns\n",
    "- `thresh`:  the threshold value that was used\n",
    "- `binary_im`: the resulting binary image after applying the thresholding operation.\n",
    "\n",
    "Read the [documentation](https://docs.opencv.org/4.x/d7/d1b/group__imgproc__misc.html#gaa9e58d2860d4afa658ef70a9b1115576) for different thresholding types.\n",
    "\n",
    "Let's take a look at the first type, `cv2.THRESH_BINARY`. In this thresholding type, all the pixel values above `thresh` are set to `maxval`, the rest are set to 0.\n",
    "\n",
    "We know that in our _coins_ image the background is 255 and the darker shades are the coins. So let's select a threshold of 250 and see what happens:\n"
   ]
  },
  {
   "cell_type": "code",
   "execution_count": null,
   "metadata": {},
   "outputs": [],
   "source": [
    "im = cv2.imread('images/coins.jpeg', 0)\n",
    "th, output_im = cv2.threshold(im, 250, 255, cv2.THRESH_BINARY)\n",
    "plt.imshow(output_im, cmap='gray')"
   ]
  },
  {
   "cell_type": "markdown",
   "metadata": {},
   "source": [
    "As you can see, thresholding indeed can help us separate objects from the background. The quality is okay but not great. There are some pixels at the edges that are set to 0 but they belong to the background causing fuziness at the edges. There are some pixels on the coin that are set to 255 but actually belong to the coin. In the other sections of this notebook, you will see how we can deal with that using filtering."
   ]
  },
  {
   "cell_type": "markdown",
   "metadata": {},
   "source": [
    "In object detection, by convention, the object you want to detect is labeled as 1 or 255 and the background as 0. We can do that with the thresholding type `cv2.THRESH_BINARY_INV`"
   ]
  },
  {
   "cell_type": "code",
   "execution_count": null,
   "metadata": {},
   "outputs": [],
   "source": [
    "im = cv2.imread('images/coins.jpeg', 0)\n",
    "th, output_im = cv2.threshold(im, 250, 255, cv2.THRESH_BINARY_INV)\n",
    "plt.imshow(output_im, cmap='gray')"
   ]
  },
  {
   "cell_type": "markdown",
   "metadata": {},
   "source": [
    "so we simply get the inverted binary image."
   ]
  },
  {
   "cell_type": "markdown",
   "metadata": {},
   "source": [
    "**Exercise 2.1**\n",
    "\n",
    "Apply `cv2.threshold()` to the cell image. Try various thresholds to find the best one that separates the cell from the background."
   ]
  },
  {
   "cell_type": "code",
   "execution_count": null,
   "metadata": {},
   "outputs": [],
   "source": [
    "im_cell = skimage.data.cell()\n",
    "plt.imshow(im_cell, cmap='gray')"
   ]
  },
  {
   "cell_type": "code",
   "execution_count": null,
   "metadata": {},
   "outputs": [],
   "source": [
    "# YOUR CODE HERE"
   ]
  },
  {
   "cell_type": "markdown",
   "metadata": {},
   "source": [
    "## 2. Otsu Thresholding"
   ]
  },
  {
   "cell_type": "markdown",
   "metadata": {},
   "source": [
    "In Exercise 2.1 you changed the threshold manually, observed the output and changed it again iteratively to find an ideal threshold. Is there a way to select a threshold automatically? This is what Otsu thresholding does so that we don't have to select the threshold ourselves. Note that this does not guarantee a better threshold compared to the one you select manually."
   ]
  },
  {
   "cell_type": "code",
   "execution_count": null,
   "metadata": {},
   "outputs": [],
   "source": [
    "th, output_im = cv2.threshold(im, 0, 255, cv2.THRESH_BINARY+cv2.THRESH_OTSU)\n",
    "plt.imshow(output_im, cmap='gray')"
   ]
  },
  {
   "cell_type": "code",
   "execution_count": null,
   "metadata": {},
   "outputs": [],
   "source": [
    "print(f'Otsu algorithm selected the following threshold: {th}')"
   ]
  },
  {
   "cell_type": "code",
   "execution_count": null,
   "metadata": {},
   "outputs": [],
   "source": [
    "# Inverted\n",
    "th, output_im = cv2.threshold(im, 0, 255, cv2.THRESH_BINARY_INV+cv2.THRESH_OTSU)\n",
    "plt.imshow(output_im, cmap='gray')"
   ]
  },
  {
   "cell_type": "markdown",
   "metadata": {},
   "source": [
    "**Exercise 2.2**\n",
    "\n",
    "Apply Otsu thresholding to the cell image and compare the threshold it returns to the threshold you selected in Exercise 2.1."
   ]
  },
  {
   "cell_type": "code",
   "execution_count": null,
   "metadata": {},
   "outputs": [],
   "source": [
    "im_cell = skimage.data.cell()\n",
    "# YOUR CODE HERE"
   ]
  },
  {
   "cell_type": "markdown",
   "metadata": {},
   "source": [
    "**Exercise 2.3**\n",
    "\n",
    "Plot the histogram of the cell image together with the threshold returned by Otsu."
   ]
  },
  {
   "cell_type": "code",
   "execution_count": null,
   "metadata": {},
   "outputs": [],
   "source": [
    "# YOUR CODE HERE"
   ]
  },
  {
   "cell_type": "markdown",
   "metadata": {},
   "source": [
    "## 3. Adaptive Thresholding"
   ]
  },
  {
   "cell_type": "markdown",
   "metadata": {},
   "source": [
    "Now what if you would like to set different thresholds to different parts of the image. You can do that with adaptive thresholding.\n",
    "\n",
    "Adaptive thresholding is especially useful when you have uniform foreground background but different illumination. Let's demonstrate that with another sample image from skimage."
   ]
  },
  {
   "cell_type": "code",
   "execution_count": null,
   "metadata": {},
   "outputs": [],
   "source": [
    "im_page = skimage.data.page()\n",
    "plt.imshow(im_page, cmap='gray')"
   ]
  },
  {
   "cell_type": "markdown",
   "metadata": {},
   "source": [
    "Let's first apply Otsu thresholding to find an optimum threshold:"
   ]
  },
  {
   "cell_type": "code",
   "execution_count": null,
   "metadata": {},
   "outputs": [],
   "source": [
    "th, output_im = cv2.threshold(im_page, 0, 255, cv2.THRESH_BINARY+cv2.THRESH_OTSU)\n",
    "plt.imshow(output_im, cmap='gray')\n",
    "print(f'The threshold is {th}')"
   ]
  },
  {
   "cell_type": "markdown",
   "metadata": {},
   "source": [
    "It worked for the right side of the image but not the left. So let's decrease the threshold to fix that, say to 120:"
   ]
  },
  {
   "cell_type": "code",
   "execution_count": null,
   "metadata": {},
   "outputs": [],
   "source": [
    "th, output_im = cv2.threshold(im_page, 120, 255, cv2.THRESH_BINARY)\n",
    "plt.imshow(output_im, cmap='gray')"
   ]
  },
  {
   "cell_type": "markdown",
   "metadata": {},
   "source": [
    "Maybe even more, let's say 80:"
   ]
  },
  {
   "cell_type": "code",
   "execution_count": null,
   "metadata": {},
   "outputs": [],
   "source": [
    "th, output_im = cv2.threshold(im_page, 80, 255, cv2.THRESH_BINARY)\n",
    "plt.imshow(output_im, cmap='gray')"
   ]
  },
  {
   "cell_type": "markdown",
   "metadata": {},
   "source": [
    "We almost fixed the issue on the left but this time we started to lose text pixels on the right side. So we need a low threshold on the left and a high threshold on the right side of the image.\n",
    "\n",
    "This is what adaptive thresholding can do, set local thresholds:"
   ]
  },
  {
   "cell_type": "code",
   "execution_count": null,
   "metadata": {},
   "outputs": [],
   "source": [
    "# Set the parameters for adaptive thresholding\n",
    "# READ THE DOCUMENTATION PLEASE\n",
    "block_size = 11  # Size of the neighborhood for thresholding\n",
    "c = 11  # Constant subtracted from the mean\n",
    "\n",
    "# Apply adaptive thresholding\n",
    "thresholded = cv2.adaptiveThreshold(im_page, 255, cv2.ADAPTIVE_THRESH_MEAN_C, cv2.THRESH_BINARY, block_size, c)\n",
    "\n",
    "plt.imshow(thresholded, cmap='gray')"
   ]
  },
  {
   "cell_type": "markdown",
   "metadata": {},
   "source": [
    "Much better! There are more thresholding methods. If one of these 3 methods don't work for you, take a look into other options.\n",
    "\n",
    "In fact, scikit-image has a function that tries a bunch of different thresholding methods at once:"
   ]
  },
  {
   "cell_type": "code",
   "execution_count": null,
   "metadata": {},
   "outputs": [],
   "source": [
    "from skimage.filters import try_all_threshold\n",
    "fig, ax = try_all_threshold(im_page, figsize=(10, 8), verbose=False)"
   ]
  },
  {
   "cell_type": "markdown",
   "metadata": {},
   "source": [
    "but as you can see our adaptive approach worked better."
   ]
  },
  {
   "cell_type": "markdown",
   "metadata": {},
   "source": [
    "## 4. Filtering Images"
   ]
  },
  {
   "cell_type": "markdown",
   "metadata": {},
   "source": [
    "Now let's get back to the issue I mentioned in the very first thresholding example:"
   ]
  },
  {
   "cell_type": "code",
   "execution_count": null,
   "metadata": {},
   "outputs": [],
   "source": [
    "im = cv2.imread('images/coins.jpeg', 0)\n",
    "th, output_im = cv2.threshold(im, 250, 255, cv2.THRESH_BINARY)\n",
    "plt.imshow(output_im, cmap='gray')"
   ]
  },
  {
   "cell_type": "markdown",
   "metadata": {},
   "source": [
    "and zoom into the top left coin to see what is happening:"
   ]
  },
  {
   "cell_type": "code",
   "execution_count": null,
   "metadata": {},
   "outputs": [],
   "source": [
    "fig, ax = plt.subplots(1, 2, dpi=200)\n",
    "ax[0].imshow(im[10:90, 20:100], cmap='gray')\n",
    "ax[0].axis('off')\n",
    "ax[1].imshow(output_im[10:90, 20:100], cmap='gray')\n",
    "ax[1].axis('off')"
   ]
  },
  {
   "cell_type": "markdown",
   "metadata": {},
   "source": [
    "- some pixel that belong to the background has gray shades, which means they are below the 250 threshold\n",
    "- some pixel on the coin are very bright hence they have pixel values above 250.\n",
    "\n",
    "But these pixels are only a few pixels and we can use a kernel to average them out. In others words, notice how these pixels are surrounded by the other type of pixels: a few white coin pixels are surrounded by many black coin pixels and vice versa. So if we can take the average of these pixels and set them all equal to the average, they will smoothen out.\n",
    "\n",
    "There are many ways to do that and in Block C you have already learned about some filters. Let's start with a simple one: median blur. All the pixels in a kernel region will be replaced by their median value."
   ]
  },
  {
   "cell_type": "code",
   "execution_count": null,
   "metadata": {},
   "outputs": [],
   "source": [
    "im_blur = cv2.medianBlur(im, 5)\n",
    "plt.imshow(im_blur, cmap='gray')"
   ]
  },
  {
   "cell_type": "markdown",
   "metadata": {},
   "source": [
    "notice how the coins are blurred but the edges are still sharp. Let's take a closer look to the original image and the blurred version:"
   ]
  },
  {
   "cell_type": "code",
   "execution_count": null,
   "metadata": {},
   "outputs": [],
   "source": [
    "fig, ax = plt.subplots(1, 2, dpi=200)\n",
    "ax[0].imshow(im[10:90, 20:100], cmap='gray')\n",
    "ax[0].axis('off')\n",
    "ax[1].imshow(im_blur[10:90, 20:100], cmap='gray')\n",
    "ax[1].axis('off')"
   ]
  },
  {
   "cell_type": "markdown",
   "metadata": {},
   "source": [
    "Indeed now gray areas in the background are much whiter and white areas on the coin are darker. Let's see what happens with thresholding:"
   ]
  },
  {
   "cell_type": "code",
   "execution_count": null,
   "metadata": {},
   "outputs": [],
   "source": [
    "th, output_im_blur = cv2.threshold(im_blur, 250, 255, cv2.THRESH_BINARY)"
   ]
  },
  {
   "cell_type": "code",
   "execution_count": null,
   "metadata": {},
   "outputs": [],
   "source": [
    "fig, ax = plt.subplots(2, 2, dpi=200)\n",
    "ax[0, 0].imshow(im[10:90, 20:100], cmap='gray')\n",
    "ax[0, 0].axis('off')\n",
    "ax[0, 0].set_title('Raw Img')\n",
    "ax[0, 1].imshow(output_im[10:90, 20:100], cmap='gray')\n",
    "ax[0, 1].axis('off')\n",
    "ax[0, 1].set_title('Raw Img thresholded')\n",
    "ax[1, 0].imshow(im_blur[10:90, 20:100], cmap='gray')\n",
    "ax[1, 0].axis('off')\n",
    "ax[1, 0].set_title('Blurred Img')\n",
    "ax[1, 1].imshow(output_im_blur[10:90, 20:100], cmap='gray')\n",
    "ax[1, 1].axis('off')\n",
    "ax[1, 1].set_title('Blurred Img thresholded')"
   ]
  },
  {
   "cell_type": "markdown",
   "metadata": {},
   "source": [
    "as you can see the foreground and the background is separated clearly."
   ]
  },
  {
   "cell_type": "code",
   "execution_count": null,
   "metadata": {},
   "outputs": [],
   "source": [
    "plt.imshow(output_im_blur, cmap='gray')"
   ]
  },
  {
   "cell_type": "markdown",
   "metadata": {},
   "source": [
    "There other spatial filters you can try (e.g. `cv2.GaussianBlur`) refer to the OpenCV documentation. But you are not limited to the kernels these operations provide. You can convolve any kernel over the image as follows:"
   ]
  },
  {
   "cell_type": "code",
   "execution_count": null,
   "metadata": {},
   "outputs": [],
   "source": [
    "im = cv2.imread('images/coins.jpeg', 0)"
   ]
  },
  {
   "cell_type": "code",
   "execution_count": null,
   "metadata": {},
   "outputs": [],
   "source": [
    "plt.imshow(im, cmap='gray')"
   ]
  },
  {
   "cell_type": "code",
   "execution_count": null,
   "metadata": {},
   "outputs": [],
   "source": [
    "kernel = np.ones((5, 5))/25\n",
    "kernel"
   ]
  },
  {
   "cell_type": "code",
   "execution_count": null,
   "metadata": {},
   "outputs": [],
   "source": [
    "# when ddepth=-1, the output image will have the same depth as the source.\n",
    "output = cv2.filter2D(im, -1, kernel)\n",
    "plt.imshow(output, cmap='gray')"
   ]
  },
  {
   "cell_type": "markdown",
   "metadata": {},
   "source": [
    "What we have covered so far is called spatial filtering. There is also frequency filtering, which is not covered in this notebook but it is important be aware of its existence."
   ]
  },
  {
   "cell_type": "markdown",
   "metadata": {},
   "source": [
    "**Exercise 2.4**\n",
    "\n",
    "Apply median and gaussian filtering to the camera image."
   ]
  },
  {
   "cell_type": "code",
   "execution_count": null,
   "metadata": {},
   "outputs": [],
   "source": [
    "im_camera = skimage.data.camera()\n",
    "plt.imshow(im_camera, cmap='gray')"
   ]
  },
  {
   "cell_type": "code",
   "execution_count": null,
   "metadata": {},
   "outputs": [],
   "source": [
    "# YOUR CODE HERE"
   ]
  }
 ],
 "metadata": {
  "kernelspec": {
   "display_name": "y2b",
   "language": "python",
   "name": "python3"
  },
  "language_info": {
   "codemirror_mode": {
    "name": "ipython",
    "version": 3
   },
   "file_extension": ".py",
   "mimetype": "text/x-python",
   "name": "python",
   "nbconvert_exporter": "python",
   "pygments_lexer": "ipython3",
   "version": "3.8.16"
  },
  "orig_nbformat": 4
 },
 "nbformat": 4,
 "nbformat_minor": 2
}
