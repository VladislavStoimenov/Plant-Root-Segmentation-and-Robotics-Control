{
 "cells": [
  {
   "cell_type": "code",
   "execution_count": null,
   "metadata": {},
   "outputs": [],
   "source": [
    "import cv2\n",
    "import skimage\n",
    "\n",
    "import matplotlib.pyplot as plt\n",
    "import numpy as np"
   ]
  },
  {
   "cell_type": "markdown",
   "metadata": {},
   "source": [
    "Time to combine everything you have learned so far for image segmentation. Let's segment our coins image using two approaches."
   ]
  },
  {
   "cell_type": "markdown",
   "metadata": {},
   "source": [
    "## 1. Region based segmentation"
   ]
  },
  {
   "cell_type": "code",
   "execution_count": null,
   "metadata": {},
   "outputs": [],
   "source": [
    "im = cv2.imread('images/coins.jpeg', 0)\n",
    "im = cv2.medianBlur(im, 5)\n",
    "th, output_im = cv2.threshold(im, 250, 255, cv2.THRESH_BINARY_INV)\n",
    "plt.imshow(output_im, cmap='gray')"
   ]
  },
  {
   "cell_type": "code",
   "execution_count": null,
   "metadata": {},
   "outputs": [],
   "source": [
    "retval, labels, stats, centroids = cv2.connectedComponentsWithStats(output_im)\n",
    "plt.imshow(labels)"
   ]
  },
  {
   "cell_type": "markdown",
   "metadata": {},
   "source": [
    "Let's look at the stats:"
   ]
  },
  {
   "cell_type": "code",
   "execution_count": null,
   "metadata": {},
   "outputs": [],
   "source": [
    "# x, y, w, h, area\n",
    "stats"
   ]
  },
  {
   "cell_type": "markdown",
   "metadata": {},
   "source": [
    "First row is the background, the 8 rows that follow belong to each coin. How about the final row?\n",
    "\n",
    "`[435, 202, 1, 2, 2]`\n",
    "\n",
    "It is a 2 pixel object. It is so small that we cannot see it, but we can zoom in."
   ]
  },
  {
   "cell_type": "code",
   "execution_count": null,
   "metadata": {},
   "outputs": [],
   "source": [
    "x, y = centroids[-1]\n",
    "x = int(x)\n",
    "y = int(y)\n",
    "print(f'The center of the object is {x, y}')"
   ]
  },
  {
   "cell_type": "markdown",
   "metadata": {},
   "source": [
    "So let's display 40 x 40 region centered around (435, 202)"
   ]
  },
  {
   "cell_type": "code",
   "execution_count": null,
   "metadata": {},
   "outputs": [],
   "source": [
    "plt.imshow(output_im[y-20:y+20, x-20:x+20], cmap='gray')"
   ]
  },
  {
   "cell_type": "markdown",
   "metadata": {},
   "source": [
    "It seems these 2 pixels slipped through the blurring operation. We can do the following:\n",
    "\n",
    "1. Filter connected components using the area from the stats array.\n",
    "\n",
    "or we can do the following before calling connected components:\n",
    "\n",
    "2. Erosion + Dilation\n",
    "3. Use more blurring.\n",
    "4. Change the threshold.\n",
    "\n",
    "The optimal approach depends on the application. When processing images, you will encounter such situations frequently. You need to be able to figure out possible ways to deal with it, try a few and decide which one is optimal for your use case."
   ]
  },
  {
   "cell_type": "code",
   "execution_count": null,
   "metadata": {},
   "outputs": [],
   "source": [
    "# Let's do a quick try to see if we can get rid of it with erosion\n",
    "kernel = np.ones((3, 3), np.uint8)\n",
    "trial_output = cv2.erode(output_im, kernel, iterations=1)\n",
    "plt.imshow(trial_output[y-20:y+20, x-20:x+20], cmap='gray')"
   ]
  },
  {
   "cell_type": "markdown",
   "metadata": {},
   "source": [
    "It worked! Next step is to use dilation so that we keep the original coin size. Let's put all this together:"
   ]
  },
  {
   "cell_type": "code",
   "execution_count": null,
   "metadata": {},
   "outputs": [],
   "source": [
    "im = cv2.imread('images/coins.jpeg', 0)\n",
    "im = cv2.medianBlur(im, 5)\n",
    "th, output_im = cv2.threshold(im, 250, 255, cv2.THRESH_BINARY_INV)\n",
    "kernel = np.ones((3, 3), np.uint8)\n",
    "output_im = cv2.erode(output_im, kernel, iterations=1)\n",
    "output_im = cv2.dilate(output_im, kernel, iterations=1)\n",
    "plt.imshow(output_im, cmap='gray')"
   ]
  },
  {
   "cell_type": "code",
   "execution_count": null,
   "metadata": {},
   "outputs": [],
   "source": [
    "retval, labels, stats, centroids = cv2.connectedComponentsWithStats(output_im)\n",
    "plt.imshow(labels)"
   ]
  },
  {
   "cell_type": "code",
   "execution_count": null,
   "metadata": {},
   "outputs": [],
   "source": [
    "stats"
   ]
  },
  {
   "cell_type": "markdown",
   "metadata": {},
   "source": [
    "now we have 9 components as expected: background + 8 coins. You can also draw bounding boxes on the original image."
   ]
  },
  {
   "cell_type": "code",
   "execution_count": null,
   "metadata": {},
   "outputs": [],
   "source": [
    "im = cv2.imread('images/coins.jpeg')\n",
    "for i in range(1, len(stats)):\n",
    "    x, y, w, h, _ = stats[i]\n",
    "    im = cv2.rectangle(im, (x, y), (x+w, y+h), (0, 0, 255), 2)\n",
    "im = cv2.cvtColor(im, cv2.COLOR_BGR2RGB)\n",
    "plt.imshow(im)"
   ]
  },
  {
   "cell_type": "markdown",
   "metadata": {},
   "source": [
    "### An alternative"
   ]
  },
  {
   "cell_type": "code",
   "execution_count": null,
   "metadata": {},
   "outputs": [],
   "source": [
    "im = cv2.imread('images/coins.jpeg', 0)\n",
    "im = cv2.medianBlur(im, 5)\n",
    "th, output_im = cv2.threshold(im, 250, 255, cv2.THRESH_BINARY_INV)\n",
    "retval, labels, stats, centroids = cv2.connectedComponentsWithStats(output_im)\n",
    "x, y = centroids[-1]\n",
    "x = int(x)\n",
    "y = int(y)\n",
    "plt.imshow(output_im[y-20:y+20, x-20:x+20], cmap='gray')"
   ]
  },
  {
   "cell_type": "code",
   "execution_count": null,
   "metadata": {},
   "outputs": [],
   "source": [
    "# skimage has a function called remove_small_objects\n",
    "alternative = skimage.morphology.remove_small_objects(labels)\n",
    "plt.imshow(alternative[y-20:y+20, x-20:x+20], cmap='gray')"
   ]
  },
  {
   "cell_type": "markdown",
   "metadata": {},
   "source": [
    "## 2. Edge based segmentation"
   ]
  },
  {
   "cell_type": "code",
   "execution_count": null,
   "metadata": {},
   "outputs": [],
   "source": [
    "im = cv2.imread('images/coins.jpeg', 0)\n",
    "im = cv2.GaussianBlur(im, (13, 13), 0)\n",
    "edges = cv2.Canny(im, threshold1=100, threshold2=240)\n",
    "plt.imshow(edges, cmap='gray')"
   ]
  },
  {
   "cell_type": "code",
   "execution_count": null,
   "metadata": {},
   "outputs": [],
   "source": [
    "contours, hierarchy = cv2.findContours(edges, mode=cv2.RETR_EXTERNAL, method=cv2.CHAIN_APPROX_SIMPLE)\n",
    "im = cv2.imread('images/coins.jpeg')\n",
    "im = cv2.drawContours(im, contours, contourIdx=-1, color=(0, 255, 0), thickness=2)\n",
    "im = cv2.cvtColor(im, cv2.COLOR_BGR2RGB)\n",
    "plt.imshow(im, cmap='gray')"
   ]
  },
  {
   "cell_type": "markdown",
   "metadata": {},
   "source": [
    "**Exercise 5.1**\n",
    "\n",
    "scikit-image has a coins image as well. Find the coins. Expected output:\n",
    "\n",
    "<img src='images/coins_skimage_exercise.png'>\n",
    "\n",
    "Hint: https://docs.opencv.org/4.x/d3/d05/tutorial_py_table_of_contents_contours.html read this again if needed."
   ]
  },
  {
   "cell_type": "code",
   "execution_count": null,
   "metadata": {},
   "outputs": [],
   "source": [
    "im_coins = skimage.data.coins()\n",
    "plt.imshow(im_coins, cmap='gray')"
   ]
  },
  {
   "cell_type": "code",
   "execution_count": null,
   "metadata": {},
   "outputs": [],
   "source": [
    "# YOUR CODE HERE"
   ]
  },
  {
   "cell_type": "markdown",
   "metadata": {},
   "source": [
    "## 3. Moving forward"
   ]
  },
  {
   "cell_type": "markdown",
   "metadata": {},
   "source": [
    "You have learned a lot this week congrats! We will move on towards deep learning in the upcoming weeks. However, note that the traditional methods covered here are not exhaustive. Take a look at the following to be familiar with the additional methods that are not covered here but useful:\n",
    "\n",
    "https://scikit-image.org/docs/stable/auto_examples/segmentation/index.html\n",
    "\n",
    "https://scikit-image.org/docs/stable/auto_examples/features_detection/index.html\n",
    "\n",
    "https://scikit-image.org/docs/stable/auto_examples/applications/index.html\n",
    "\n",
    "https://docs.opencv.org/4.x/d1/dc5/tutorial_background_subtraction.html\n",
    "\n"
   ]
  }
 ],
 "metadata": {
  "kernelspec": {
   "display_name": "y2b",
   "language": "python",
   "name": "python3"
  },
  "language_info": {
   "codemirror_mode": {
    "name": "ipython",
    "version": 3
   },
   "file_extension": ".py",
   "mimetype": "text/x-python",
   "name": "python",
   "nbconvert_exporter": "python",
   "pygments_lexer": "ipython3",
   "version": "3.8.16"
  },
  "orig_nbformat": 4
 },
 "nbformat": 4,
 "nbformat_minor": 2
}
