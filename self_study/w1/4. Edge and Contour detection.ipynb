{
 "cells": [
  {
   "cell_type": "code",
   "execution_count": null,
   "metadata": {},
   "outputs": [],
   "source": [
    "import cv2\n",
    "import skimage\n",
    "\n",
    "import matplotlib.pyplot as plt\n",
    "import numpy as np"
   ]
  },
  {
   "cell_type": "markdown",
   "metadata": {},
   "source": [
    "So far our focus has been the regions such as foreground and background. How about the boundary between them, the edges? Edge detection is an effective method for finding regions.\n",
    "\n",
    "1. What is an edge?\n",
    "2. Canny edge detection\n",
    "3. Contours"
   ]
  },
  {
   "cell_type": "markdown",
   "metadata": {},
   "source": [
    "## 1. What is an edge?"
   ]
  },
  {
   "cell_type": "markdown",
   "metadata": {},
   "source": [
    "But what is an edge and how can we find it?\n",
    "\n",
    "Let's go back to the previous example where we plotted the cross section of a coin:"
   ]
  },
  {
   "cell_type": "code",
   "execution_count": null,
   "metadata": {},
   "outputs": [],
   "source": [
    "# Let's find a line that cuts the penny in half\n",
    "im = cv2.imread('images/coins.jpeg', 0)\n",
    "\n",
    "fig, ax = plt.subplots(2)\n",
    "\n",
    "ax[0].imshow(im, cmap='gray')\n",
    "ax[0].plot([450, 600], [88, 88])\n",
    "ax[0].axis('off')\n",
    "\n",
    "ax[1].plot(im[88, 450:600])\n",
    "ax[1].set_ylabel('Pixel value')\n",
    "ax[1].set_xlabel('Pixel location on the blue line')"
   ]
  },
  {
   "cell_type": "markdown",
   "metadata": {},
   "source": [
    "Edges are the locations where pixel value changes very abruptly. Whenever you hear change, you should think about the derivate. Positive derivate means pixel value increases (coin to background) and negative derivative means pixel value decreases (background to coin).\n",
    "\n",
    "Let's approximate the derivative using numpy, find max-min values to detect edges:"
   ]
  },
  {
   "cell_type": "code",
   "execution_count": null,
   "metadata": {},
   "outputs": [],
   "source": [
    "# Approximate gradient\n",
    "derivative = np.gradient(im[88, 450:600])\n",
    "\n",
    "# Find min point\n",
    "y_min = min(derivative)\n",
    "x_min = np.argmin(derivative)\n",
    "\n",
    "# Find max point\n",
    "y_max = max(derivative)\n",
    "x_max = np.argmax(derivative)\n",
    "\n",
    "# plot all\n",
    "plt.plot(derivative)\n",
    "plt.scatter(x_min, y_min, color='r')\n",
    "plt.scatter(x_max, y_max, color='r')\n",
    "plt.ylabel('Derivate of the pixel values')\n",
    "plt.xlabel('Pixel location on the blue line')"
   ]
  },
  {
   "cell_type": "markdown",
   "metadata": {},
   "source": [
    "So we answered the questions we asked at the beginning of this section: an edge is a location where pixel value changes abruptly and this can be detected using the derivative."
   ]
  },
  {
   "cell_type": "markdown",
   "metadata": {},
   "source": [
    "## 2. Canny edge detection"
   ]
  },
  {
   "cell_type": "markdown",
   "metadata": {},
   "source": [
    "In 1986, John F. Canny developed an edge detection algorithm based on the idea we described in the previous section. It is one of the most popular edge detection algorithms and it is called Canny edge detector. Please read the following to understand how it works and to understand how to use it with OpenCV:\n",
    "\n",
    "- [The Wikipedia article](https://en.wikipedia.org/wiki/Canny_edge_detector)\n",
    "- [The OpenCV documentation](https://docs.opencv.org/4.x/da/d22/tutorial_py_canny.html)\n",
    "\n",
    "`edges = cv2.Canny(image, threshold1, threshold2)`\n",
    "\n",
    "Parameters:\n",
    "- image: 8-bit input image.\n",
    "- threshold1: first threshold for the hysteresis procedure.\n",
    "- threshold2: second threshold for the hysteresis procedure.\n",
    "\n",
    "Returns:\n",
    "- edges: output edge map, a binary image where pixels that belong to an edge has 255 intensity value and 0 otherwise.\n",
    "\n",
    "Different images will require different thresholds, therefore understanding what they are is indispensable(explained in the OpenCV documentation).\n"
   ]
  },
  {
   "cell_type": "code",
   "execution_count": null,
   "metadata": {},
   "outputs": [],
   "source": [
    "im = cv2.imread('images/coins.jpeg', 0)\n",
    "im = cv2.GaussianBlur(im, (13, 13), 0)\n",
    "edges = cv2.Canny(im, threshold1=100, threshold2=240)\n",
    "plt.imshow(edges, cmap='gray')"
   ]
  },
  {
   "cell_type": "markdown",
   "metadata": {},
   "source": [
    "Great, we have found all the coin edges! Notice that there is one edge inside a coin which we don't want. This could potentially be removed by blurring parameters or edge detection parameters. We will learn how to deal with it in the next section. "
   ]
  },
  {
   "cell_type": "code",
   "execution_count": null,
   "metadata": {},
   "outputs": [],
   "source": [
    "# Binary image\n",
    "np.unique(edges)"
   ]
  },
  {
   "cell_type": "markdown",
   "metadata": {},
   "source": [
    "**Exercise 4.1**\n",
    "\n",
    "Find the edges in the cell image. Expected output:\n",
    "\n",
    "<img src='images/cell_canny_exercise.png'>"
   ]
  },
  {
   "cell_type": "code",
   "execution_count": null,
   "metadata": {},
   "outputs": [],
   "source": [
    "im_cell = skimage.data.cell()\n",
    "plt.imshow(im_cell, cmap='gray')"
   ]
  },
  {
   "cell_type": "code",
   "execution_count": null,
   "metadata": {},
   "outputs": [],
   "source": [
    "# YOUR CODE HERE"
   ]
  },
  {
   "cell_type": "markdown",
   "metadata": {},
   "source": [
    "## 3. Contours"
   ]
  },
  {
   "cell_type": "markdown",
   "metadata": {},
   "source": [
    "Edge detection tells us if a pixel belongs to an edge, but it does not tell us anything about which edge pixels are connected.\n",
    "\n",
    "A contour is connected edge pixels. Using OpenCV, we can find contours on the edge image.\n",
    "\n",
    "Read the following tutorial to understand contours in OpenCV:\n",
    "\n",
    "https://docs.opencv.org/4.x/d3/d05/tutorial_py_table_of_contents_contours.html\n",
    "\n",
    "`contours, hierarchy = cv2.findContours(image, mode, method)`\n",
    "\n",
    "Parameters:\n",
    "\n",
    "- `image`: 8-bit single channel image, preferable to use a binary image.\n",
    "- `mode`: Contour retrieval mode, see [RetrievalModes](https://docs.opencv.org/4.x/d3/dc0/group__imgproc__shape.html#ga819779b9857cc2f8601e6526a3a5bc71)\n",
    "- `method`: Contour approximation method, see [ContourApproximationModes](https://docs.opencv.org/4.x/d3/dc0/group__imgproc__shape.html#ga4303f45752694956374734a03c54d5ff)\n",
    "\n",
    "Returns:\n",
    "\n",
    "- `contours`: A tuple containing detected contours. Each contour is a numpy array containing the contour points.\n",
    "- `hierarcy`: Contour Hierarchy\n",
    "\n",
    "Now let's find contours with `cv2.RETR_LIST` which 'retrieves all of the contours without establishing any hierarchical relationships' and `cv2.CHAIN_APPROX_SIMPLE` which 'compresses horizontal, vertical, and diagonal segments and leaves only their end points'."
   ]
  },
  {
   "cell_type": "code",
   "execution_count": null,
   "metadata": {},
   "outputs": [],
   "source": [
    "contours, hierarchy = cv2.findContours(edges, mode=cv2.RETR_LIST, method=cv2.CHAIN_APPROX_SIMPLE)"
   ]
  },
  {
   "cell_type": "markdown",
   "metadata": {},
   "source": [
    "Most of the time, the output of an operation was an image as well so we could just display it. However `contours` is a tuple with each contour encoded as point coordinates. OpenCV provides `cv2.drawContours()` to draw contours easily. Read the [documentation](https://docs.opencv.org/4.x/d6/d6e/group__imgproc__draw.html#ga746c0625f1781f1ffc9056259103edbc) to understand its parameters."
   ]
  },
  {
   "cell_type": "code",
   "execution_count": null,
   "metadata": {},
   "outputs": [],
   "source": [
    "im = cv2.imread('images/coins.jpeg')\n",
    "im = cv2.drawContours(im, contours, contourIdx=-1, color=(0, 255, 0), thickness=2)\n",
    "im = cv2.cvtColor(im, cv2.COLOR_BGR2RGB)\n",
    "plt.imshow(im, cmap='gray')"
   ]
  },
  {
   "cell_type": "markdown",
   "metadata": {},
   "source": [
    "`contourIdx=-1` draws all the contours. We can select individual contours using their id:"
   ]
  },
  {
   "cell_type": "code",
   "execution_count": null,
   "metadata": {},
   "outputs": [],
   "source": [
    "im = cv2.imread('images/coins.jpeg')\n",
    "im = cv2.drawContours(im, contours, contourIdx=0, color=(0, 255, 0), thickness=2)\n",
    "im = cv2.cvtColor(im, cv2.COLOR_BGR2RGB)\n",
    "plt.imshow(im, cmap='gray')"
   ]
  },
  {
   "cell_type": "markdown",
   "metadata": {},
   "source": [
    "Remember the edge we discussed before that is inside the coin:"
   ]
  },
  {
   "cell_type": "code",
   "execution_count": null,
   "metadata": {},
   "outputs": [],
   "source": [
    "im = cv2.imread('images/coins.jpeg')\n",
    "im = cv2.drawContours(im, contours, contourIdx=8, color=(0, 255, 0), thickness=2)\n",
    "im = cv2.cvtColor(im, cv2.COLOR_BGR2RGB)\n",
    "plt.imshow(im, cmap='gray')"
   ]
  },
  {
   "cell_type": "markdown",
   "metadata": {},
   "source": [
    "The good thing about converting edges to contours is we can now use contour properties to filter such unwanted contours, using the `mode` parameter. How?\n",
    "\n",
    "- `cv2.RETR_EXTERNAL` retrieves only the extreme outer contours.\n",
    "\n",
    "Exactly what we need!"
   ]
  },
  {
   "cell_type": "code",
   "execution_count": null,
   "metadata": {},
   "outputs": [],
   "source": [
    "contours, hierarchy = cv2.findContours(edges, mode=cv2.RETR_EXTERNAL, method=cv2.CHAIN_APPROX_SIMPLE)\n",
    "im = cv2.imread('images/coins.jpeg')\n",
    "im = cv2.drawContours(im, contours, contourIdx=-1, color=(0, 255, 0), thickness=2)\n",
    "im = cv2.cvtColor(im, cv2.COLOR_BGR2RGB)\n",
    "plt.imshow(im, cmap='gray')"
   ]
  },
  {
   "cell_type": "markdown",
   "metadata": {},
   "source": [
    "and it worked like a charm 💃"
   ]
  },
  {
   "cell_type": "markdown",
   "metadata": {},
   "source": [
    "**Exercise 4.2**\n",
    "\n",
    "Using the edges you found in Exercise 4.2, find and plot the contours. Expected output:\n",
    "\n",
    "<img src='images/cell_contours_exercise.png'>"
   ]
  },
  {
   "cell_type": "code",
   "execution_count": null,
   "metadata": {},
   "outputs": [],
   "source": [
    "im_cell = skimage.data.cell()\n",
    "plt.imshow(im_cell, cmap='gray')"
   ]
  },
  {
   "cell_type": "code",
   "execution_count": null,
   "metadata": {},
   "outputs": [],
   "source": [
    "# YOUR CODE HERE"
   ]
  }
 ],
 "metadata": {
  "kernelspec": {
   "display_name": "y2b",
   "language": "python",
   "name": "python3"
  },
  "language_info": {
   "codemirror_mode": {
    "name": "ipython",
    "version": 3
   },
   "file_extension": ".py",
   "mimetype": "text/x-python",
   "name": "python",
   "nbconvert_exporter": "python",
   "pygments_lexer": "ipython3",
   "version": "3.8.16"
  },
  "orig_nbformat": 4
 },
 "nbformat": 4,
 "nbformat_minor": 2
}
