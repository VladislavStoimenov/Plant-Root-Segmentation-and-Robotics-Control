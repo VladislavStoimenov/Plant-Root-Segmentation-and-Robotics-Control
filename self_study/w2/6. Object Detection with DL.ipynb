{
 "cells": [
  {
   "cell_type": "markdown",
   "metadata": {},
   "source": [
    "# 6. Object Detection with DL\n",
    "\n",
    "Outline:\n",
    "\n",
    "1. Creating an image with multiple MNIST digits\n",
    "2. Train a multiclass CNN on MNIST\n",
    "3. Selective Search for Object Recognition\n",
    "4. Get predictions on each detected object bounding box\n",
    "5. Non-maximum supression\n",
    "6. Putting it all together\n",
    "\n",
    "In this notebook you will learn the fundamentals of object detection with Region-based Convolutional Neural Networks (R-CNNs). R-CNNs combine region proposals with convolutional neural networks (CNNs). They use selective search to first identify potential object regions in an image and then apply CNNs to classify these regions. R-CNNs have evolved into faster and more efficient versions, like Fast R-CNN and Faster R-CNN, which streamline the process and improve computational efficiency.\n",
    "\n",
    "The other prominent object detection approach is YOLO (You Only Look Once), which divides the image into a grid and predicts bounding boxes and class probabilities for these boxes in a single pass through the neural network. This makes YOLO extremely fast, as it processes the entire image in one go. YOLO also have evolved, indicated by a version number (YOLO v2, v3 etc.)\n",
    "\n",
    "For real time object detection, a YOLO based approach is preferred. For accuracy, an R-CNN based approach is preferred.\n",
    "\n",
    "In this notebook we will cover the basic R-CNN. If you want to extend your knowledge in object detection, take a look at Fast and Faster R-CNN as well as YOLO.\n",
    "\n",
    "We will create an image based on MNIST that contains 4 digits. Then, we will implement an R-CNN and run it on this image.\n",
    "\n",
    "<img src='images/rcnn_output.png' width=600>"
   ]
  },
  {
   "cell_type": "markdown",
   "metadata": {},
   "source": [
    "## 1. Creating an image with multiple MNIST digits"
   ]
  },
  {
   "cell_type": "code",
   "execution_count": 1,
   "metadata": {},
   "outputs": [],
   "source": [
    "import cv2\n",
    "\n",
    "import matplotlib.pyplot as plt\n",
    "import numpy as np\n",
    "import pandas as pd\n",
    "\n",
    "from tensorflow import keras\n",
    "\n",
    "(x_train, y_train), (x_test, y_test) = keras.datasets.mnist.load_data()"
   ]
  },
  {
   "cell_type": "code",
   "execution_count": 2,
   "metadata": {},
   "outputs": [],
   "source": [
    "x_test_canvas = x_test.copy()"
   ]
  },
  {
   "cell_type": "code",
   "execution_count": 3,
   "metadata": {},
   "outputs": [],
   "source": [
    "def create_canvas():\n",
    "    canvas_size = 200\n",
    "    canvas_mid = int(canvas_size/2)\n",
    "    \n",
    "    # black canvas\n",
    "    canvas = np.zeros((canvas_size, canvas_size))\n",
    "\n",
    "    for i in range(2):\n",
    "        for j in range(2):\n",
    "            # select a random digit\n",
    "            random_id = np.random.randint(0, 10000)\n",
    "            random_digit_image = x_test_canvas[random_id]\n",
    "            # resize it\n",
    "            random_size = np.random.randint(14, 56)\n",
    "            random_digit_image = cv2.resize(random_digit_image, (random_size, random_size), interpolation = cv2.INTER_AREA)\n",
    "            # place it on the canvas\n",
    "            # one image in each quadrant\n",
    "            random_x = np.random.randint(canvas_mid*i, canvas_mid*i + canvas_mid - random_size)\n",
    "            random_y = np.random.randint(canvas_mid*j, canvas_mid*j + canvas_mid - random_size)\n",
    "            canvas[random_y:random_y+random_size, random_x:random_x+random_size] = random_digit_image\n",
    "\n",
    "    # convert it to 3 channel\n",
    "    # because selective search requires 3 channels\n",
    "    canvas = np.stack((canvas,)*3, axis=-1)\n",
    "    canvas = canvas.astype(dtype=np.uint8)\n",
    "    return canvas"
   ]
  },
  {
   "cell_type": "code",
   "execution_count": 4,
   "metadata": {},
   "outputs": [
    {
     "data": {
      "text/plain": [
       "<matplotlib.image.AxesImage at 0x2ed4eafd0>"
      ]
     },
     "execution_count": 4,
     "metadata": {},
     "output_type": "execute_result"
    },
    {
     "data": {
      "image/png": "[encoded data removed]",
      "text/plain": [
       "<Figure size 640x480 with 1 Axes>"
      ]
     },
     "metadata": {},
     "output_type": "display_data"
    }
   ],
   "source": [
    "# Run this cell a few times to see different outputs\n",
    "canvas = create_canvas()\n",
    "plt.imshow(canvas)"
   ]
  },
  {
   "cell_type": "markdown",
   "metadata": {},
   "source": [
    "## 2. Train a multiclass CNN on MNIST."
   ]
  },
  {
   "cell_type": "markdown",
   "metadata": {},
   "source": [
    "**Exercise 6.1**\n",
    "\n",
    "You have learned how to build a CNN for classification in Y1C. Build one for the MNIST dataset. Use data augmentation with horizontal/vertical shifts as well as zoom ins and outs. This will be helpful because selective search might not return a bounding box where the digit is at the center, and digit size can be slightly different.\n",
    "\n",
    "The model I developed obtained an accuracy between 98-99 % on the test set. The example results in the next sections will come from this model."
   ]
  },
  {
   "cell_type": "code",
   "execution_count": 5,
   "metadata": {},
   "outputs": [],
   "source": [
    "from tensorflow.keras import layers\n",
    "from keras.preprocessing.image import ImageDataGenerator"
   ]
  },
  {
   "cell_type": "code",
   "execution_count": 6,
   "metadata": {},
   "outputs": [],
   "source": [
    "from keras.datasets import mnist\n",
    "from keras.models import Sequential\n",
    "from keras.layers import Dense, Conv2D, Flatten, MaxPooling2D\n",
    "\n",
    "from tensorflow.keras.utils import to_categorical\n",
    "import numpy as np"
   ]
  },
  {
   "cell_type": "code",
   "execution_count": null,
   "metadata": {},
   "outputs": [],
   "source": [
    "# YOUR CODE HERE"
   ]
  },
  {
   "cell_type": "code",
   "execution_count": 12,
   "metadata": {},
   "outputs": [
    {
     "name": "stdout",
     "output_type": "stream",
     "text": [
      "Test loss: 0.04252241179347038\n",
      "Test accuracy: 0.986299991607666\n"
     ]
    }
   ],
   "source": [
    "score = model.evaluate(x_test, y_test, verbose=0)\n",
    "print(\"Test loss:\", score[0])\n",
    "print(\"Test accuracy:\", score[1])"
   ]
  },
  {
   "cell_type": "markdown",
   "metadata": {},
   "source": [
    "## 3. Selective Search for Object Recognition"
   ]
  },
  {
   "cell_type": "markdown",
   "metadata": {},
   "source": [
    "\"Selective Search for Object Recognition\" is a seminal paper in computer vision for object recognition. It is authored by J.R.R. Uijlings, K.E.A. van de Sande, T. Gevers, and A.W.M. Smeulders in University of Amsterdam.\n",
    "\n",
    "Please read the paper to understand how it works.\n",
    "\n",
    "Abstract\n",
    "\n",
    ">This paper addresses the problem of generating possible object lo- cations for use in object recognition. We introduce Selective Search which combines the strength of both an exhaustive search and seg- mentation. Like segmentation, we use the image structure to guide our sampling process. Like exhaustive search, we aim to capture all possible object locations. Instead of a single technique to gen- erate possible object locations, we diversify our search and use a variety of complementary image partitionings to deal with as many image conditions as possible. Our Selective Search results in a small set of data-driven, class-independent, high quality locations, yielding 99% recall and a Mean Average Best Overlap of 0.879 at 10,097 locations. The reduced number of locations compared to an exhaustive search enables the use of stronger machine learning techniques and stronger appearance models for object recognition. In this paper we show that our selective search enables the use of the powerful Bag-of-Words model for recognition. The Selective Search software is made publicly available 1.\n",
    "\n",
    "[Link to pdf](https://ivi.fnwi.uva.nl/isis/publications/2013/UijlingsIJCV2013/UijlingsIJCV2013.pdf)"
   ]
  },
  {
   "cell_type": "markdown",
   "metadata": {},
   "source": [
    "The algorithm is implemented in OpenCV as \n",
    "\n",
    "```cv2.ximgproc.segmentation.createSelectiveSearchSegmentation()```\n",
    "\n",
    "However this operation is not in the main modules, it is available in the full installation of OpenCV.\n",
    "\n",
    "If you look [here](https://pypi.org/project/opencv-python/), you will see two options for installing OpenCV:\n",
    "\n",
    "a. Packages for standard desktop environments (Windows, macOS, almost any GNU/Linux distribution)\n",
    "1. Main modules package: `pip install opencv-python`\n",
    "2. Full package (contains both main modules and contrib/extra modules): `pip install opencv-contrib-python` (check contrib/extra modules listing from OpenCV documentation)\n",
    "\n",
    "If you don't have the full package, please install it."
   ]
  },
  {
   "cell_type": "markdown",
   "metadata": {},
   "source": [
    "**Exercise 6.2**\n",
    "\n",
    "Write a function that takes in the canvas (200, 200, 3), applies selective search and returns the bounding boxes. Selective search returns bounding boxes in the `(x, y, w, h)` format, where `(x, y)` is the coordinates of the top left corner of the bounding box and `w` and `h` are the width and height of the bounding box. It returns a numpy array of shape `(num_of_bounding_boxes, 4)`."
   ]
  },
  {
   "cell_type": "code",
   "execution_count": 13,
   "metadata": {},
   "outputs": [],
   "source": [
    "def selective_search(canvas, search_method='Quality'):\n",
    "    ss = cv2.ximgproc.segmentation.createSelectiveSearchSegmentation()\n",
    "    \n",
    "    # YOUR CODE HERE\n",
    "\n",
    "    # remove the canvas if it is detected\n",
    "    mask = ~np.all(bboxes_xywh == [0, 0, 200, 200], axis=1)\n",
    "    bboxes_xywh = bboxes_xywh[mask]\n",
    "\n",
    "    return bboxes_xywh"
   ]
  },
  {
   "cell_type": "code",
   "execution_count": 14,
   "metadata": {},
   "outputs": [
    {
     "data": {
      "text/plain": [
       "30"
      ]
     },
     "execution_count": 14,
     "metadata": {},
     "output_type": "execute_result"
    }
   ],
   "source": [
    "bboxes_xywh = selective_search(canvas)\n",
    "len(bboxes_xywh)"
   ]
  },
  {
   "cell_type": "markdown",
   "metadata": {},
   "source": [
    "**Exercise 6.3**\n",
    "\n",
    "Write a function takes an image and bounding boxes as input and plots the bounding boxes on the image.\n",
    "\n",
    "<img src='images/exercise_6_3.png' width=300>"
   ]
  },
  {
   "cell_type": "code",
   "execution_count": 15,
   "metadata": {},
   "outputs": [],
   "source": [
    "import matplotlib.patches as patches\n",
    "\n",
    "def bb_plotter(im, bboxes_xywh):\n",
    "    \n",
    "    # YOUR CODE HERE"
   ]
  },
  {
   "cell_type": "code",
   "execution_count": 16,
   "metadata": {},
   "outputs": [
    {
     "data": {
      "image/png": "[encoded data removed]",
      "text/plain": [
       "<Figure size 640x480 with 1 Axes>"
      ]
     },
     "metadata": {},
     "output_type": "display_data"
    }
   ],
   "source": [
    "bb_plotter(canvas, bboxes_xywh)"
   ]
  },
  {
   "cell_type": "markdown",
   "metadata": {},
   "source": [
    "## 4. Get predictions on each detected object bounding box"
   ]
  },
  {
   "cell_type": "markdown",
   "metadata": {},
   "source": [
    "Let's get predictions for each bounding box. The first step for doing that is to crop the images and resize them to 28x28x1 as this is the input size our model expects.\n",
    "\n",
    "**Exercise 6.4**\n",
    "\n",
    "Write a function that accepts the canvas and the bounding boxes as input and returns the images in the bounding boxes with size `(number_of_bounding_boxes, 28, 28, 1)`, and normalized to the pixel values you have used to train the CNN.\n"
   ]
  },
  {
   "cell_type": "code",
   "execution_count": 17,
   "metadata": {},
   "outputs": [],
   "source": [
    "def extract_and_resize_images_from_canvas(canvas, bboxes_xywh):\n",
    "    detected_images = []\n",
    "    for (x, y, w, h) in bboxes_xywh:\n",
    "        # YOUR CODE HERE\n",
    "    detected_images = np.array(detected_images)\n",
    "    detected_images = detected_images.reshape(-1, 28, 28, 1)\n",
    "    return detected_images"
   ]
  },
  {
   "cell_type": "code",
   "execution_count": 18,
   "metadata": {},
   "outputs": [],
   "source": [
    "detected_images = extract_and_resize_images_from_canvas(canvas, bboxes_xywh)"
   ]
  },
  {
   "cell_type": "markdown",
   "metadata": {},
   "source": [
    "let's display 4 random images as a sanity check:"
   ]
  },
  {
   "cell_type": "code",
   "execution_count": 19,
   "metadata": {},
   "outputs": [
    {
     "data": {
      "image/png": "[encoded data removed]",
      "text/plain": [
       "<Figure size 1000x300 with 4 Axes>"
      ]
     },
     "metadata": {},
     "output_type": "display_data"
    }
   ],
   "source": [
    "# I want to display four random bounding boxes\n",
    "random_indices = np.random.choice(detected_images.shape[0], size=4, replace=False)\n",
    "selected_images = detected_images[random_indices]\n",
    "\n",
    "# Plotting the selected images\n",
    "fig, axes = plt.subplots(1, 4, figsize=(10, 3))\n",
    "for i, img in enumerate(selected_images):\n",
    "    # Use squeeze() to remove the single-channel dimension\n",
    "    axes[i].imshow(img.squeeze(), cmap='gray')"
   ]
  },
  {
   "cell_type": "markdown",
   "metadata": {},
   "source": [
    "**Exercise 6.5**\n",
    "\n",
    "Write a function that returns the predicted digit and its probability for each bounding box.\n",
    "\n",
    "Now run `model.predict()` on the detected images and get the predicted digit and its probability:"
   ]
  },
  {
   "cell_type": "code",
   "execution_count": 20,
   "metadata": {},
   "outputs": [],
   "source": [
    "def get_predictions(detected_images):\n",
    "    preds = model.predict(detected_images)\n",
    "    # YOUR CODE HERE\n",
    "    return digit_index, digit_prob"
   ]
  },
  {
   "cell_type": "code",
   "execution_count": 21,
   "metadata": {},
   "outputs": [
    {
     "name": "stdout",
     "output_type": "stream",
     "text": [
      "1/1 [==============================] - 0s 58ms/step\n"
     ]
    },
    {
     "name": "stderr",
     "output_type": "stream",
     "text": [
      "2023-11-23 14:20:39.338030: I tensorflow/core/grappler/optimizers/custom_graph_optimizer_registry.cc:114] Plugin optimizer for device_type GPU is enabled.\n"
     ]
    }
   ],
   "source": [
    "digit_index, digit_prob = get_predictions(detected_images)"
   ]
  },
  {
   "cell_type": "code",
   "execution_count": 22,
   "metadata": {},
   "outputs": [
    {
     "data": {
      "text/html": [
       "<div>\n",
       "<style scoped>\n",
       "    .dataframe tbody tr th:only-of-type {\n",
       "        vertical-align: middle;\n",
       "    }\n",
       "\n",
       "    .dataframe tbody tr th {\n",
       "        vertical-align: top;\n",
       "    }\n",
       "\n",
       "    .dataframe thead th {\n",
       "        text-align: right;\n",
       "    }\n",
       "</style>\n",
       "<table border=\"1\" class=\"dataframe\">\n",
       "  <thead>\n",
       "    <tr style=\"text-align: right;\">\n",
       "      <th></th>\n",
       "      <th>Probability</th>\n",
       "      <th>Predicted Digit</th>\n",
       "    </tr>\n",
       "  </thead>\n",
       "  <tbody>\n",
       "    <tr>\n",
       "      <th>0</th>\n",
       "      <td>0.999999</td>\n",
       "      <td>5.0</td>\n",
       "    </tr>\n",
       "    <tr>\n",
       "      <th>1</th>\n",
       "      <td>0.999997</td>\n",
       "      <td>5.0</td>\n",
       "    </tr>\n",
       "    <tr>\n",
       "      <th>2</th>\n",
       "      <td>0.999998</td>\n",
       "      <td>6.0</td>\n",
       "    </tr>\n",
       "    <tr>\n",
       "      <th>3</th>\n",
       "      <td>0.998818</td>\n",
       "      <td>2.0</td>\n",
       "    </tr>\n",
       "    <tr>\n",
       "      <th>4</th>\n",
       "      <td>0.998395</td>\n",
       "      <td>4.0</td>\n",
       "    </tr>\n",
       "  </tbody>\n",
       "</table>\n",
       "</div>"
      ],
      "text/plain": [
       "   Probability  Predicted Digit\n",
       "0     0.999999              5.0\n",
       "1     0.999997              5.0\n",
       "2     0.999998              6.0\n",
       "3     0.998818              2.0\n",
       "4     0.998395              4.0"
      ]
     },
     "execution_count": 22,
     "metadata": {},
     "output_type": "execute_result"
    }
   ],
   "source": [
    "df = pd.DataFrame([digit_prob, digit_index]).T\n",
    "df.columns = ['Probability', 'Predicted Digit']\n",
    "df.head()"
   ]
  },
  {
   "cell_type": "markdown",
   "metadata": {},
   "source": [
    "let's display 4 random images as a sanity check, this time with prediction results:"
   ]
  },
  {
   "cell_type": "code",
   "execution_count": 23,
   "metadata": {},
   "outputs": [
    {
     "data": {
      "image/png": "[encoded data removed]",
      "text/plain": [
       "<Figure size 1000x300 with 4 Axes>"
      ]
     },
     "metadata": {},
     "output_type": "display_data"
    }
   ],
   "source": [
    "# I want to display four random bounding boxes\n",
    "random_indices = np.random.choice(detected_images.shape[0], size=4, replace=False)\n",
    "selected_images = detected_images[random_indices]\n",
    "\n",
    "# get predictions and probabilities\n",
    "selected_images_digits = digit_index[random_indices]\n",
    "selected_images_probs = digit_prob[random_indices]\n",
    "\n",
    "# Plotting the selected images\n",
    "fig, axes = plt.subplots(1, 4, figsize=(10, 3))\n",
    "for i, img in enumerate(selected_images):\n",
    "    title_text = f'{selected_images_digits[i]}, {selected_images_probs[i]:.2f}'\n",
    "    # Use squeeze() to remove the single-channel dimension\n",
    "    axes[i].imshow(img.squeeze(), cmap='gray')\n",
    "    axes[i].set_title(title_text)"
   ]
  },
  {
   "cell_type": "markdown",
   "metadata": {},
   "source": [
    "## 5. Non-maximum supression (NMS)\n",
    "\n",
    "The final problem we need to address is the multiple bounding boxes around a single digit. How can we find the best one?\n",
    "\n",
    "The algorithm we will use to do that is called non-maximum supression. Here's how it works:\n",
    "\n",
    "1. **Many Bounding Boxes**: Selective search will probably detect several bounding boxes around the same object. These boxes can vary slightly in size and position.\n",
    "\n",
    "2. **Scores for Each Box**: We run all these boxes through a classification model to obtain a score (probability) indicating the confidence level that the box contains the target object.\n",
    "\n",
    "3. **Best Box Selection**: Non-maximum suppression starts by selecting the box with the highest score, known as the \"current best box\".\n",
    "\n",
    "4. **Intersection over Union (IoU)**: IoU is a measure used to quantify the overlap between two bounding boxes. It divides the area of overlap between two boxes by the area of union (total area covered by both boxes). A higher IoU means more overlap.\n",
    "\n",
    "5. **Compare and Eliminate**: The algorithm then compares the IoU of the \"current best box\" with all other boxes. If another box has a high IoU with the \"current best box\" (above a certain threshold), it's likely detecting the same object and is discarded.\n",
    "\n",
    "6. **Repeat the Process**: The process is repeated – selecting the next highest scoring box and removing all boxes overlapping significantly with it, based on the IoU threshold. This continues until all boxes are either selected as a \"best box\" or discarded.\n",
    "\n",
    "7. **Final Result**: In the ideal scenario, each detected object in the image is represented by only one box – the one that the algorithm was most confident about.\n",
    "\n",
    "In summary, NMS uses the IoU metric to compare and filter overlapping bounding boxes, keeping only the most relevant ones for each detected object."
   ]
  },
  {
   "cell_type": "markdown",
   "metadata": {},
   "source": [
    "Before implementing NMS, let's implement IoU as a helper function. First read the following to understand what IoU is:\n",
    "\n",
    "[Jaccard Index (Wikipedia)](https://en.wikipedia.org/wiki/Jaccard_index)\n",
    "\n",
    "This picture shows clearly how to calculate IoU\n",
    "\n",
    "<img src='https://upload.wikimedia.org/wikipedia/commons/c/c7/Intersection_over_Union_-_visual_equation.png' width=300>\n",
    "\n",
    "An IoU of zero means the bounding boxes do not overlap, and one means they overlap perfectly.\n",
    "\n",
    "<img src='https://upload.wikimedia.org/wikipedia/commons/e/e6/Intersection_over_Union_-_poor%2C_good_and_excellent_score.png' width=300>"
   ]
  },
  {
   "cell_type": "markdown",
   "metadata": {},
   "source": [
    "currently we have bounding boxes in `(x, y, w, h)` format. It is easier to implement IoU if we have top left corner coordinates and bottom right corner coordinates. Here is a helper function that will convert `(x, y, w, h)` to `(left, top, right, bottom)`:"
   ]
  },
  {
   "cell_type": "code",
   "execution_count": 24,
   "metadata": {},
   "outputs": [],
   "source": [
    "def convert_xywh_to_ltrb(bboxes_xywh):\n",
    "    '''\n",
    "    This function takes in a list of bboxes\n",
    "    where each bbox is a tuple (x, y, w, h)\n",
    "    and creates a list of bboxes\n",
    "    where each bbox is a tuple (left, top, right, bottom)\n",
    "    '''\n",
    "    bboxes_ltrb = []\n",
    "    \n",
    "    for (x, y, w, h) in bboxes_xywh:\n",
    "        top = y\n",
    "        left = x\n",
    "        right = x + w\n",
    "        bottom = y + h\n",
    "        bboxes_ltrb.append((left, top, right, bottom))\n",
    "    \n",
    "    return bboxes_ltrb"
   ]
  },
  {
   "cell_type": "code",
   "execution_count": 25,
   "metadata": {},
   "outputs": [],
   "source": [
    "bboxes_ltrb = convert_xywh_to_ltrb(bboxes_xywh)"
   ]
  },
  {
   "cell_type": "markdown",
   "metadata": {},
   "source": [
    "**Exercise 6.6**\n",
    "\n",
    "Given two bounding boxes in `(left, top, right, bottom)` format, implement a function that calculates IoU between these bounding boxes. The function should return zero if the boxes do not overlap."
   ]
  },
  {
   "cell_type": "code",
   "execution_count": 26,
   "metadata": {},
   "outputs": [],
   "source": [
    "def iou_calculator(bbox1, bbox2):\n",
    "    l1, t1, r1, b1 = bbox1\n",
    "    l2, t2, r2, b2 = bbox2\n",
    "    \n",
    "    # Find the intersection rectangle\n",
    "    # YOUR CODE HERE\n",
    "\n",
    "    # w and h of the intersection rectangle\n",
    "    # YOUR CODE HERE\n",
    "\n",
    "    # intersection area\n",
    "    # YOUR CODE HERE\n",
    "\n",
    "    # areas of the bboxes\n",
    "    # YOUR CODE HERE\n",
    "\n",
    "    # union area\n",
    "    # YOUR CODE HERE\n",
    "\n",
    "    return intersection/union"
   ]
  },
  {
   "cell_type": "markdown",
   "metadata": {},
   "source": [
    "Now we are ready for implementing, NMS. Let's combine everything we calculated for each bbox, and sort by probability:"
   ]
  },
  {
   "cell_type": "code",
   "execution_count": 27,
   "metadata": {},
   "outputs": [
    {
     "data": {
      "text/html": [
       "<div>\n",
       "<style scoped>\n",
       "    .dataframe tbody tr th:only-of-type {\n",
       "        vertical-align: middle;\n",
       "    }\n",
       "\n",
       "    .dataframe tbody tr th {\n",
       "        vertical-align: top;\n",
       "    }\n",
       "\n",
       "    .dataframe thead th {\n",
       "        text-align: right;\n",
       "    }\n",
       "</style>\n",
       "<table border=\"1\" class=\"dataframe\">\n",
       "  <thead>\n",
       "    <tr style=\"text-align: right;\">\n",
       "      <th></th>\n",
       "      <th>Probability</th>\n",
       "      <th>Predicted Digit</th>\n",
       "      <th>x, y, w, h</th>\n",
       "      <th>l, t, r, b</th>\n",
       "    </tr>\n",
       "  </thead>\n",
       "  <tbody>\n",
       "    <tr>\n",
       "      <th>0</th>\n",
       "      <td>1.000000</td>\n",
       "      <td>6</td>\n",
       "      <td>(124, 113, 22, 28)</td>\n",
       "      <td>(124, 113, 146, 141)</td>\n",
       "    </tr>\n",
       "    <tr>\n",
       "      <th>1</th>\n",
       "      <td>0.999999</td>\n",
       "      <td>5</td>\n",
       "      <td>(12, 17, 39, 39)</td>\n",
       "      <td>(12, 17, 51, 56)</td>\n",
       "    </tr>\n",
       "    <tr>\n",
       "      <th>2</th>\n",
       "      <td>0.999998</td>\n",
       "      <td>6</td>\n",
       "      <td>(128, 115, 14, 23)</td>\n",
       "      <td>(128, 115, 142, 138)</td>\n",
       "    </tr>\n",
       "    <tr>\n",
       "      <th>3</th>\n",
       "      <td>0.999998</td>\n",
       "      <td>6</td>\n",
       "      <td>(125, 113, 21, 28)</td>\n",
       "      <td>(125, 113, 146, 141)</td>\n",
       "    </tr>\n",
       "    <tr>\n",
       "      <th>4</th>\n",
       "      <td>0.999998</td>\n",
       "      <td>6</td>\n",
       "      <td>(125, 113, 20, 28)</td>\n",
       "      <td>(125, 113, 145, 141)</td>\n",
       "    </tr>\n",
       "    <tr>\n",
       "      <th>5</th>\n",
       "      <td>0.999998</td>\n",
       "      <td>5</td>\n",
       "      <td>(12, 17, 39, 38)</td>\n",
       "      <td>(12, 17, 51, 55)</td>\n",
       "    </tr>\n",
       "    <tr>\n",
       "      <th>6</th>\n",
       "      <td>0.999997</td>\n",
       "      <td>5</td>\n",
       "      <td>(12, 17, 40, 39)</td>\n",
       "      <td>(12, 17, 52, 56)</td>\n",
       "    </tr>\n",
       "    <tr>\n",
       "      <th>7</th>\n",
       "      <td>0.999997</td>\n",
       "      <td>5</td>\n",
       "      <td>(12, 16, 40, 40)</td>\n",
       "      <td>(12, 16, 52, 56)</td>\n",
       "    </tr>\n",
       "    <tr>\n",
       "      <th>8</th>\n",
       "      <td>0.999993</td>\n",
       "      <td>6</td>\n",
       "      <td>(128, 117, 14, 21)</td>\n",
       "      <td>(128, 117, 142, 138)</td>\n",
       "    </tr>\n",
       "    <tr>\n",
       "      <th>9</th>\n",
       "      <td>0.999967</td>\n",
       "      <td>5</td>\n",
       "      <td>(16, 20, 31, 32)</td>\n",
       "      <td>(16, 20, 47, 52)</td>\n",
       "    </tr>\n",
       "  </tbody>\n",
       "</table>\n",
       "</div>"
      ],
      "text/plain": [
       "   Probability  Predicted Digit          x, y, w, h            l, t, r, b\n",
       "0     1.000000                6  (124, 113, 22, 28)  (124, 113, 146, 141)\n",
       "1     0.999999                5    (12, 17, 39, 39)      (12, 17, 51, 56)\n",
       "2     0.999998                6  (128, 115, 14, 23)  (128, 115, 142, 138)\n",
       "3     0.999998                6  (125, 113, 21, 28)  (125, 113, 146, 141)\n",
       "4     0.999998                6  (125, 113, 20, 28)  (125, 113, 145, 141)\n",
       "5     0.999998                5    (12, 17, 39, 38)      (12, 17, 51, 55)\n",
       "6     0.999997                5    (12, 17, 40, 39)      (12, 17, 52, 56)\n",
       "7     0.999997                5    (12, 16, 40, 40)      (12, 16, 52, 56)\n",
       "8     0.999993                6  (128, 117, 14, 21)  (128, 117, 142, 138)\n",
       "9     0.999967                5    (16, 20, 31, 32)      (16, 20, 47, 52)"
      ]
     },
     "execution_count": 27,
     "metadata": {},
     "output_type": "execute_result"
    }
   ],
   "source": [
    "bboxes_with_score = [(digit_prob[i], digit_index[i], tuple(bboxes_xywh[i]), bboxes_ltrb[i]) for i in range(len(bboxes_xywh))]\n",
    "bboxes_with_score.sort(reverse=True)\n",
    "df = pd.DataFrame(bboxes_with_score, columns=['Probability', 'Predicted Digit', 'x, y, w, h', 'l, t, r, b'])\n",
    "df.head(n=10)"
   ]
  },
  {
   "cell_type": "markdown",
   "metadata": {},
   "source": [
    "**Exercise 6.7**\n",
    "\n",
    "Implement NMS. It should take the list `bboxes_with_score` created above and return a single bounding box per digit.\n",
    "\n",
    "- select the first box (highest prob)\n",
    "- find all the boxes that overlap with this box above a certain IoU and remove them\n",
    "- repeat this process with the remaining boxes, until no box is left."
   ]
  },
  {
   "cell_type": "code",
   "execution_count": 28,
   "metadata": {},
   "outputs": [],
   "source": [
    "def nms(bboxes_with_score):\n",
    "    selected_bboxes = []\n",
    "    while len(bboxes_with_score) > 0:\n",
    "        # YOUR CODE HERE\n",
    "    return selected_bboxes"
   ]
  },
  {
   "cell_type": "code",
   "execution_count": 29,
   "metadata": {},
   "outputs": [],
   "source": [
    "selected_bboxes = nms(bboxes_with_score)"
   ]
  },
  {
   "cell_type": "code",
   "execution_count": 30,
   "metadata": {},
   "outputs": [
    {
     "data": {
      "text/html": [
       "<div>\n",
       "<style scoped>\n",
       "    .dataframe tbody tr th:only-of-type {\n",
       "        vertical-align: middle;\n",
       "    }\n",
       "\n",
       "    .dataframe tbody tr th {\n",
       "        vertical-align: top;\n",
       "    }\n",
       "\n",
       "    .dataframe thead th {\n",
       "        text-align: right;\n",
       "    }\n",
       "</style>\n",
       "<table border=\"1\" class=\"dataframe\">\n",
       "  <thead>\n",
       "    <tr style=\"text-align: right;\">\n",
       "      <th></th>\n",
       "      <th>Probability</th>\n",
       "      <th>Predicted Digit</th>\n",
       "      <th>x, y, w, h</th>\n",
       "      <th>l, t, r, b</th>\n",
       "    </tr>\n",
       "  </thead>\n",
       "  <tbody>\n",
       "    <tr>\n",
       "      <th>0</th>\n",
       "      <td>1.000000</td>\n",
       "      <td>6</td>\n",
       "      <td>(124, 113, 22, 28)</td>\n",
       "      <td>(124, 113, 146, 141)</td>\n",
       "    </tr>\n",
       "    <tr>\n",
       "      <th>1</th>\n",
       "      <td>0.999999</td>\n",
       "      <td>5</td>\n",
       "      <td>(12, 17, 39, 39)</td>\n",
       "      <td>(12, 17, 51, 56)</td>\n",
       "    </tr>\n",
       "    <tr>\n",
       "      <th>2</th>\n",
       "      <td>0.999445</td>\n",
       "      <td>4</td>\n",
       "      <td>(134, 37, 33, 40)</td>\n",
       "      <td>(134, 37, 167, 77)</td>\n",
       "    </tr>\n",
       "    <tr>\n",
       "      <th>3</th>\n",
       "      <td>0.999217</td>\n",
       "      <td>2</td>\n",
       "      <td>(19, 172, 21, 21)</td>\n",
       "      <td>(19, 172, 40, 193)</td>\n",
       "    </tr>\n",
       "  </tbody>\n",
       "</table>\n",
       "</div>"
      ],
      "text/plain": [
       "   Probability  Predicted Digit          x, y, w, h            l, t, r, b\n",
       "0     1.000000                6  (124, 113, 22, 28)  (124, 113, 146, 141)\n",
       "1     0.999999                5    (12, 17, 39, 39)      (12, 17, 51, 56)\n",
       "2     0.999445                4   (134, 37, 33, 40)    (134, 37, 167, 77)\n",
       "3     0.999217                2   (19, 172, 21, 21)    (19, 172, 40, 193)"
      ]
     },
     "execution_count": 30,
     "metadata": {},
     "output_type": "execute_result"
    }
   ],
   "source": [
    "df = pd.DataFrame(selected_bboxes, columns=['Probability', 'Predicted Digit', 'x, y, w, h', 'l, t, r, b'])\n",
    "df"
   ]
  },
  {
   "cell_type": "code",
   "execution_count": 31,
   "metadata": {},
   "outputs": [
    {
     "data": {
      "text/plain": [
       "(-0.5, 199.5, 199.5, -0.5)"
      ]
     },
     "execution_count": 31,
     "metadata": {},
     "output_type": "execute_result"
    },
    {
     "data": {
      "image/png": "[encoded data removed]",
      "text/plain": [
       "<Figure size 1920x1440 with 1 Axes>"
      ]
     },
     "metadata": {},
     "output_type": "display_data"
    }
   ],
   "source": [
    "fig, ax = plt.subplots(dpi=300)\n",
    "ax.imshow(canvas)\n",
    "for prob, digit, (x, y, w, h), _ in selected_bboxes:\n",
    "    rect = patches.Rectangle((x, y), w, h, linewidth=1, edgecolor='r', facecolor='none')\n",
    "    ax.add_patch(rect)\n",
    "    text_on_box  = f'{digit}'\n",
    "    ax.text(x, y, text_on_box, color='white')\n",
    "ax.axis('off')"
   ]
  },
  {
   "cell_type": "markdown",
   "metadata": {},
   "source": [
    "## 6. Putting it all together"
   ]
  },
  {
   "cell_type": "code",
   "execution_count": 32,
   "metadata": {},
   "outputs": [
    {
     "name": "stdout",
     "output_type": "stream",
     "text": [
      "1/1 [==============================] - 0s 22ms/step\n"
     ]
    }
   ],
   "source": [
    "canvas = create_canvas()\n",
    "bboxes_xywh = selective_search(canvas)\n",
    "bboxes_ltrb = convert_xywh_to_ltrb(bboxes_xywh)\n",
    "detected_images = extract_and_resize_images_from_canvas(canvas, bboxes_xywh)\n",
    "digit_index, digit_prob = get_predictions(detected_images)\n",
    "bboxes_with_score = [(digit_prob[i], digit_index[i], tuple(bboxes_xywh[i]), bboxes_ltrb[i]) for i in range(len(bboxes_xywh))]\n",
    "bboxes_with_score.sort(reverse=True)\n",
    "selected_bboxes = nms(bboxes_with_score)"
   ]
  },
  {
   "cell_type": "code",
   "execution_count": 33,
   "metadata": {},
   "outputs": [
    {
     "data": {
      "text/plain": [
       "(-0.5, 199.5, 199.5, -0.5)"
      ]
     },
     "execution_count": 33,
     "metadata": {},
     "output_type": "execute_result"
    },
    {
     "data": {
      "image/png": "[encoded data removed]",
      "text/plain": [
       "<Figure size 1920x1440 with 1 Axes>"
      ]
     },
     "metadata": {},
     "output_type": "display_data"
    }
   ],
   "source": [
    "fig, ax = plt.subplots(dpi=300)\n",
    "ax.imshow(canvas)\n",
    "for prob, digit, (x, y, w, h), _ in selected_bboxes:\n",
    "    rect = patches.Rectangle((x, y), w, h, linewidth=1, edgecolor='r', facecolor='none')\n",
    "    ax.add_patch(rect)\n",
    "    text_on_box  = f'{digit}'\n",
    "    ax.text(x, y, text_on_box, color='white')\n",
    "ax.axis('off')"
   ]
  }
 ],
 "metadata": {
  "kernelspec": {
   "display_name": "ml",
   "language": "python",
   "name": "python3"
  },
  "language_info": {
   "codemirror_mode": {
    "name": "ipython",
    "version": 3
   },
   "file_extension": ".py",
   "mimetype": "text/x-python",
   "name": "python",
   "nbconvert_exporter": "python",
   "pygments_lexer": "ipython3",
   "version": "3.8.16"
  },
  "orig_nbformat": 4
 },
 "nbformat": 4,
 "nbformat_minor": 2
}
