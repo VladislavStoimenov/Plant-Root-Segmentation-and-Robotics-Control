{
 "cells": [
  {
   "cell_type": "markdown",
   "metadata": {},
   "source": [
    "## 8. Multiclass Image Segmentation with DL\n",
    "\n",
    "Outline\n",
    "\n",
    "1. The Dataset\n",
    "2. Loading all to memory\n",
    "3. Flow from directory\n",
    "\n",
    "In the previous notebook, you trained a U-Net for a single class. But what if there are multiple classes? One approach is to train a binary model for each class. This allows individual optimization for each class, which can be advantageous. Alternatively, you could train a single multiclass model, enabling it to learn inter-class relationships.\n",
    "\n",
    "Both approaches have their pros and cons, so the best strategy is to try both and compare their performance to decide which works best for your use case.\n",
    "\n",
    "In this notebook, I will adjust the network from the previous notebook to make it multi-class. We also need a dataset, as blood cell dataset is binary. I simulated a simple multi-class dataset for this purpose."
   ]
  },
  {
   "cell_type": "code",
   "execution_count": 1,
   "metadata": {},
   "outputs": [],
   "source": [
    "import os\n",
    "import cv2\n",
    "import numpy as np\n",
    "import matplotlib.pyplot as plt"
   ]
  },
  {
   "cell_type": "markdown",
   "metadata": {},
   "source": [
    "## 1. The Dataset"
   ]
  },
  {
   "cell_type": "markdown",
   "metadata": {},
   "source": [
    "To demonstrate the code, I wanted to create a very simple dataset. Each image contains a triangle and a rectangle. Masks are single channel labeled images where 0 is the background, 1 is the rectangle and 2 is the triangle."
   ]
  },
  {
   "cell_type": "code",
   "execution_count": 2,
   "metadata": {},
   "outputs": [],
   "source": [
    "def is_overlap(rect1, rect2):\n",
    "    if (rect1[0] < rect2[0] + rect2[2]) and (rect1[0] + rect1[2] > rect2[0]) and \\\n",
    "       (rect1[1] < rect2[1] + rect2[3]) and (rect1[1] + rect1[3] > rect2[1]):\n",
    "        return True\n",
    "    return False\n",
    "\n",
    "def generate_non_overlapping_rect(existing_rects, max_attempts=100):\n",
    "    for _ in range(max_attempts):\n",
    "        x, y = np.random.randint(20, 44, size=2)\n",
    "        size = np.random.randint(10, 20)\n",
    "        new_rect = (x, y, size, size)\n",
    "        if not any(is_overlap(new_rect, rect) for rect in existing_rects):\n",
    "            return new_rect\n",
    "    return None\n",
    "\n",
    "def generate_dataset(num_images, output_dir, dataset_type):\n",
    "    for subdir in [f'{dataset_type}_images/{dataset_type}', f'{dataset_type}_masks/{dataset_type}']:\n",
    "        os.makedirs(os.path.join(output_dir, subdir), exist_ok=True)\n",
    "    \n",
    "    for i in range(num_images):\n",
    "        image = np.zeros((64, 64, 3), dtype=np.uint8)\n",
    "        mask = np.zeros((64, 64), dtype=np.uint8)\n",
    "        existing_rects = []\n",
    "\n",
    "        # Generate a rectangle\n",
    "        rect = generate_non_overlapping_rect(existing_rects)\n",
    "        if rect is not None:\n",
    "            x, y, size, _ = rect\n",
    "            existing_rects.append(rect)\n",
    "            image = cv2.rectangle(image, (x, y), (x + size, y + size), (255, 255, 255), -1)\n",
    "            mask = cv2.rectangle(mask, (x, y), (x + size, y + size), 1, -1)\n",
    "\n",
    "        # Generate a triangle\n",
    "        rect = generate_non_overlapping_rect(existing_rects)\n",
    "        if rect is not None:\n",
    "            x, y, size, _ = rect\n",
    "            points = np.array([[x, y], [x + size, y], [x, y + size]], np.int32)\n",
    "            image = cv2.fillConvexPoly(image, points, (255, 255, 255))\n",
    "            mask = cv2.fillConvexPoly(mask, points, 2)\n",
    "\n",
    "        cv2.imwrite(f'{output_dir}/{dataset_type}_images/{dataset_type}/{i}.png', image)\n",
    "        cv2.imwrite(f'{output_dir}/{dataset_type}_masks/{dataset_type}/{i}.png', mask)"
   ]
  },
  {
   "cell_type": "code",
   "execution_count": 3,
   "metadata": {},
   "outputs": [],
   "source": [
    "# when you run this block\n",
    "# it will create a folder where the notebook is\n",
    "# and populate it with the dataset\n",
    "output_dir = 'shapes_dataset'\n",
    "\n",
    "generate_dataset(500, output_dir, 'train')\n",
    "generate_dataset(100, output_dir, 'val')"
   ]
  },
  {
   "cell_type": "code",
   "execution_count": 4,
   "metadata": {},
   "outputs": [
    {
     "data": {
      "text/plain": [
       "<matplotlib.image.AxesImage at 0x1743c39a0>"
      ]
     },
     "execution_count": 4,
     "metadata": {},
     "output_type": "execute_result"
    },
    {
     "data": {
      "image/png": "[encoded data removed]",
      "text/plain": [
       "<Figure size 640x480 with 2 Axes>"
      ]
     },
     "metadata": {},
     "output_type": "display_data"
    }
   ],
   "source": [
    "example_image = cv2.imread('shapes_dataset/train_images/train/0.png')\n",
    "example_mask = cv2.imread('shapes_dataset/train_masks/train/0.png', 0) # read it as grayscale\n",
    "fig, ax = plt.subplots(1, 2)\n",
    "ax[0].imshow(example_image)\n",
    "ax[1].imshow(example_mask)"
   ]
  },
  {
   "cell_type": "code",
   "execution_count": 5,
   "metadata": {},
   "outputs": [
    {
     "data": {
      "text/plain": [
       "array([  0, 255], dtype=uint8)"
      ]
     },
     "execution_count": 5,
     "metadata": {},
     "output_type": "execute_result"
    }
   ],
   "source": [
    "np.unique(example_image)"
   ]
  },
  {
   "cell_type": "code",
   "execution_count": 6,
   "metadata": {},
   "outputs": [
    {
     "data": {
      "text/plain": [
       "array([0, 1, 2], dtype=uint8)"
      ]
     },
     "execution_count": 6,
     "metadata": {},
     "output_type": "execute_result"
    }
   ],
   "source": [
    "np.unique(example_mask)"
   ]
  },
  {
   "cell_type": "markdown",
   "metadata": {},
   "source": [
    "## 2. Loading all to memory"
   ]
  },
  {
   "cell_type": "code",
   "execution_count": 7,
   "metadata": {},
   "outputs": [],
   "source": [
    "import tensorflow as tf\n",
    "import keras.backend as K"
   ]
  },
  {
   "cell_type": "code",
   "execution_count": null,
   "metadata": {},
   "outputs": [],
   "source": [
    "# SAME AS NOTEBOOK 7\n",
    "def f1(y_true, y_pred):\n",
    "    def recall_m(y_true, y_pred):\n",
    "        TP = K.sum(K.round(K.clip(y_true * y_pred, 0, 1)))\n",
    "        Positives = K.sum(K.round(K.clip(y_true, 0, 1)))\n",
    "        recall = TP / (Positives+K.epsilon())\n",
    "        return recall\n",
    "    \n",
    "    def precision_m(y_true, y_pred):\n",
    "        TP = K.sum(K.round(K.clip(y_true * y_pred, 0, 1)))\n",
    "        Pred_Positives = K.sum(K.round(K.clip(y_pred, 0, 1)))\n",
    "        precision = TP / (Pred_Positives+K.epsilon())\n",
    "        return precision\n",
    "    \n",
    "    precision, recall = precision_m(y_true, y_pred), recall_m(y_true, y_pred)\n",
    "    \n",
    "    return 2*((precision*recall)/(precision+recall+K.epsilon()))"
   ]
  },
  {
   "cell_type": "code",
   "execution_count": null,
   "metadata": {},
   "outputs": [],
   "source": [
    "# *AlMOST* SAME AS NOTEBOOK 7\n",
    "# Diff 1: output layer Conv2D(n_classes, (1, 1), activation='softmax')(c9)\n",
    "# Diff 2: loss='categorical_crossentropy'\n",
    "# Diff 3: multiclass_unet_model(IMG_HEIGHT, IMG_WIDTH, IMG_CHANNELS, n_classes)\n",
    "\n",
    "# U-Net model\n",
    "# Author: Sreenivas Bhattiprolu\n",
    "# This code is coming from the videos at the beginning\n",
    "from keras.models import Model\n",
    "import keras.backend as K\n",
    "from keras.layers import Input, Conv2D, MaxPooling2D, UpSampling2D, concatenate, Conv2DTranspose, BatchNormalization, Dropout, Lambda\n",
    "\n",
    "def multiclass_unet_model(IMG_HEIGHT, IMG_WIDTH, IMG_CHANNELS, n_classes): # changed\n",
    "# Build the model\n",
    "    inputs = Input((IMG_HEIGHT, IMG_WIDTH, IMG_CHANNELS))\n",
    "    s = inputs\n",
    "\n",
    "    # Contraction path\n",
    "    c1 = Conv2D(16, (3, 3), activation='relu', kernel_initializer='he_normal', padding='same')(s)\n",
    "    c1 = Dropout(0.1)(c1)\n",
    "    c1 = Conv2D(16, (3, 3), activation='relu', kernel_initializer='he_normal', padding='same')(c1)\n",
    "    p1 = MaxPooling2D((2, 2))(c1)\n",
    "    \n",
    "    c2 = Conv2D(32, (3, 3), activation='relu', kernel_initializer='he_normal', padding='same')(p1)\n",
    "    c2 = Dropout(0.1)(c2)\n",
    "    c2 = Conv2D(32, (3, 3), activation='relu', kernel_initializer='he_normal', padding='same')(c2)\n",
    "    p2 = MaxPooling2D((2, 2))(c2)\n",
    "     \n",
    "    c3 = Conv2D(64, (3, 3), activation='relu', kernel_initializer='he_normal', padding='same')(p2)\n",
    "    c3 = Dropout(0.2)(c3)\n",
    "    c3 = Conv2D(64, (3, 3), activation='relu', kernel_initializer='he_normal', padding='same')(c3)\n",
    "    p3 = MaxPooling2D((2, 2))(c3)\n",
    "     \n",
    "    c4 = Conv2D(128, (3, 3), activation='relu', kernel_initializer='he_normal', padding='same')(p3)\n",
    "    c4 = Dropout(0.2)(c4)\n",
    "    c4 = Conv2D(128, (3, 3), activation='relu', kernel_initializer='he_normal', padding='same')(c4)\n",
    "    p4 = MaxPooling2D(pool_size=(2, 2))(c4)\n",
    "     \n",
    "    c5 = Conv2D(256, (3, 3), activation='relu', kernel_initializer='he_normal', padding='same')(p4)\n",
    "    c5 = Dropout(0.3)(c5)\n",
    "    c5 = Conv2D(256, (3, 3), activation='relu', kernel_initializer='he_normal', padding='same')(c5)\n",
    "    \n",
    "    # Expansive path \n",
    "    u6 = Conv2DTranspose(128, (2, 2), strides=(2, 2), padding='same')(c5)\n",
    "    u6 = concatenate([u6, c4])\n",
    "    c6 = Conv2D(128, (3, 3), activation='relu', kernel_initializer='he_normal', padding='same')(u6)\n",
    "    c6 = Dropout(0.2)(c6)\n",
    "    c6 = Conv2D(128, (3, 3), activation='relu', kernel_initializer='he_normal', padding='same')(c6)\n",
    "     \n",
    "    u7 = Conv2DTranspose(64, (2, 2), strides=(2, 2), padding='same')(c6)\n",
    "    u7 = concatenate([u7, c3])\n",
    "    c7 = Conv2D(64, (3, 3), activation='relu', kernel_initializer='he_normal', padding='same')(u7)\n",
    "    c7 = Dropout(0.2)(c7)\n",
    "    c7 = Conv2D(64, (3, 3), activation='relu', kernel_initializer='he_normal', padding='same')(c7)\n",
    "     \n",
    "    u8 = Conv2DTranspose(32, (2, 2), strides=(2, 2), padding='same')(c7)\n",
    "    u8 = concatenate([u8, c2])\n",
    "    c8 = Conv2D(32, (3, 3), activation='relu', kernel_initializer='he_normal', padding='same')(u8)\n",
    "    c8 = Dropout(0.1)(c8)\n",
    "    c8 = Conv2D(32, (3, 3), activation='relu', kernel_initializer='he_normal', padding='same')(c8)\n",
    "     \n",
    "    u9 = Conv2DTranspose(16, (2, 2), strides=(2, 2), padding='same')(c8)\n",
    "    u9 = concatenate([u9, c1], axis=3)\n",
    "    c9 = Conv2D(16, (3, 3), activation='relu', kernel_initializer='he_normal', padding='same')(u9)\n",
    "    c9 = Dropout(0.1)(c9)\n",
    "    c9 = Conv2D(16, (3, 3), activation='relu', kernel_initializer='he_normal', padding='same')(c9)\n",
    "     \n",
    "    outputs = Conv2D(n_classes, (1, 1), activation='softmax')(c9) # changed\n",
    "     \n",
    "    model = Model(inputs=[inputs], outputs=[outputs])\n",
    "    model.compile(optimizer='adam', loss='categorical_crossentropy', metrics=['accuracy', f1]) # changed\n",
    "    model.summary()\n",
    "    \n",
    "    return model"
   ]
  },
  {
   "cell_type": "code",
   "execution_count": 10,
   "metadata": {},
   "outputs": [
    {
     "name": "stderr",
     "output_type": "stream",
     "text": [
      "2023-12-06 22:01:18.857714: I metal_plugin/src/device/metal_device.cc:1154] Metal device set to: Apple M2 Max\n",
      "2023-12-06 22:01:18.857731: I metal_plugin/src/device/metal_device.cc:296] systemMemory: 32.00 GB\n",
      "2023-12-06 22:01:18.857737: I metal_plugin/src/device/metal_device.cc:313] maxCacheSize: 10.67 GB\n",
      "2023-12-06 22:01:18.857769: I tensorflow/core/common_runtime/pluggable_device/pluggable_device_factory.cc:303] Could not identify NUMA node of platform GPU ID 0, defaulting to 0. Your kernel may not have been built with NUMA support.\n",
      "2023-12-06 22:01:18.857784: I tensorflow/core/common_runtime/pluggable_device/pluggable_device_factory.cc:269] Created TensorFlow device (/job:localhost/replica:0/task:0/device:GPU:0 with 0 MB memory) -> physical PluggableDevice (device: 0, name: METAL, pci bus id: <undefined>)\n"
     ]
    },
    {
     "name": "stdout",
     "output_type": "stream",
     "text": [
      "Model: \"model\"\n",
      "__________________________________________________________________________________________________\n",
      " Layer (type)                Output Shape                 Param #   Connected to                  \n",
      "==================================================================================================\n",
      " input_1 (InputLayer)        [(None, 64, 64, 3)]          0         []                            \n",
      "                                                                                                  \n",
      " conv2d (Conv2D)             (None, 64, 64, 16)           448       ['input_1[0][0]']             \n",
      "                                                                                                  \n",
      " dropout (Dropout)           (None, 64, 64, 16)           0         ['conv2d[0][0]']              \n",
      "                                                                                                  \n",
      " conv2d_1 (Conv2D)           (None, 64, 64, 16)           2320      ['dropout[0][0]']             \n",
      "                                                                                                  \n",
      " max_pooling2d (MaxPooling2  (None, 32, 32, 16)           0         ['conv2d_1[0][0]']            \n",
      " D)                                                                                               \n",
      "                                                                                                  \n",
      " conv2d_2 (Conv2D)           (None, 32, 32, 32)           4640      ['max_pooling2d[0][0]']       \n",
      "                                                                                                  \n",
      " dropout_1 (Dropout)         (None, 32, 32, 32)           0         ['conv2d_2[0][0]']            \n",
      "                                                                                                  \n",
      " conv2d_3 (Conv2D)           (None, 32, 32, 32)           9248      ['dropout_1[0][0]']           \n",
      "                                                                                                  \n",
      " max_pooling2d_1 (MaxPoolin  (None, 16, 16, 32)           0         ['conv2d_3[0][0]']            \n",
      " g2D)                                                                                             \n",
      "                                                                                                  \n",
      " conv2d_4 (Conv2D)           (None, 16, 16, 64)           18496     ['max_pooling2d_1[0][0]']     \n",
      "                                                                                                  \n",
      " dropout_2 (Dropout)         (None, 16, 16, 64)           0         ['conv2d_4[0][0]']            \n",
      "                                                                                                  \n",
      " conv2d_5 (Conv2D)           (None, 16, 16, 64)           36928     ['dropout_2[0][0]']           \n",
      "                                                                                                  \n",
      " max_pooling2d_2 (MaxPoolin  (None, 8, 8, 64)             0         ['conv2d_5[0][0]']            \n",
      " g2D)                                                                                             \n",
      "                                                                                                  \n",
      " conv2d_6 (Conv2D)           (None, 8, 8, 128)            73856     ['max_pooling2d_2[0][0]']     \n",
      "                                                                                                  \n",
      " dropout_3 (Dropout)         (None, 8, 8, 128)            0         ['conv2d_6[0][0]']            \n",
      "                                                                                                  \n",
      " conv2d_7 (Conv2D)           (None, 8, 8, 128)            147584    ['dropout_3[0][0]']           \n",
      "                                                                                                  \n",
      " max_pooling2d_3 (MaxPoolin  (None, 4, 4, 128)            0         ['conv2d_7[0][0]']            \n",
      " g2D)                                                                                             \n",
      "                                                                                                  \n",
      " conv2d_8 (Conv2D)           (None, 4, 4, 256)            295168    ['max_pooling2d_3[0][0]']     \n",
      "                                                                                                  \n",
      " dropout_4 (Dropout)         (None, 4, 4, 256)            0         ['conv2d_8[0][0]']            \n",
      "                                                                                                  \n",
      " conv2d_9 (Conv2D)           (None, 4, 4, 256)            590080    ['dropout_4[0][0]']           \n",
      "                                                                                                  \n",
      " conv2d_transpose (Conv2DTr  (None, 8, 8, 128)            131200    ['conv2d_9[0][0]']            \n",
      " anspose)                                                                                         \n",
      "                                                                                                  \n",
      " concatenate (Concatenate)   (None, 8, 8, 256)            0         ['conv2d_transpose[0][0]',    \n",
      "                                                                     'conv2d_7[0][0]']            \n",
      "                                                                                                  \n",
      " conv2d_10 (Conv2D)          (None, 8, 8, 128)            295040    ['concatenate[0][0]']         \n",
      "                                                                                                  \n",
      " dropout_5 (Dropout)         (None, 8, 8, 128)            0         ['conv2d_10[0][0]']           \n",
      "                                                                                                  \n",
      " conv2d_11 (Conv2D)          (None, 8, 8, 128)            147584    ['dropout_5[0][0]']           \n",
      "                                                                                                  \n",
      " conv2d_transpose_1 (Conv2D  (None, 16, 16, 64)           32832     ['conv2d_11[0][0]']           \n",
      " Transpose)                                                                                       \n",
      "                                                                                                  \n",
      " concatenate_1 (Concatenate  (None, 16, 16, 128)          0         ['conv2d_transpose_1[0][0]',  \n",
      " )                                                                   'conv2d_5[0][0]']            \n",
      "                                                                                                  \n",
      " conv2d_12 (Conv2D)          (None, 16, 16, 64)           73792     ['concatenate_1[0][0]']       \n",
      "                                                                                                  \n",
      " dropout_6 (Dropout)         (None, 16, 16, 64)           0         ['conv2d_12[0][0]']           \n",
      "                                                                                                  \n",
      " conv2d_13 (Conv2D)          (None, 16, 16, 64)           36928     ['dropout_6[0][0]']           \n",
      "                                                                                                  \n",
      " conv2d_transpose_2 (Conv2D  (None, 32, 32, 32)           8224      ['conv2d_13[0][0]']           \n",
      " Transpose)                                                                                       \n",
      "                                                                                                  \n",
      " concatenate_2 (Concatenate  (None, 32, 32, 64)           0         ['conv2d_transpose_2[0][0]',  \n",
      " )                                                                   'conv2d_3[0][0]']            \n",
      "                                                                                                  \n",
      " conv2d_14 (Conv2D)          (None, 32, 32, 32)           18464     ['concatenate_2[0][0]']       \n",
      "                                                                                                  \n",
      " dropout_7 (Dropout)         (None, 32, 32, 32)           0         ['conv2d_14[0][0]']           \n",
      "                                                                                                  \n",
      " conv2d_15 (Conv2D)          (None, 32, 32, 32)           9248      ['dropout_7[0][0]']           \n",
      "                                                                                                  \n",
      " conv2d_transpose_3 (Conv2D  (None, 64, 64, 16)           2064      ['conv2d_15[0][0]']           \n",
      " Transpose)                                                                                       \n",
      "                                                                                                  \n",
      " concatenate_3 (Concatenate  (None, 64, 64, 32)           0         ['conv2d_transpose_3[0][0]',  \n",
      " )                                                                   'conv2d_1[0][0]']            \n",
      "                                                                                                  \n",
      " conv2d_16 (Conv2D)          (None, 64, 64, 16)           4624      ['concatenate_3[0][0]']       \n",
      "                                                                                                  \n",
      " dropout_8 (Dropout)         (None, 64, 64, 16)           0         ['conv2d_16[0][0]']           \n",
      "                                                                                                  \n",
      " conv2d_17 (Conv2D)          (None, 64, 64, 16)           2320      ['dropout_8[0][0]']           \n",
      "                                                                                                  \n",
      " conv2d_18 (Conv2D)          (None, 64, 64, 3)            51        ['conv2d_17[0][0]']           \n",
      "                                                                                                  \n",
      "==================================================================================================\n",
      "Total params: 1941139 (7.40 MB)\n",
      "Trainable params: 1941139 (7.40 MB)\n",
      "Non-trainable params: 0 (0.00 Byte)\n",
      "__________________________________________________________________________________________________\n"
     ]
    }
   ],
   "source": [
    "model = multiclass_unet_model(64, 64, 3, n_classes=3)"
   ]
  },
  {
   "cell_type": "code",
   "execution_count": 11,
   "metadata": {},
   "outputs": [],
   "source": [
    "import glob\n",
    "X_train = []\n",
    "y_train = []\n",
    "for im_path in glob.glob('shapes_dataset/train_images/train/*.png'):\n",
    "    mask_path = im_path.replace('images', 'masks')\n",
    "    im = cv2.imread(im_path)\n",
    "    mask = cv2.imread(mask_path, 0)\n",
    "    X_train.append(im)\n",
    "    y_train.append(mask)\n",
    "\n",
    "X_val = []\n",
    "y_val = []\n",
    "for im_path in glob.glob('shapes_dataset/val_images/val/*.png'):\n",
    "    mask_path = im_path.replace('images', 'masks')\n",
    "    im = cv2.imread(im_path)\n",
    "    mask = cv2.imread(mask_path, 0)\n",
    "    X_val.append(im)\n",
    "    y_val.append(mask)"
   ]
  },
  {
   "cell_type": "code",
   "execution_count": 12,
   "metadata": {},
   "outputs": [
    {
     "data": {
      "text/plain": [
       "((500, 64, 64, 3), (500, 64, 64), (100, 64, 64, 3), (100, 64, 64))"
      ]
     },
     "execution_count": 12,
     "metadata": {},
     "output_type": "execute_result"
    }
   ],
   "source": [
    "X_train = np.array(X_train)\n",
    "y_train = np.array(y_train)\n",
    "\n",
    "X_val = np.array(X_val)\n",
    "y_val = np.array(y_val)\n",
    "\n",
    "X_train.shape, y_train.shape, X_val.shape, y_val.shape"
   ]
  },
  {
   "cell_type": "markdown",
   "metadata": {},
   "source": [
    "**Correct mask format for multiclass UNet**\n",
    "\n",
    "One important point is, you need to convert the masks to categorical. Currently it is one channel with all the labels (0, 1, 2). But similar to multiclass classification, we should preprocess this into (1, 0, 0) (0, 1, 0) and (0, 0, 1). You can think of this as color channels, where instead of colors we have binary label masks in each channel."
   ]
  },
  {
   "cell_type": "code",
   "execution_count": 13,
   "metadata": {},
   "outputs": [
    {
     "data": {
      "text/plain": [
       "((500, 64, 64, 3), (100, 64, 64, 3))"
      ]
     },
     "execution_count": 13,
     "metadata": {},
     "output_type": "execute_result"
    }
   ],
   "source": [
    "from keras.utils import to_categorical\n",
    "y_train = to_categorical(y_train, num_classes=3)\n",
    "y_val = to_categorical(y_val, num_classes=3)\n",
    "y_train.shape, y_val.shape"
   ]
  },
  {
   "cell_type": "code",
   "execution_count": 14,
   "metadata": {},
   "outputs": [
    {
     "data": {
      "text/plain": [
       "<matplotlib.image.AxesImage at 0x2e69c5160>"
      ]
     },
     "execution_count": 14,
     "metadata": {},
     "output_type": "execute_result"
    },
    {
     "data": {
      "image/png": "[encoded data removed]",
      "text/plain": [
       "<Figure size 640x480 with 2 Axes>"
      ]
     },
     "metadata": {},
     "output_type": "display_data"
    }
   ],
   "source": [
    "# Demo of the output format\n",
    "example_mask = y_train[0]\n",
    "rectangle_channel = example_mask[:, :, 1]\n",
    "triangle_channel = example_mask[:, :, 2]\n",
    "\n",
    "fig, ax = plt.subplots(1, 2)\n",
    "ax[0].imshow(rectangle_channel)\n",
    "ax[1].imshow(triangle_channel)"
   ]
  },
  {
   "cell_type": "markdown",
   "metadata": {},
   "source": [
    "Note: I did not normalize the input images. Normally you should. But because this is a simple dataset, it will still work."
   ]
  },
  {
   "cell_type": "code",
   "execution_count": 15,
   "metadata": {},
   "outputs": [
    {
     "name": "stdout",
     "output_type": "stream",
     "text": [
      "Epoch 1/100\n"
     ]
    },
    {
     "name": "stderr",
     "output_type": "stream",
     "text": [
      "2023-12-06 22:01:20.335001: I tensorflow/core/grappler/optimizers/custom_graph_optimizer_registry.cc:114] Plugin optimizer for device_type GPU is enabled.\n"
     ]
    },
    {
     "name": "stdout",
     "output_type": "stream",
     "text": [
      "32/32 [==============================] - ETA: 0s - loss: 2.4955 - accuracy: 0.9235 - f1: 0.9242 - iou: 0.8701"
     ]
    },
    {
     "name": "stderr",
     "output_type": "stream",
     "text": [
      "2023-12-06 22:01:22.272941: I tensorflow/core/grappler/optimizers/custom_graph_optimizer_registry.cc:114] Plugin optimizer for device_type GPU is enabled.\n"
     ]
    },
    {
     "name": "stdout",
     "output_type": "stream",
     "text": [
      "32/32 [==============================] - 3s 52ms/step - loss: 2.4955 - accuracy: 0.9235 - f1: 0.9242 - iou: 0.8701 - val_loss: 0.1479 - val_accuracy: 0.9708 - val_f1: 0.9708 - val_iou: 0.9503\n",
      "Epoch 2/100\n",
      "32/32 [==============================] - 1s 28ms/step - loss: 0.2964 - accuracy: 0.9628 - f1: 0.9631 - iou: 0.9361 - val_loss: 0.0718 - val_accuracy: 0.9784 - val_f1: 0.9788 - val_iou: 0.9664\n",
      "Epoch 3/100\n",
      "32/32 [==============================] - 1s 27ms/step - loss: 0.1618 - accuracy: 0.9708 - f1: 0.9716 - iou: 0.9525 - val_loss: 0.0485 - val_accuracy: 0.9807 - val_f1: 0.9817 - val_iou: 0.9740\n",
      "Epoch 4/100\n",
      "32/32 [==============================] - 1s 26ms/step - loss: 0.0956 - accuracy: 0.9775 - f1: 0.9784 - iou: 0.9657 - val_loss: 0.0316 - val_accuracy: 0.9917 - val_f1: 0.9871 - val_iou: 0.9827\n",
      "Epoch 5/100\n",
      "32/32 [==============================] - 1s 26ms/step - loss: 0.0587 - accuracy: 0.9848 - f1: 0.9842 - iou: 0.9763 - val_loss: 0.0262 - val_accuracy: 0.9936 - val_f1: 0.9892 - val_iou: 0.9860\n",
      "Epoch 6/100\n",
      "32/32 [==============================] - 1s 26ms/step - loss: 0.0391 - accuracy: 0.9899 - f1: 0.9886 - iou: 0.9836 - val_loss: 0.0177 - val_accuracy: 0.9958 - val_f1: 0.9933 - val_iou: 0.9911\n",
      "Epoch 7/100\n",
      "32/32 [==============================] - 1s 26ms/step - loss: 0.0275 - accuracy: 0.9934 - f1: 0.9927 - iou: 0.9891 - val_loss: 0.0125 - val_accuracy: 0.9975 - val_f1: 0.9964 - val_iou: 0.9948\n",
      "Epoch 8/100\n",
      "32/32 [==============================] - 1s 26ms/step - loss: 0.0213 - accuracy: 0.9956 - f1: 0.9953 - iou: 0.9927 - val_loss: 0.0064 - val_accuracy: 0.9989 - val_f1: 0.9986 - val_iou: 0.9977\n",
      "Epoch 9/100\n",
      "32/32 [==============================] - 1s 26ms/step - loss: 0.0148 - accuracy: 0.9972 - f1: 0.9970 - iou: 0.9952 - val_loss: 0.0049 - val_accuracy: 0.9991 - val_f1: 0.9990 - val_iou: 0.9983\n",
      "Epoch 10/100\n",
      "32/32 [==============================] - 1s 26ms/step - loss: 0.0130 - accuracy: 0.9977 - f1: 0.9976 - iou: 0.9961 - val_loss: 0.0046 - val_accuracy: 0.9992 - val_f1: 0.9990 - val_iou: 0.9984\n",
      "Epoch 11/100\n",
      "32/32 [==============================] - 1s 27ms/step - loss: 0.0120 - accuracy: 0.9979 - f1: 0.9978 - iou: 0.9963 - val_loss: 0.0034 - val_accuracy: 0.9993 - val_f1: 0.9992 - val_iou: 0.9987\n",
      "Epoch 12/100\n",
      "32/32 [==============================] - 1s 26ms/step - loss: 0.0090 - accuracy: 0.9984 - f1: 0.9984 - iou: 0.9973 - val_loss: 0.0030 - val_accuracy: 0.9994 - val_f1: 0.9993 - val_iou: 0.9989\n",
      "Epoch 13/100\n",
      "32/32 [==============================] - 1s 27ms/step - loss: 0.0082 - accuracy: 0.9986 - f1: 0.9985 - iou: 0.9974 - val_loss: 0.0029 - val_accuracy: 0.9994 - val_f1: 0.9993 - val_iou: 0.9989\n",
      "Epoch 14/100\n",
      "32/32 [==============================] - 1s 26ms/step - loss: 0.0096 - accuracy: 0.9983 - f1: 0.9983 - iou: 0.9971 - val_loss: 0.0034 - val_accuracy: 0.9994 - val_f1: 0.9993 - val_iou: 0.9988\n",
      "Epoch 15/100\n",
      "32/32 [==============================] - 1s 27ms/step - loss: 0.0070 - accuracy: 0.9988 - f1: 0.9987 - iou: 0.9979 - val_loss: 0.0022 - val_accuracy: 0.9995 - val_f1: 0.9995 - val_iou: 0.9992\n",
      "Epoch 16/100\n",
      "32/32 [==============================] - 1s 26ms/step - loss: 0.0068 - accuracy: 0.9988 - f1: 0.9988 - iou: 0.9980 - val_loss: 0.0023 - val_accuracy: 0.9995 - val_f1: 0.9995 - val_iou: 0.9991\n",
      "Epoch 17/100\n",
      "32/32 [==============================] - 1s 26ms/step - loss: 0.0058 - accuracy: 0.9989 - f1: 0.9989 - iou: 0.9981 - val_loss: 0.0019 - val_accuracy: 0.9996 - val_f1: 0.9995 - val_iou: 0.9992\n",
      "Epoch 18/100\n",
      "32/32 [==============================] - 1s 25ms/step - loss: 0.0052 - accuracy: 0.9991 - f1: 0.9991 - iou: 0.9984 - val_loss: 0.0022 - val_accuracy: 0.9995 - val_f1: 0.9994 - val_iou: 0.9990\n",
      "Epoch 19/100\n",
      "32/32 [==============================] - 1s 26ms/step - loss: 0.0047 - accuracy: 0.9991 - f1: 0.9991 - iou: 0.9985 - val_loss: 0.0022 - val_accuracy: 0.9995 - val_f1: 0.9994 - val_iou: 0.9991\n"
     ]
    }
   ],
   "source": [
    "# SAME AS NOTEBOOK 7\n",
    "from keras.callbacks import EarlyStopping\n",
    "\n",
    "cb = EarlyStopping(monitor='val_loss',\n",
    "                   patience=2,\n",
    "                   restore_best_weights='True',\n",
    "                   mode='min')\n",
    "\n",
    "history = model.fit(X_train,\n",
    "                    y_train,\n",
    "                    batch_size=16,\n",
    "                    verbose=1,\n",
    "                    epochs=100, \n",
    "                    validation_data=(X_val, y_val),\n",
    "                    callbacks=[cb])"
   ]
  },
  {
   "cell_type": "markdown",
   "metadata": {},
   "source": [
    "Let's take a look at example predictions:"
   ]
  },
  {
   "cell_type": "code",
   "execution_count": 16,
   "metadata": {},
   "outputs": [
    {
     "name": "stdout",
     "output_type": "stream",
     "text": [
      "1/4 [======>.......................] - ETA: 0s"
     ]
    },
    {
     "name": "stderr",
     "output_type": "stream",
     "text": [
      "2023-12-06 22:01:37.929460: I tensorflow/core/grappler/optimizers/custom_graph_optimizer_registry.cc:114] Plugin optimizer for device_type GPU is enabled.\n"
     ]
    },
    {
     "name": "stdout",
     "output_type": "stream",
     "text": [
      "4/4 [==============================] - 0s 26ms/step\n"
     ]
    }
   ],
   "source": [
    "# SAME AS NOTEBOOK 7\n",
    "predicted_masks = model.predict(X_val)"
   ]
  },
  {
   "cell_type": "code",
   "execution_count": 17,
   "metadata": {},
   "outputs": [
    {
     "data": {
      "text/plain": [
       "(100, 64, 64, 3)"
      ]
     },
     "execution_count": 17,
     "metadata": {},
     "output_type": "execute_result"
    }
   ],
   "source": [
    "# The output has channels where each channel is a class\n",
    "predicted_masks.shape"
   ]
  },
  {
   "cell_type": "code",
   "execution_count": 18,
   "metadata": {},
   "outputs": [
    {
     "data": {
      "text/plain": [
       "<matplotlib.image.AxesImage at 0x2e5407f10>"
      ]
     },
     "execution_count": 18,
     "metadata": {},
     "output_type": "execute_result"
    },
    {
     "data": {
      "image/png": "[encoded data removed]",
      "text/plain": [
       "<Figure size 640x480 with 3 Axes>"
      ]
     },
     "metadata": {},
     "output_type": "display_data"
    }
   ],
   "source": [
    "# We need to do argmax to get predicted labels\n",
    "i = 2\n",
    "prediction = np.argmax(predicted_masks[i], axis=2)\n",
    "ground_truth = np.argmax(y_val[i], axis=2)\n",
    "fig, ax = plt.subplots(1, 3)\n",
    "ax[0].imshow(X_val[i])\n",
    "ax[1].imshow(ground_truth)\n",
    "ax[2].imshow(prediction)"
   ]
  },
  {
   "cell_type": "code",
   "execution_count": 19,
   "metadata": {},
   "outputs": [
    {
     "data": {
      "text/plain": [
       "(64, 64)"
      ]
     },
     "execution_count": 19,
     "metadata": {},
     "output_type": "execute_result"
    }
   ],
   "source": [
    "# Back to the original shape\n",
    "prediction.shape"
   ]
  },
  {
   "cell_type": "markdown",
   "metadata": {},
   "source": [
    "## 3. Flow from directory\n",
    "\n",
    "Now this part is also very similar to Notebook 7. The only issue is we need to add the `to_categorical` step.\n",
    "\n",
    "`ImageDataGenerator()` has a parameter called `preprocessing_function` but the documentation says\n",
    "\n",
    ">The function should take one argument: one image (Numpy tensor with rank 3), and should output a Numpy tensor with the same shape.\n",
    "\n",
    "Which means it won't allow `to_categorical` because it changes the shape of the array. So I used a custom generator:"
   ]
  },
  {
   "cell_type": "code",
   "execution_count": 20,
   "metadata": {},
   "outputs": [],
   "source": [
    "from tensorflow.keras.preprocessing.image import ImageDataGenerator\n",
    "\n",
    "def custom_generator(dataset_type, batch_size, target_size):\n",
    "    image_datagen = ImageDataGenerator()\n",
    "    mask_datagen = ImageDataGenerator()\n",
    "\n",
    "    image_generator = image_datagen.flow_from_directory(\n",
    "        f'shapes_dataset/{dataset_type}_images',\n",
    "        class_mode=None,\n",
    "        batch_size=batch_size,\n",
    "        target_size=target_size,\n",
    "        seed=42)\n",
    "\n",
    "    mask_generator = mask_datagen.flow_from_directory(\n",
    "        f'shapes_dataset/{dataset_type}_masks',\n",
    "        class_mode=None,\n",
    "        batch_size=batch_size,\n",
    "        target_size=target_size,\n",
    "        color_mode='grayscale',\n",
    "        seed=42)\n",
    "    \n",
    "    # Here I can add the to_categorical part\n",
    "    while True:\n",
    "        X = image_generator.next()\n",
    "        Y = mask_generator.next()\n",
    "        Y = to_categorical(Y, num_classes=3)  # Convert masks to categorical\n",
    "        yield X, Y"
   ]
  },
  {
   "cell_type": "code",
   "execution_count": 21,
   "metadata": {},
   "outputs": [],
   "source": [
    "train_gen = custom_generator('train', batch_size=32, target_size=(64, 64))\n",
    "val_gen = custom_generator('val', batch_size=32, target_size=(64, 64))"
   ]
  },
  {
   "cell_type": "code",
   "execution_count": 22,
   "metadata": {},
   "outputs": [
    {
     "name": "stdout",
     "output_type": "stream",
     "text": [
      "Model: \"model_1\"\n",
      "__________________________________________________________________________________________________\n",
      " Layer (type)                Output Shape                 Param #   Connected to                  \n",
      "==================================================================================================\n",
      " input_2 (InputLayer)        [(None, 64, 64, 3)]          0         []                            \n",
      "                                                                                                  \n",
      " conv2d_19 (Conv2D)          (None, 64, 64, 16)           448       ['input_2[0][0]']             \n",
      "                                                                                                  \n",
      " dropout_9 (Dropout)         (None, 64, 64, 16)           0         ['conv2d_19[0][0]']           \n",
      "                                                                                                  \n",
      " conv2d_20 (Conv2D)          (None, 64, 64, 16)           2320      ['dropout_9[0][0]']           \n",
      "                                                                                                  \n",
      " max_pooling2d_4 (MaxPoolin  (None, 32, 32, 16)           0         ['conv2d_20[0][0]']           \n",
      " g2D)                                                                                             \n",
      "                                                                                                  \n",
      " conv2d_21 (Conv2D)          (None, 32, 32, 32)           4640      ['max_pooling2d_4[0][0]']     \n",
      "                                                                                                  \n",
      " dropout_10 (Dropout)        (None, 32, 32, 32)           0         ['conv2d_21[0][0]']           \n",
      "                                                                                                  \n",
      " conv2d_22 (Conv2D)          (None, 32, 32, 32)           9248      ['dropout_10[0][0]']          \n",
      "                                                                                                  \n",
      " max_pooling2d_5 (MaxPoolin  (None, 16, 16, 32)           0         ['conv2d_22[0][0]']           \n",
      " g2D)                                                                                             \n",
      "                                                                                                  \n",
      " conv2d_23 (Conv2D)          (None, 16, 16, 64)           18496     ['max_pooling2d_5[0][0]']     \n",
      "                                                                                                  \n",
      " dropout_11 (Dropout)        (None, 16, 16, 64)           0         ['conv2d_23[0][0]']           \n",
      "                                                                                                  \n",
      " conv2d_24 (Conv2D)          (None, 16, 16, 64)           36928     ['dropout_11[0][0]']          \n",
      "                                                                                                  \n",
      " max_pooling2d_6 (MaxPoolin  (None, 8, 8, 64)             0         ['conv2d_24[0][0]']           \n",
      " g2D)                                                                                             \n",
      "                                                                                                  \n",
      " conv2d_25 (Conv2D)          (None, 8, 8, 128)            73856     ['max_pooling2d_6[0][0]']     \n",
      "                                                                                                  \n",
      " dropout_12 (Dropout)        (None, 8, 8, 128)            0         ['conv2d_25[0][0]']           \n",
      "                                                                                                  \n",
      " conv2d_26 (Conv2D)          (None, 8, 8, 128)            147584    ['dropout_12[0][0]']          \n",
      "                                                                                                  \n",
      " max_pooling2d_7 (MaxPoolin  (None, 4, 4, 128)            0         ['conv2d_26[0][0]']           \n",
      " g2D)                                                                                             \n",
      "                                                                                                  \n",
      " conv2d_27 (Conv2D)          (None, 4, 4, 256)            295168    ['max_pooling2d_7[0][0]']     \n",
      "                                                                                                  \n",
      " dropout_13 (Dropout)        (None, 4, 4, 256)            0         ['conv2d_27[0][0]']           \n",
      "                                                                                                  \n",
      " conv2d_28 (Conv2D)          (None, 4, 4, 256)            590080    ['dropout_13[0][0]']          \n",
      "                                                                                                  \n",
      " conv2d_transpose_4 (Conv2D  (None, 8, 8, 128)            131200    ['conv2d_28[0][0]']           \n",
      " Transpose)                                                                                       \n",
      "                                                                                                  \n",
      " concatenate_4 (Concatenate  (None, 8, 8, 256)            0         ['conv2d_transpose_4[0][0]',  \n",
      " )                                                                   'conv2d_26[0][0]']           \n",
      "                                                                                                  \n",
      " conv2d_29 (Conv2D)          (None, 8, 8, 128)            295040    ['concatenate_4[0][0]']       \n",
      "                                                                                                  \n",
      " dropout_14 (Dropout)        (None, 8, 8, 128)            0         ['conv2d_29[0][0]']           \n",
      "                                                                                                  \n",
      " conv2d_30 (Conv2D)          (None, 8, 8, 128)            147584    ['dropout_14[0][0]']          \n",
      "                                                                                                  \n",
      " conv2d_transpose_5 (Conv2D  (None, 16, 16, 64)           32832     ['conv2d_30[0][0]']           \n",
      " Transpose)                                                                                       \n",
      "                                                                                                  \n",
      " concatenate_5 (Concatenate  (None, 16, 16, 128)          0         ['conv2d_transpose_5[0][0]',  \n",
      " )                                                                   'conv2d_24[0][0]']           \n",
      "                                                                                                  \n",
      " conv2d_31 (Conv2D)          (None, 16, 16, 64)           73792     ['concatenate_5[0][0]']       \n",
      "                                                                                                  \n",
      " dropout_15 (Dropout)        (None, 16, 16, 64)           0         ['conv2d_31[0][0]']           \n",
      "                                                                                                  \n",
      " conv2d_32 (Conv2D)          (None, 16, 16, 64)           36928     ['dropout_15[0][0]']          \n",
      "                                                                                                  \n",
      " conv2d_transpose_6 (Conv2D  (None, 32, 32, 32)           8224      ['conv2d_32[0][0]']           \n",
      " Transpose)                                                                                       \n",
      "                                                                                                  \n",
      " concatenate_6 (Concatenate  (None, 32, 32, 64)           0         ['conv2d_transpose_6[0][0]',  \n",
      " )                                                                   'conv2d_22[0][0]']           \n",
      "                                                                                                  \n",
      " conv2d_33 (Conv2D)          (None, 32, 32, 32)           18464     ['concatenate_6[0][0]']       \n",
      "                                                                                                  \n",
      " dropout_16 (Dropout)        (None, 32, 32, 32)           0         ['conv2d_33[0][0]']           \n",
      "                                                                                                  \n",
      " conv2d_34 (Conv2D)          (None, 32, 32, 32)           9248      ['dropout_16[0][0]']          \n",
      "                                                                                                  \n",
      " conv2d_transpose_7 (Conv2D  (None, 64, 64, 16)           2064      ['conv2d_34[0][0]']           \n",
      " Transpose)                                                                                       \n",
      "                                                                                                  \n",
      " concatenate_7 (Concatenate  (None, 64, 64, 32)           0         ['conv2d_transpose_7[0][0]',  \n",
      " )                                                                   'conv2d_20[0][0]']           \n",
      "                                                                                                  \n",
      " conv2d_35 (Conv2D)          (None, 64, 64, 16)           4624      ['concatenate_7[0][0]']       \n",
      "                                                                                                  \n",
      " dropout_17 (Dropout)        (None, 64, 64, 16)           0         ['conv2d_35[0][0]']           \n",
      "                                                                                                  \n",
      " conv2d_36 (Conv2D)          (None, 64, 64, 16)           2320      ['dropout_17[0][0]']          \n",
      "                                                                                                  \n",
      " conv2d_37 (Conv2D)          (None, 64, 64, 3)            51        ['conv2d_36[0][0]']           \n",
      "                                                                                                  \n",
      "==================================================================================================\n",
      "Total params: 1941139 (7.40 MB)\n",
      "Trainable params: 1941139 (7.40 MB)\n",
      "Non-trainable params: 0 (0.00 Byte)\n",
      "__________________________________________________________________________________________________\n"
     ]
    }
   ],
   "source": [
    "model = multiclass_unet_model(64, 64, 3, n_classes=3)"
   ]
  },
  {
   "cell_type": "code",
   "execution_count": 23,
   "metadata": {},
   "outputs": [],
   "source": [
    "# I am cheating here a little\n",
    "# Generators have an attribute to get dataset size\n",
    "# but since I wrote a custom one, I did not implement such attributes\n",
    "# I am simply checking the size from X_train/X_val, but you can check it without loading images to memory\n",
    "num_of_train_images = X_train.shape[0]\n",
    "num_of_val_images = X_val.shape[0]"
   ]
  },
  {
   "cell_type": "code",
   "execution_count": 24,
   "metadata": {},
   "outputs": [
    {
     "name": "stdout",
     "output_type": "stream",
     "text": [
      "Found 500 images belonging to 1 classes.\n",
      "Found 500 images belonging to 1 classes.\n",
      "Epoch 1/100\n"
     ]
    },
    {
     "name": "stderr",
     "output_type": "stream",
     "text": [
      "2023-12-06 22:01:39.282129: I tensorflow/core/grappler/optimizers/custom_graph_optimizer_registry.cc:114] Plugin optimizer for device_type GPU is enabled.\n"
     ]
    },
    {
     "name": "stdout",
     "output_type": "stream",
     "text": [
      "14/15 [===========================>..] - ETA: 0s - loss: 11.1209 - accuracy: 0.8011 - f1: 0.7903 - iou: 0.7095Found 100 images belonging to 1 classes.\n",
      "Found 100 images belonging to 1 classes.\n"
     ]
    },
    {
     "name": "stderr",
     "output_type": "stream",
     "text": [
      "2023-12-06 22:01:40.870228: I tensorflow/core/grappler/optimizers/custom_graph_optimizer_registry.cc:114] Plugin optimizer for device_type GPU is enabled.\n"
     ]
    },
    {
     "name": "stdout",
     "output_type": "stream",
     "text": [
      "15/15 [==============================] - 3s 82ms/step - loss: 10.5842 - accuracy: 0.8108 - f1: 0.8007 - iou: 0.7221 - val_loss: 1.4630 - val_accuracy: 0.9575 - val_f1: 0.9521 - val_iou: 0.9049\n",
      "Epoch 2/100\n",
      "15/15 [==============================] - 1s 44ms/step - loss: 2.2041 - accuracy: 0.9527 - f1: 0.9520 - iou: 0.9095 - val_loss: 0.7040 - val_accuracy: 0.9712 - val_f1: 0.9692 - val_iou: 0.9357\n",
      "Epoch 3/100\n",
      "15/15 [==============================] - 0s 33ms/step - loss: 1.2266 - accuracy: 0.9618 - f1: 0.9615 - iou: 0.9270 - val_loss: 0.3947 - val_accuracy: 0.9779 - val_f1: 0.9770 - val_iou: 0.9527\n",
      "Epoch 4/100\n",
      "15/15 [==============================] - 0s 33ms/step - loss: 0.7632 - accuracy: 0.9664 - f1: 0.9661 - iou: 0.9363 - val_loss: 0.1647 - val_accuracy: 0.9847 - val_f1: 0.9843 - val_iou: 0.9689\n",
      "Epoch 5/100\n",
      "15/15 [==============================] - 0s 34ms/step - loss: 0.4429 - accuracy: 0.9745 - f1: 0.9745 - iou: 0.9528 - val_loss: 0.0556 - val_accuracy: 0.9933 - val_f1: 0.9932 - val_iou: 0.9872\n",
      "Epoch 6/100\n",
      "15/15 [==============================] - 0s 32ms/step - loss: 0.2592 - accuracy: 0.9825 - f1: 0.9824 - iou: 0.9676 - val_loss: 0.0339 - val_accuracy: 0.9971 - val_f1: 0.9973 - val_iou: 0.9944\n",
      "Epoch 7/100\n",
      "15/15 [==============================] - 0s 33ms/step - loss: 0.1550 - accuracy: 0.9886 - f1: 0.9887 - iou: 0.9793 - val_loss: 0.0597 - val_accuracy: 0.9962 - val_f1: 0.9965 - val_iou: 0.9932\n",
      "Epoch 8/100\n",
      "15/15 [==============================] - 0s 33ms/step - loss: 0.1104 - accuracy: 0.9916 - f1: 0.9916 - iou: 0.9847 - val_loss: 0.0212 - val_accuracy: 0.9983 - val_f1: 0.9981 - val_iou: 0.9964\n",
      "Epoch 9/100\n",
      "15/15 [==============================] - 0s 32ms/step - loss: 0.0811 - accuracy: 0.9938 - f1: 0.9938 - iou: 0.9887 - val_loss: 0.0229 - val_accuracy: 0.9986 - val_f1: 0.9986 - val_iou: 0.9971\n",
      "Epoch 10/100\n",
      "15/15 [==============================] - 0s 30ms/step - loss: 0.0684 - accuracy: 0.9949 - f1: 0.9949 - iou: 0.9907 - val_loss: 0.0282 - val_accuracy: 0.9984 - val_f1: 0.9988 - val_iou: 0.9976\n"
     ]
    }
   ],
   "source": [
    "# SAME AS NOTEBOOK 7\n",
    "cb = EarlyStopping(monitor='val_loss',\n",
    "                   patience=2,\n",
    "                   restore_best_weights='True',\n",
    "                   mode='min')\n",
    "\n",
    "history = model.fit(\n",
    "    train_gen,\n",
    "    steps_per_epoch = num_of_train_images//32,\n",
    "    epochs=100,\n",
    "    validation_data = val_gen,\n",
    "    validation_steps = num_of_val_images//32,\n",
    "    callbacks=[cb]\n",
    ")"
   ]
  },
  {
   "cell_type": "code",
   "execution_count": 25,
   "metadata": {},
   "outputs": [
    {
     "name": "stdout",
     "output_type": "stream",
     "text": [
      "1/4 [======>.......................] - ETA: 0s"
     ]
    },
    {
     "name": "stderr",
     "output_type": "stream",
     "text": [
      "2023-12-06 22:01:46.307467: I tensorflow/core/grappler/optimizers/custom_graph_optimizer_registry.cc:114] Plugin optimizer for device_type GPU is enabled.\n"
     ]
    },
    {
     "name": "stdout",
     "output_type": "stream",
     "text": [
      "4/4 [==============================] - 0s 37ms/step\n"
     ]
    },
    {
     "data": {
      "text/plain": [
       "(100, 64, 64, 3)"
      ]
     },
     "execution_count": 25,
     "metadata": {},
     "output_type": "execute_result"
    }
   ],
   "source": [
    "predicted_masks = model.predict(X_val)\n",
    "predicted_masks.shape"
   ]
  },
  {
   "cell_type": "code",
   "execution_count": 26,
   "metadata": {},
   "outputs": [
    {
     "data": {
      "text/plain": [
       "<matplotlib.image.AxesImage at 0x1719c8d00>"
      ]
     },
     "execution_count": 26,
     "metadata": {},
     "output_type": "execute_result"
    },
    {
     "data": {
      "image/png": "[encoded data removed]",
      "text/plain": [
       "<Figure size 640x480 with 3 Axes>"
      ]
     },
     "metadata": {},
     "output_type": "display_data"
    }
   ],
   "source": [
    "i = 0\n",
    "prediction = np.argmax(predicted_masks[i], axis=2)\n",
    "ground_truth = np.argmax(y_val[i], axis=2)\n",
    "fig, ax = plt.subplots(1, 3)\n",
    "ax[0].imshow(X_val[i])\n",
    "ax[1].imshow(ground_truth)\n",
    "ax[2].imshow(prediction)"
   ]
  }
 ],
 "metadata": {
  "kernelspec": {
   "display_name": "y2b",
   "language": "python",
   "name": "python3"
  },
  "language_info": {
   "codemirror_mode": {
    "name": "ipython",
    "version": 3
   },
   "file_extension": ".py",
   "mimetype": "text/x-python",
   "name": "python",
   "nbconvert_exporter": "python",
   "pygments_lexer": "ipython3",
   "version": "3.8.16"
  }
 },
 "nbformat": 4,
 "nbformat_minor": 2
}
