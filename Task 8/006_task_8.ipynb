{
 "cells": [
  {
   "cell_type": "markdown",
   "metadata": {},
   "source": [
    "### Task 7"
   ]
  },
  {
   "cell_type": "markdown",
   "metadata": {},
   "source": [
    "### Import required libraries"
   ]
  },
  {
   "cell_type": "code",
   "execution_count": 2,
   "metadata": {},
   "outputs": [],
   "source": [
    "import matplotlib.pyplot as plt\n",
    "import numpy as np\n",
    "import pandas as pd\n",
    "import os\n",
    "import cv2\n",
    "\n",
    "from skimage.morphology import skeletonize\n",
    "from skimage.morphology import remove_small_objects\n",
    "from skan import Skeleton, summarize\n",
    "from skan.csr import skeleton_to_csgraph\n",
    "from scipy.sparse import csr_matrix"
   ]
  },
  {
   "cell_type": "markdown",
   "metadata": {},
   "source": [
    "### Display one plant"
   ]
  },
  {
   "cell_type": "code",
   "execution_count": 3,
   "metadata": {},
   "outputs": [
    {
     "data": {
      "text/plain": [
       "<matplotlib.image.AxesImage at 0x7fa39f02f510>"
      ]
     },
     "execution_count": 3,
     "metadata": {},
     "output_type": "execute_result"
    },
    {
     "data": {
      "image/png": "[encoded data removed]",
      "text/plain": [
       "<Figure size 640x480 with 1 Axes>"
      ]
     },
     "metadata": {},
     "output_type": "display_data"
    }
   ],
   "source": [
    "image = \"Kaggle Plants 5/test_image_18_root_mask_plant_5.png\"\n",
    "plant_image = cv2.imread(image, 0)\n",
    "plt.imshow(plant_image, cmap='gray')"
   ]
  },
  {
   "cell_type": "markdown",
   "metadata": {},
   "source": [
    "## Code Overview: Root System Architecture (RSA) Extraction\n",
    "\n",
    "This code calculates the main root length of a plant from a binary root mask image using skeletonization and graph-based analysis.\n",
    "\n",
    "### Key Steps:\n",
    "1. **Input Validation**:\n",
    "   - Ensures the input image is valid.\n",
    "   - Handles cases where the image is completely black by returning a distance of 0.\n",
    "\n",
    "2. **Image Preprocessing**:\n",
    "   - Converts the input to a binary image using thresholding.\n",
    "   - Skeletonizes the binary image to reduce the root structure to a single-pixel-wide representation.\n",
    "\n",
    "3. **Graph Analysis**:\n",
    "   - Converts the skeletonized image into a graph representation.\n",
    "   - Identifies the first and last nodes (endpoints of the root).\n",
    "\n",
    "4. **Main Root Length Calculation**:\n",
    "   - Computes the Euclidean distance between the first and last nodes, representing the main root length.\n",
    "\n",
    "5. **Output**:\n",
    "   - Returns the main root length and the coordinates of the first node.\n",
    "\n",
    "### Example Usage:\n",
    "The code reads a grayscale root mask image and calculates the main root length. If the image cannot be loaded, it logs an error. \n",
    "\n",
    "This function is particularly useful for analyzing plant root systems in agricultural or biological research.\n"
   ]
  },
  {
   "cell_type": "code",
   "execution_count": 4,
   "metadata": {},
   "outputs": [
    {
     "name": "stdout",
     "output_type": "stream",
     "text": [
      "Input image is completely black. Returning distance = 0.\n",
      "The main root length is: 0.00\n"
     ]
    }
   ],
   "source": [
    "import cv2\n",
    "import os\n",
    "\n",
    "\n",
    "def rsa_extraction(plant_image):\n",
    "    if plant_image is None:\n",
    "        raise ValueError(\"Input image is None. Check if the file path is correct and the image is valid.\")\n",
    "\n",
    "    # Check if the image is completely black\n",
    "    if np.sum(plant_image) == 0:\n",
    "        print(\"Input image is completely black. Returning distance = 0.\")\n",
    "        return 0\n",
    "\n",
    "    _, binary_image = cv2.threshold(plant_image, 0, 255, cv2.THRESH_BINARY)\n",
    "\n",
    "    binary_normalized = binary_image / 255\n",
    "    plant_skeleton = skeletonize(binary_normalized).astype(np.uint8) * 255  \n",
    "       \n",
    "    # Assuming plant_image is your binary skeleton image\n",
    "    g0, c0 = skeleton_to_csgraph(plant_skeleton)\n",
    "\n",
    "    # Convert the coordinate array for processing\n",
    "    coordinates = np.transpose(c0)\n",
    "\n",
    "    # Get the first and last nodes\n",
    "    first_node = coordinates[0]\n",
    "    last_node = coordinates[-1]\n",
    "\n",
    "    # Calculate the Euclidean distance between the first and last nodes\n",
    "    distance = np.sqrt((last_node[0] - first_node[0])**2 + (last_node[1] - first_node[1])**2)\n",
    "\n",
    "    return distance, tuple(first_node)\n",
    "\n",
    "# Example usage\n",
    "plant_path = \"Kaggle Plants 5/test_image_1_root_mask_plant_5.png\"\n",
    "plant = cv2.imread(plant_path, 0)  # Load in grayscale\n",
    "if plant is None:\n",
    "    print(f\"Failed to load image from path: {plant_path}\")\n",
    "else:\n",
    "    main_root_length = rsa_extraction(plant)\n",
    "    print(f\"The main root length is: {main_root_length:.2f}\")"
   ]
  },
  {
   "cell_type": "markdown",
   "metadata": {},
   "source": [
    "## Code Overview: Root System Architecture (RSA) Extraction\n",
    "\n",
    "This code calculates the main root length of a plant from a binary root mask image using skeletonization and graph-based analysis.\n",
    "\n",
    "### Key Steps:\n",
    "1. **Input Validation**:\n",
    "   - Ensures the input image is valid.\n",
    "   - Handles cases where the image is completely black by returning a distance of 0.\n",
    "\n",
    "2. **Image Preprocessing**:\n",
    "   - Converts the input to a binary image using thresholding.\n",
    "   - Skeletonizes the binary image to reduce the root structure to a single-pixel-wide representation.\n",
    "\n",
    "3. **Graph Analysis**:\n",
    "   - Converts the skeletonized image into a graph representation.\n",
    "   - Identifies the first and last nodes (endpoints of the root).\n",
    "\n",
    "4. **Main Root Length Calculation**:\n",
    "   - Computes the Euclidean distance between the first and last nodes, representing the main root length.\n",
    "\n",
    "5. **Output**:\n",
    "   - Returns the main root length and the coordinates of the first node.\n",
    "\n",
    "### Example Usage:\n",
    "The code reads a grayscale root mask image and calculates the main root length. If the image cannot be loaded, it logs an error. \n",
    "\n",
    "This function is particularly useful for analyzing plant root systems in agricultural or biological research.\n"
   ]
  },
  {
   "cell_type": "code",
   "execution_count": 10,
   "metadata": {},
   "outputs": [
    {
     "name": "stdout",
     "output_type": "stream",
     "text": [
      "Input image is completely black. Returning distance = 0.\n",
      "Error processing test_image_16_root_mask_plant_3.png: cannot unpack non-iterable int object\n",
      "Input image is completely black. Returning distance = 0.\n",
      "Error processing test_image_18_root_mask_plant_3.png: cannot unpack non-iterable int object\n",
      "Input image is completely black. Returning distance = 0.\n",
      "Error processing test_image_1_root_mask_plant_2.png: cannot unpack non-iterable int object\n",
      "Input image is completely black. Returning distance = 0.\n",
      "Error processing test_image_1_root_mask_plant_4.png: cannot unpack non-iterable int object\n",
      "Input image is completely black. Returning distance = 0.\n",
      "Error processing test_image_1_root_mask_plant_5.png: cannot unpack non-iterable int object\n",
      "Results saved to main_root_lengths_iteration_dddd.csv\n",
      "Results saved to Root Tips.csv\n"
     ]
    }
   ],
   "source": [
    "# function to process all images in a folder\n",
    "def process_images_in_folder(folder_path, output_csv, tips_csv):\n",
    "    # Initialize lists to store results\n",
    "    results = []\n",
    "    tips = []\n",
    "    # Get a sorted list of image file paths\n",
    "    image_files = sorted(\n",
    "        [f for f in os.listdir(folder_path) if f.endswith(('.png', '.jpg', '.jpeg', '.bmp', '.tif'))]\n",
    "    )\n",
    "\n",
    "    # Group images by \"larger image\" identifier (e.g., test_image_8)\n",
    "    grouped_images = {}\n",
    "    # fot loop to extract group identifier and plant number\n",
    "    for filename in image_files:\n",
    "        # Extract group identifier (e.g., test_image_8) and plant number\n",
    "        base_name = os.path.splitext(filename)[0]\n",
    "        parts = base_name.split('_')\n",
    "        group_id = '_'.join(parts[:3])  # Extract \"test_image_8\"\n",
    "        plant_num = int(parts[-1].replace(\"plant\", \"\"))  # Extract \"5\" from \"plant_5\"\n",
    "        # Add the image to the corresponding group\n",
    "        if group_id not in grouped_images:\n",
    "            grouped_images[group_id] = []\n",
    "        grouped_images[group_id].append((plant_num, filename))\n",
    "\n",
    "    # Sort groups and their images\n",
    "    for group_id in grouped_images:\n",
    "        grouped_images[group_id] = sorted(grouped_images[group_id], key=lambda x: x[0])\n",
    "\n",
    "    # Process each group\n",
    "    for group_id, plants in grouped_images.items():\n",
    "        processed_plants = {plant_num: filename for plant_num, filename in plants}\n",
    "        # fpr loop to process each plant\n",
    "        for i in range(1, 6):  # Expecting exactly 5 plants\n",
    "            # Check if the image exists for this plant\n",
    "            if i in processed_plants:\n",
    "                # Image exists for this plant\n",
    "                filename = processed_plants[i]\n",
    "                # Load the image    \n",
    "                plant_path = os.path.join(folder_path, filename)\n",
    "                plant_image = cv2.imread(plant_path, 0)  # Load the image in grayscale\n",
    "                # check if the image is loaded\n",
    "                if plant_image is None:\n",
    "                    print(f\"Skipping {filename}: Unable to load image.\")\n",
    "                    length = 0\n",
    "                else:\n",
    "                    # try catch block to handle exceptions\n",
    "                    try:\n",
    "                        length, tip = rsa_extraction(plant_image)\n",
    "                    except Exception as e:\n",
    "                        print(f\"Error processing {filename}: {e}\")\n",
    "                        length = 0\n",
    "                        tip = (0, 0)\n",
    "                # Append the results\n",
    "                formatted_name = f\"{group_id}_plant_{i}\"\n",
    "                results.append({\"Plant ID\": formatted_name, \"Length (px)\": length})\n",
    "                tips.append({\"Plant ID\": formatted_name, \"Tip (px)\": tip})\n",
    "            # If the image is missing\n",
    "            else:\n",
    "                # Plant image missing, assign length 0\n",
    "                formatted_name = f\"{group_id}_plant_{i}.png\"\n",
    "                results.append({\"Plant ID\": formatted_name, \"Length (px)\": 0})\n",
    "                tips.append({\"Plant ID\": formatted_name, \"Tip (px)\": tip})\n",
    "\n",
    "    # Sort results by Plant ID numerically\n",
    "    results = sorted(\n",
    "        results,\n",
    "        key=lambda x: (int(x['Plant ID'].split('_')[2]), int(x['Plant ID'].split('_')[4].replace(\"plant\", \"\").replace(\".png\", \"\")))\n",
    "    )\n",
    "    # Sort tips by Plant ID numerically for Root Tips Coordinates\n",
    "    tips = sorted(\n",
    "        tips,\n",
    "        key=lambda x: (int(x['Plant ID'].split('_')[2]), int(x['Plant ID'].split('_')[4].replace(\"plant\", \"\").replace(\".png\", \"\")))\n",
    "    )\n",
    "\n",
    "    # Save the results to a CSV file\n",
    "    df = pd.DataFrame(results)\n",
    "    df.to_csv(output_csv, index=False)\n",
    "    print(f\"Results saved to {output_csv}\")\n",
    "    # Save the results to a CSV file for root tips\n",
    "    df1 = pd.DataFrame(tips)\n",
    "    df1.to_csv(tips_csv, index=False)\n",
    "    print(f\"Results saved to {tips_csv}\")\n",
    "\n",
    "\n",
    "\n",
    "\n",
    "# Specify the folder containing images and the output CSV file path\n",
    "folder_path = \"Kaggle Plants 5\"  # Replace with the folder path\n",
    "output_csv = \"main_root_lengths_iteration_5.csv\"\n",
    "tips_csv = 'Root Tips-plates.csv'\n",
    "# Process the images and save results to CSV\n",
    "process_images_in_folder(folder_path, output_csv, tips_csv)"
   ]
  }
 ],
 "metadata": {
  "kernelspec": {
   "display_name": "Python 3 (ipykernel)",
   "language": "python",
   "name": "python3"
  },
  "language_info": {
   "codemirror_mode": {
    "name": "ipython",
    "version": 3
   },
   "file_extension": ".py",
   "mimetype": "text/x-python",
   "name": "python",
   "nbconvert_exporter": "python",
   "pygments_lexer": "ipython3",
   "version": "3.11.0rc1"
  }
 },
 "nbformat": 4,
 "nbformat_minor": 4
}
