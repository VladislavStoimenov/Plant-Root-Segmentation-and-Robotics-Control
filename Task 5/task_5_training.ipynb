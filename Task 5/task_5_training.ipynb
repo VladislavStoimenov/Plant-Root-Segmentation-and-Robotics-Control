{
 "cells": [
  {
   "cell_type": "code",
   "execution_count": 1,
   "metadata": {},
   "outputs": [
    {
     "name": "stderr",
     "output_type": "stream",
     "text": [
      "2025-01-17 20:13:57.545754: E external/local_xla/xla/stream_executor/cuda/cuda_dnn.cc:9261] Unable to register cuDNN factory: Attempting to register factory for plugin cuDNN when one has already been registered\n",
      "2025-01-17 20:13:57.545802: E external/local_xla/xla/stream_executor/cuda/cuda_fft.cc:607] Unable to register cuFFT factory: Attempting to register factory for plugin cuFFT when one has already been registered\n",
      "2025-01-17 20:13:57.547648: E external/local_xla/xla/stream_executor/cuda/cuda_blas.cc:1515] Unable to register cuBLAS factory: Attempting to register factory for plugin cuBLAS when one has already been registered\n",
      "2025-01-17 20:13:57.557390: I tensorflow/core/platform/cpu_feature_guard.cc:182] This TensorFlow binary is optimized to use available CPU instructions in performance-critical operations.\n",
      "To enable the following instructions: AVX2 FMA, in other operations, rebuild TensorFlow with the appropriate compiler flags.\n"
     ]
    }
   ],
   "source": [
    "# import things\n",
    "import glob\n",
    "import os\n",
    "import cv2\n",
    "import numpy as np\n",
    "import matplotlib.pyplot as plt\n",
    "import tensorflow as tf\n",
    "import keras.backend as K\n",
    "from tensorflow import reduce_sum, round, clip_by_value\n",
    "from keras.models import Model\n",
    "import keras.backend as K\n",
    "from keras.layers import Input, Conv2D, MaxPooling2D, UpSampling2D, concatenate, Conv2DTranspose, BatchNormalization, Dropout, Lambda\n",
    "from tensorflow.keras.callbacks import EarlyStopping, ModelCheckpoint"
   ]
  },
  {
   "cell_type": "code",
   "execution_count": 2,
   "metadata": {},
   "outputs": [],
   "source": [
    "# REQUIREMENT: Do not add code from Tasks 2 or 4\n",
    "# REQUIREMENT: All dataset prep (crop/pad/patch/directory structure) must be finalize before attempting this task.\n",
    "patch_size = 256\n",
    "patch_dir = 'Y2B_24_23_filtered_2'"
   ]
  },
  {
   "cell_type": "code",
   "execution_count": 3,
   "metadata": {},
   "outputs": [],
   "source": [
    "def f1(y_true, y_pred):\n",
    "    def recall_m(y_true, y_pred):\n",
    "        TP = K.sum(K.round(K.clip(y_true * y_pred, 0, 1)))\n",
    "        Positives = K.sum(K.round(K.clip(y_true, 0, 1)))\n",
    "        recall = TP / (Positives+K.epsilon())\n",
    "        return recall\n",
    "    \n",
    "    def precision_m(y_true, y_pred):\n",
    "        TP = K.sum(K.round(K.clip(y_true * y_pred, 0, 1)))\n",
    "        Pred_Positives = K.sum(K.round(K.clip(y_pred, 0, 1)))\n",
    "        precision = TP / (Pred_Positives+K.epsilon())\n",
    "        return precision\n",
    "    \n",
    "    precision, recall = precision_m(y_true, y_pred), recall_m(y_true, y_pred)\n",
    "    \n",
    "    return 2*((precision*recall)/(precision+recall+K.epsilon()))"
   ]
  },
  {
   "cell_type": "code",
   "execution_count": 4,
   "metadata": {},
   "outputs": [],
   "source": [
    "tf.keras.backend.clear_session()"
   ]
  },
  {
   "cell_type": "code",
   "execution_count": 5,
   "metadata": {},
   "outputs": [],
   "source": [
    "# Define U-Net\n",
    "def simple_unet_model(IMG_HEIGHT, IMG_WIDTH, IMG_CHANNELS):\n",
    "    inputs = Input((IMG_HEIGHT, IMG_WIDTH, IMG_CHANNELS))\n",
    "    s = inputs\n",
    "\n",
    "    # Contraction path\n",
    "    c1 = Conv2D(16, (3, 3), activation='relu', kernel_initializer='he_normal', padding='same')(s)\n",
    "    c1 = Dropout(0.1)(c1)\n",
    "    c1 = Conv2D(16, (3, 3), activation='relu', kernel_initializer='he_normal', padding='same')(c1)\n",
    "    p1 = MaxPooling2D((2, 2))(c1)\n",
    "\n",
    "    c2 = Conv2D(32, (3, 3), activation='relu', kernel_initializer='he_normal', padding='same')(p1)\n",
    "    c2 = Dropout(0.1)(c2)\n",
    "    c2 = Conv2D(32, (3, 3), activation='relu', kernel_initializer='he_normal', padding='same')(c2)\n",
    "    p2 = MaxPooling2D((2, 2))(c2)\n",
    "\n",
    "    c3 = Conv2D(64, (3, 3), activation='relu', kernel_initializer='he_normal', padding='same')(p2)\n",
    "    c3 = Dropout(0.2)(c3)\n",
    "    c3 = Conv2D(64, (3, 3), activation='relu', kernel_initializer='he_normal', padding='same')(c3)\n",
    "    p3 = MaxPooling2D((2, 2))(c3)\n",
    "\n",
    "    c4 = Conv2D(128, (3, 3), activation='relu', kernel_initializer='he_normal', padding='same')(p3)\n",
    "    c4 = Dropout(0.2)(c4)\n",
    "    c4 = Conv2D(128, (3, 3), activation='relu', kernel_initializer='he_normal', padding='same')(c4)\n",
    "    p4 = MaxPooling2D((2, 2))(c4)\n",
    "\n",
    "    c5 = Conv2D(256, (3, 3), activation='relu', kernel_initializer='he_normal', padding='same')(p4)\n",
    "    c5 = Dropout(0.2)(c5)\n",
    "    c5 = Conv2D(256, (3, 3), activation='relu', kernel_initializer='he_normal', padding='same')(c5)\n",
    "   \n",
    "    # Expansive path\n",
    "    u6 = Conv2DTranspose(128, (2, 2), strides=(2, 2), padding='same')(c5)\n",
    "    u6 = concatenate([u6, c4])\n",
    "    c6 = Conv2D(128, (3, 3), activation='relu', kernel_initializer='he_normal', padding='same')(u6)\n",
    "    c6 = Dropout(0.2)(c6)\n",
    "    c6 = Conv2D(128, (3, 3), activation='relu', kernel_initializer='he_normal', padding='same')(c6)\n",
    "     \n",
    "    u7 = Conv2DTranspose(64, (2, 2), strides=(2, 2), padding='same')(c6)\n",
    "    u7 = concatenate([u7, c3])\n",
    "    c7 = Conv2D(64, (3, 3), activation='relu', kernel_initializer='he_normal', padding='same')(u7)\n",
    "    c7 = Dropout(0.2)(c7)\n",
    "    c7 = Conv2D(64, (3, 3), activation='relu', kernel_initializer='he_normal', padding='same')(c7)\n",
    "     \n",
    "    u8 = Conv2DTranspose(32, (2, 2), strides=(2, 2), padding='same')(c7)\n",
    "    u8 = concatenate([u8, c2])\n",
    "    c8 = Conv2D(32, (3, 3), activation='relu', kernel_initializer='he_normal', padding='same')(u8)\n",
    "    c8 = Dropout(0.1)(c8)\n",
    "    c8 = Conv2D(32, (3, 3), activation='relu', kernel_initializer='he_normal', padding='same')(c8)\n",
    "     \n",
    "    u9 = Conv2DTranspose(16, (2, 2), strides=(2, 2), padding='same')(c8)\n",
    "    u9 = concatenate([u9, c1], axis=3)\n",
    "    c9 = Conv2D(16, (3, 3), activation='relu', kernel_initializer='he_normal', padding='same')(u9)\n",
    "    c9 = Dropout(0.1)(c9)\n",
    "    c9 = Conv2D(16, (3, 3), activation='relu', kernel_initializer='he_normal', padding='same')(c9)\n",
    "\n",
    "    outputs = Conv2D(1, (1, 1), activation='sigmoid')(c9)\n",
    "    model = Model(inputs=[inputs], outputs=[outputs])\n",
    "    model.compile(optimizer='adam', loss='binary_crossentropy', metrics=['accuracy', f1])\n",
    "    model.summary()\n",
    "    \n",
    "    return model"
   ]
  },
  {
   "cell_type": "code",
   "execution_count": 6,
   "metadata": {},
   "outputs": [
    {
     "name": "stderr",
     "output_type": "stream",
     "text": [
      "2025-01-17 20:14:09.241045: W tensorflow/core/common_runtime/gpu/gpu_bfc_allocator.cc:47] Overriding orig_value setting because the TF_FORCE_GPU_ALLOW_GROWTH environment variable is set. Original config value was 0.\n",
      "2025-01-17 20:14:09.259066: I tensorflow/core/common_runtime/gpu/gpu_device.cc:1929] Created device /job:localhost/replica:0/task:0/device:GPU:0 with 24796 MB memory:  -> device: 0, name: NVIDIA RTX A6000, pci bus id: 0000:01:00.0, compute capability: 8.6\n"
     ]
    },
    {
     "name": "stdout",
     "output_type": "stream",
     "text": [
      "Model: \"model\"\n",
      "__________________________________________________________________________________________________\n",
      " Layer (type)                Output Shape                 Param #   Connected to                  \n",
      "==================================================================================================\n",
      " input_1 (InputLayer)        [(None, 256, 256, 1)]        0         []                            \n",
      "                                                                                                  \n",
      " conv2d (Conv2D)             (None, 256, 256, 16)         160       ['input_1[0][0]']             \n",
      "                                                                                                  \n",
      " dropout (Dropout)           (None, 256, 256, 16)         0         ['conv2d[0][0]']              \n",
      "                                                                                                  \n",
      " conv2d_1 (Conv2D)           (None, 256, 256, 16)         2320      ['dropout[0][0]']             \n",
      "                                                                                                  \n",
      " max_pooling2d (MaxPooling2  (None, 128, 128, 16)         0         ['conv2d_1[0][0]']            \n",
      " D)                                                                                               \n",
      "                                                                                                  \n",
      " conv2d_2 (Conv2D)           (None, 128, 128, 32)         4640      ['max_pooling2d[0][0]']       \n",
      "                                                                                                  \n",
      " dropout_1 (Dropout)         (None, 128, 128, 32)         0         ['conv2d_2[0][0]']            \n",
      "                                                                                                  \n",
      " conv2d_3 (Conv2D)           (None, 128, 128, 32)         9248      ['dropout_1[0][0]']           \n",
      "                                                                                                  \n",
      " max_pooling2d_1 (MaxPoolin  (None, 64, 64, 32)           0         ['conv2d_3[0][0]']            \n",
      " g2D)                                                                                             \n",
      "                                                                                                  \n",
      " conv2d_4 (Conv2D)           (None, 64, 64, 64)           18496     ['max_pooling2d_1[0][0]']     \n",
      "                                                                                                  \n",
      " dropout_2 (Dropout)         (None, 64, 64, 64)           0         ['conv2d_4[0][0]']            \n",
      "                                                                                                  \n",
      " conv2d_5 (Conv2D)           (None, 64, 64, 64)           36928     ['dropout_2[0][0]']           \n",
      "                                                                                                  \n",
      " max_pooling2d_2 (MaxPoolin  (None, 32, 32, 64)           0         ['conv2d_5[0][0]']            \n",
      " g2D)                                                                                             \n",
      "                                                                                                  \n",
      " conv2d_6 (Conv2D)           (None, 32, 32, 128)          73856     ['max_pooling2d_2[0][0]']     \n",
      "                                                                                                  \n",
      " dropout_3 (Dropout)         (None, 32, 32, 128)          0         ['conv2d_6[0][0]']            \n",
      "                                                                                                  \n",
      " conv2d_7 (Conv2D)           (None, 32, 32, 128)          147584    ['dropout_3[0][0]']           \n",
      "                                                                                                  \n",
      " max_pooling2d_3 (MaxPoolin  (None, 16, 16, 128)          0         ['conv2d_7[0][0]']            \n",
      " g2D)                                                                                             \n",
      "                                                                                                  \n",
      " conv2d_8 (Conv2D)           (None, 16, 16, 256)          295168    ['max_pooling2d_3[0][0]']     \n",
      "                                                                                                  \n",
      " dropout_4 (Dropout)         (None, 16, 16, 256)          0         ['conv2d_8[0][0]']            \n",
      "                                                                                                  \n",
      " conv2d_9 (Conv2D)           (None, 16, 16, 256)          590080    ['dropout_4[0][0]']           \n",
      "                                                                                                  \n",
      " conv2d_transpose (Conv2DTr  (None, 32, 32, 128)          131200    ['conv2d_9[0][0]']            \n",
      " anspose)                                                                                         \n",
      "                                                                                                  \n",
      " concatenate (Concatenate)   (None, 32, 32, 256)          0         ['conv2d_transpose[0][0]',    \n",
      "                                                                     'conv2d_7[0][0]']            \n",
      "                                                                                                  \n",
      " conv2d_10 (Conv2D)          (None, 32, 32, 128)          295040    ['concatenate[0][0]']         \n",
      "                                                                                                  \n",
      " dropout_5 (Dropout)         (None, 32, 32, 128)          0         ['conv2d_10[0][0]']           \n",
      "                                                                                                  \n",
      " conv2d_11 (Conv2D)          (None, 32, 32, 128)          147584    ['dropout_5[0][0]']           \n",
      "                                                                                                  \n",
      " conv2d_transpose_1 (Conv2D  (None, 64, 64, 64)           32832     ['conv2d_11[0][0]']           \n",
      " Transpose)                                                                                       \n",
      "                                                                                                  \n",
      " concatenate_1 (Concatenate  (None, 64, 64, 128)          0         ['conv2d_transpose_1[0][0]',  \n",
      " )                                                                   'conv2d_5[0][0]']            \n",
      "                                                                                                  \n",
      " conv2d_12 (Conv2D)          (None, 64, 64, 64)           73792     ['concatenate_1[0][0]']       \n",
      "                                                                                                  \n",
      " dropout_6 (Dropout)         (None, 64, 64, 64)           0         ['conv2d_12[0][0]']           \n",
      "                                                                                                  \n",
      " conv2d_13 (Conv2D)          (None, 64, 64, 64)           36928     ['dropout_6[0][0]']           \n",
      "                                                                                                  \n",
      " conv2d_transpose_2 (Conv2D  (None, 128, 128, 32)         8224      ['conv2d_13[0][0]']           \n",
      " Transpose)                                                                                       \n",
      "                                                                                                  \n",
      " concatenate_2 (Concatenate  (None, 128, 128, 64)         0         ['conv2d_transpose_2[0][0]',  \n",
      " )                                                                   'conv2d_3[0][0]']            \n",
      "                                                                                                  \n",
      " conv2d_14 (Conv2D)          (None, 128, 128, 32)         18464     ['concatenate_2[0][0]']       \n",
      "                                                                                                  \n",
      " dropout_7 (Dropout)         (None, 128, 128, 32)         0         ['conv2d_14[0][0]']           \n",
      "                                                                                                  \n",
      " conv2d_15 (Conv2D)          (None, 128, 128, 32)         9248      ['dropout_7[0][0]']           \n",
      "                                                                                                  \n",
      " conv2d_transpose_3 (Conv2D  (None, 256, 256, 16)         2064      ['conv2d_15[0][0]']           \n",
      " Transpose)                                                                                       \n",
      "                                                                                                  \n",
      " concatenate_3 (Concatenate  (None, 256, 256, 32)         0         ['conv2d_transpose_3[0][0]',  \n",
      " )                                                                   'conv2d_1[0][0]']            \n",
      "                                                                                                  \n",
      " conv2d_16 (Conv2D)          (None, 256, 256, 16)         4624      ['concatenate_3[0][0]']       \n",
      "                                                                                                  \n",
      " dropout_8 (Dropout)         (None, 256, 256, 16)         0         ['conv2d_16[0][0]']           \n",
      "                                                                                                  \n",
      " conv2d_17 (Conv2D)          (None, 256, 256, 16)         2320      ['dropout_8[0][0]']           \n",
      "                                                                                                  \n",
      " conv2d_18 (Conv2D)          (None, 256, 256, 1)          17        ['conv2d_17[0][0]']           \n",
      "                                                                                                  \n",
      "==================================================================================================\n",
      "Total params: 1940817 (7.40 MB)\n",
      "Trainable params: 1940817 (7.40 MB)\n",
      "Non-trainable params: 0 (0.00 Byte)\n",
      "__________________________________________________________________________________________________\n"
     ]
    }
   ],
   "source": [
    "# Build U-Net\n",
    "# REQUIREMENT: Model summary must be visible\n",
    "model = simple_unet_model(patch_size, patch_size, 1)"
   ]
  },
  {
   "cell_type": "markdown",
   "metadata": {},
   "source": [
    "#### Set a function for generating and splitting the dataset"
   ]
  },
  {
   "cell_type": "code",
   "execution_count": 7,
   "metadata": {},
   "outputs": [],
   "source": [
    "# Load all patches\n",
    "def load_all_patches(dataset_type, patch_dir, target_size=(patch_size, patch_size)):\n",
    "    # Load all patches\n",
    "    images_dir = os.path.join(patch_dir, f\"{dataset_type}_images\", dataset_type)\n",
    "    masks_dir = os.path.join(patch_dir, f\"{dataset_type}_masks\", dataset_type)\n",
    "    # Load all images and masks\n",
    "    image_files = sorted(os.listdir(images_dir))\n",
    "    mask_files = sorted(os.listdir(masks_dir))\n",
    "    # define the arrays for X and y\n",
    "    X = []\n",
    "    y = []\n",
    "    # for loop to iterate over all images and masks\n",
    "    for img_file, mask_file in zip(image_files, mask_files):\n",
    "        # read the image and mask\n",
    "        img = cv2.imread(os.path.join(images_dir, img_file), cv2.IMREAD_GRAYSCALE)\n",
    "        mask = cv2.imread(os.path.join(masks_dir, mask_file), cv2.IMREAD_GRAYSCALE)\n",
    "        # check if the image or mask is None\n",
    "        if img is None:\n",
    "            print(f\"Error: Image not found or failed to load: {images_dir}:{img}\")\n",
    "            continue\n",
    "        if mask is None:\n",
    "            print(f\"Error: Mask not found or failed to load: {masks_dir}:{mask_file}\")\n",
    "            continue\n",
    "        # resize the image and mask\n",
    "        img = cv2.resize(img, target_size) / 255.0\n",
    "        mask = cv2.resize(mask, target_size)\n",
    "        # expand the dimensions of the image and mask\n",
    "        mask = np.expand_dims(mask, axis=-1)\n",
    "        # append the image and mask to the X and y arrays\n",
    "        X.append(img)\n",
    "        y.append(mask)\n",
    "    # return the X and y arrays\n",
    "    return np.array(X, dtype=np.float32), np.array(y, dtype=np.float32)\n",
    "\n",
    "#select the target size\n",
    "target_size = (patch_size, patch_size)\n"
   ]
  },
  {
   "cell_type": "code",
   "execution_count": 8,
   "metadata": {},
   "outputs": [
    {
     "data": {
      "text/plain": [
       "((7922, 256, 256), (7922, 256, 256, 1))"
      ]
     },
     "execution_count": 8,
     "metadata": {},
     "output_type": "execute_result"
    }
   ],
   "source": [
    "# Setup a generator for training\n",
    "X_train, y_train = load_all_patches(dataset_type='train', patch_dir=patch_dir, target_size=target_size)\n",
    "X_train.shape, y_train.shape"
   ]
  },
  {
   "cell_type": "code",
   "execution_count": 9,
   "metadata": {},
   "outputs": [
    {
     "data": {
      "text/plain": [
       "((815, 256, 256), (815, 256, 256, 1))"
      ]
     },
     "execution_count": 9,
     "metadata": {},
     "output_type": "execute_result"
    }
   ],
   "source": [
    "# Setup a generator for validation\n",
    "X_val, y_val = load_all_patches(dataset_type='val', patch_dir=patch_dir, target_size=target_size)\n",
    "X_val.shape, y_val.shape"
   ]
  },
  {
   "cell_type": "code",
   "execution_count": 10,
   "metadata": {},
   "outputs": [],
   "source": [
    "# EarlyStopping()\n",
    "from keras.callbacks import EarlyStopping\n",
    "cb = EarlyStopping(monitor='val_loss', patience=10, restore_best_weights=True)"
   ]
  },
  {
   "cell_type": "code",
   "execution_count": 11,
   "metadata": {},
   "outputs": [
    {
     "name": "stdout",
     "output_type": "stream",
     "text": [
      "Epoch 1/50\n"
     ]
    },
    {
     "name": "stderr",
     "output_type": "stream",
     "text": [
      "2025-01-17 20:15:33.697248: E tensorflow/core/grappler/optimizers/meta_optimizer.cc:961] layout failed: INVALID_ARGUMENT: Size of values 0 does not match size of permutation 4 @ fanin shape inmodel/dropout/dropout/SelectV2-2-TransposeNHWCToNCHW-LayoutOptimizer\n",
      "2025-01-17 20:15:35.778351: I external/local_xla/xla/stream_executor/cuda/cuda_dnn.cc:454] Loaded cuDNN version 8906\n",
      "2025-01-17 20:15:39.828940: I external/local_xla/xla/service/service.cc:168] XLA service 0x7f0fcc118de0 initialized for platform CUDA (this does not guarantee that XLA will be used). Devices:\n",
      "2025-01-17 20:15:39.828977: I external/local_xla/xla/service/service.cc:176]   StreamExecutor device (0): NVIDIA RTX A6000, Compute Capability 8.6\n",
      "2025-01-17 20:15:39.836989: I tensorflow/compiler/mlir/tensorflow/utils/dump_mlir_util.cc:269] disabling MLIR crash reproducer, set env var `MLIR_CRASH_REPRODUCER_DIRECTORY` to enable.\n",
      "WARNING: All log messages before absl::InitializeLog() is called are written to STDERR\n",
      "I0000 00:00:1737144939.979837    7648 device_compiler.h:186] Compiled cluster using XLA!  This line is logged at most once for the lifetime of the process.\n"
     ]
    },
    {
     "name": "stdout",
     "output_type": "stream",
     "text": [
      "496/496 [==============================] - 81s 108ms/step - loss: 0.0711 - accuracy: 0.9792 - f1: 0.4274 - val_loss: 0.0422 - val_accuracy: 0.9849 - val_f1: 0.7040\n",
      "Epoch 2/50\n",
      "496/496 [==============================] - 42s 85ms/step - loss: 0.0342 - accuracy: 0.9874 - f1: 0.7488 - val_loss: 0.0296 - val_accuracy: 0.9893 - val_f1: 0.7556\n",
      "Epoch 3/50\n",
      "496/496 [==============================] - 45s 91ms/step - loss: 0.0296 - accuracy: 0.9886 - f1: 0.7738 - val_loss: 0.0274 - val_accuracy: 0.9895 - val_f1: 0.7645\n",
      "Epoch 4/50\n",
      "496/496 [==============================] - 43s 86ms/step - loss: 0.0274 - accuracy: 0.9892 - f1: 0.7902 - val_loss: 0.0259 - val_accuracy: 0.9899 - val_f1: 0.7653\n",
      "Epoch 5/50\n",
      "496/496 [==============================] - 42s 84ms/step - loss: 0.0261 - accuracy: 0.9896 - f1: 0.7986 - val_loss: 0.0266 - val_accuracy: 0.9902 - val_f1: 0.7759\n",
      "Epoch 6/50\n",
      "496/496 [==============================] - 42s 84ms/step - loss: 0.0250 - accuracy: 0.9900 - f1: 0.8064 - val_loss: 0.0241 - val_accuracy: 0.9910 - val_f1: 0.8039\n",
      "Epoch 7/50\n",
      "496/496 [==============================] - 48s 96ms/step - loss: 0.0242 - accuracy: 0.9902 - f1: 0.8118 - val_loss: 0.0211 - val_accuracy: 0.9917 - val_f1: 0.8223\n",
      "Epoch 8/50\n",
      "496/496 [==============================] - 50s 102ms/step - loss: 0.0238 - accuracy: 0.9903 - f1: 0.8140 - val_loss: 0.0206 - val_accuracy: 0.9919 - val_f1: 0.8308\n",
      "Epoch 9/50\n",
      "496/496 [==============================] - 47s 95ms/step - loss: 0.0237 - accuracy: 0.9904 - f1: 0.8164 - val_loss: 0.0228 - val_accuracy: 0.9916 - val_f1: 0.8173\n",
      "Epoch 10/50\n",
      "496/496 [==============================] - 36s 72ms/step - loss: 0.0230 - accuracy: 0.9906 - f1: 0.8197 - val_loss: 0.0226 - val_accuracy: 0.9914 - val_f1: 0.8082\n",
      "Epoch 11/50\n",
      "496/496 [==============================] - 41s 83ms/step - loss: 0.0227 - accuracy: 0.9907 - f1: 0.8225 - val_loss: 0.0196 - val_accuracy: 0.9921 - val_f1: 0.8349\n",
      "Epoch 12/50\n",
      "496/496 [==============================] - 43s 87ms/step - loss: 0.0222 - accuracy: 0.9909 - f1: 0.8255 - val_loss: 0.0194 - val_accuracy: 0.9922 - val_f1: 0.8379\n",
      "Epoch 13/50\n",
      "496/496 [==============================] - 43s 87ms/step - loss: 0.0223 - accuracy: 0.9908 - f1: 0.8250 - val_loss: 0.0190 - val_accuracy: 0.9924 - val_f1: 0.8426\n",
      "Epoch 14/50\n",
      "496/496 [==============================] - 46s 93ms/step - loss: 0.0219 - accuracy: 0.9910 - f1: 0.8278 - val_loss: 0.0196 - val_accuracy: 0.9923 - val_f1: 0.8336\n",
      "Epoch 15/50\n",
      "496/496 [==============================] - 48s 96ms/step - loss: 0.0218 - accuracy: 0.9910 - f1: 0.8285 - val_loss: 0.0190 - val_accuracy: 0.9923 - val_f1: 0.8455\n",
      "Epoch 16/50\n",
      "496/496 [==============================] - 42s 84ms/step - loss: 0.0216 - accuracy: 0.9910 - f1: 0.8293 - val_loss: 0.0198 - val_accuracy: 0.9924 - val_f1: 0.8440\n",
      "Epoch 17/50\n",
      "496/496 [==============================] - 41s 83ms/step - loss: 0.0216 - accuracy: 0.9911 - f1: 0.8302 - val_loss: 0.0199 - val_accuracy: 0.9924 - val_f1: 0.8404\n",
      "Epoch 18/50\n",
      "496/496 [==============================] - 41s 83ms/step - loss: 0.0214 - accuracy: 0.9911 - f1: 0.8313 - val_loss: 0.0193 - val_accuracy: 0.9924 - val_f1: 0.8414\n",
      "Epoch 19/50\n",
      "496/496 [==============================] - 42s 84ms/step - loss: 0.0210 - accuracy: 0.9912 - f1: 0.8334 - val_loss: 0.0185 - val_accuracy: 0.9925 - val_f1: 0.8441\n",
      "Epoch 20/50\n",
      "496/496 [==============================] - 41s 84ms/step - loss: 0.0210 - accuracy: 0.9913 - f1: 0.8337 - val_loss: 0.0189 - val_accuracy: 0.9924 - val_f1: 0.8406\n",
      "Epoch 21/50\n",
      "496/496 [==============================] - 51s 103ms/step - loss: 0.0210 - accuracy: 0.9913 - f1: 0.8337 - val_loss: 0.0186 - val_accuracy: 0.9925 - val_f1: 0.8456\n",
      "Epoch 22/50\n",
      "496/496 [==============================] - 54s 108ms/step - loss: 0.0210 - accuracy: 0.9912 - f1: 0.8334 - val_loss: 0.0197 - val_accuracy: 0.9921 - val_f1: 0.8288\n",
      "Epoch 23/50\n",
      "496/496 [==============================] - 69s 139ms/step - loss: 0.0207 - accuracy: 0.9914 - f1: 0.8360 - val_loss: 0.0192 - val_accuracy: 0.9925 - val_f1: 0.8426\n",
      "Epoch 24/50\n",
      "496/496 [==============================] - 65s 131ms/step - loss: 0.0206 - accuracy: 0.9914 - f1: 0.8370 - val_loss: 0.0187 - val_accuracy: 0.9924 - val_f1: 0.8511\n",
      "Epoch 25/50\n",
      "496/496 [==============================] - 66s 134ms/step - loss: 0.0204 - accuracy: 0.9914 - f1: 0.8380 - val_loss: 0.0183 - val_accuracy: 0.9926 - val_f1: 0.8444\n",
      "Epoch 26/50\n",
      "496/496 [==============================] - 63s 127ms/step - loss: 0.0205 - accuracy: 0.9914 - f1: 0.8373 - val_loss: 0.0189 - val_accuracy: 0.9925 - val_f1: 0.8422\n",
      "Epoch 27/50\n",
      "496/496 [==============================] - 69s 140ms/step - loss: 0.0204 - accuracy: 0.9914 - f1: 0.8376 - val_loss: 0.0184 - val_accuracy: 0.9927 - val_f1: 0.8480\n",
      "Epoch 28/50\n",
      "496/496 [==============================] - 59s 120ms/step - loss: 0.0204 - accuracy: 0.9915 - f1: 0.8378 - val_loss: 0.0192 - val_accuracy: 0.9924 - val_f1: 0.8368\n",
      "Epoch 29/50\n",
      "496/496 [==============================] - 63s 128ms/step - loss: 0.0202 - accuracy: 0.9915 - f1: 0.8386 - val_loss: 0.0183 - val_accuracy: 0.9927 - val_f1: 0.8478\n",
      "Epoch 30/50\n",
      "496/496 [==============================] - 64s 129ms/step - loss: 0.0202 - accuracy: 0.9915 - f1: 0.8390 - val_loss: 0.0182 - val_accuracy: 0.9927 - val_f1: 0.8477\n",
      "Epoch 31/50\n",
      "496/496 [==============================] - 64s 130ms/step - loss: 0.0202 - accuracy: 0.9915 - f1: 0.8392 - val_loss: 0.0193 - val_accuracy: 0.9925 - val_f1: 0.8403\n",
      "Epoch 32/50\n",
      "496/496 [==============================] - 64s 128ms/step - loss: 0.0201 - accuracy: 0.9916 - f1: 0.8400 - val_loss: 0.0180 - val_accuracy: 0.9927 - val_f1: 0.8489\n",
      "Epoch 33/50\n",
      "496/496 [==============================] - 66s 133ms/step - loss: 0.0201 - accuracy: 0.9916 - f1: 0.8394 - val_loss: 0.0186 - val_accuracy: 0.9924 - val_f1: 0.8383\n",
      "Epoch 34/50\n",
      "496/496 [==============================] - 64s 129ms/step - loss: 0.0200 - accuracy: 0.9916 - f1: 0.8397 - val_loss: 0.0182 - val_accuracy: 0.9927 - val_f1: 0.8527\n",
      "Epoch 35/50\n",
      "496/496 [==============================] - 66s 134ms/step - loss: 0.0202 - accuracy: 0.9915 - f1: 0.8399 - val_loss: 0.0176 - val_accuracy: 0.9928 - val_f1: 0.8525\n",
      "Epoch 36/50\n",
      "496/496 [==============================] - 66s 133ms/step - loss: 0.0199 - accuracy: 0.9916 - f1: 0.8416 - val_loss: 0.0186 - val_accuracy: 0.9926 - val_f1: 0.8426\n",
      "Epoch 37/50\n",
      "496/496 [==============================] - 67s 134ms/step - loss: 0.0198 - accuracy: 0.9917 - f1: 0.8419 - val_loss: 0.0180 - val_accuracy: 0.9928 - val_f1: 0.8514\n",
      "Epoch 38/50\n",
      "496/496 [==============================] - 63s 127ms/step - loss: 0.0198 - accuracy: 0.9917 - f1: 0.8423 - val_loss: 0.0181 - val_accuracy: 0.9927 - val_f1: 0.8537\n",
      "Epoch 39/50\n",
      "496/496 [==============================] - 65s 130ms/step - loss: 0.0198 - accuracy: 0.9917 - f1: 0.8422 - val_loss: 0.0194 - val_accuracy: 0.9925 - val_f1: 0.8392\n",
      "Epoch 40/50\n",
      "496/496 [==============================] - 66s 134ms/step - loss: 0.0198 - accuracy: 0.9917 - f1: 0.8415 - val_loss: 0.0178 - val_accuracy: 0.9928 - val_f1: 0.8537\n",
      "Epoch 41/50\n",
      "496/496 [==============================] - 64s 129ms/step - loss: 0.0196 - accuracy: 0.9917 - f1: 0.8433 - val_loss: 0.0197 - val_accuracy: 0.9926 - val_f1: 0.8421\n",
      "Epoch 42/50\n",
      "496/496 [==============================] - 63s 126ms/step - loss: 0.0196 - accuracy: 0.9917 - f1: 0.8433 - val_loss: 0.0179 - val_accuracy: 0.9927 - val_f1: 0.8533\n",
      "Epoch 43/50\n",
      "496/496 [==============================] - 63s 128ms/step - loss: 0.0196 - accuracy: 0.9917 - f1: 0.8428 - val_loss: 0.0179 - val_accuracy: 0.9926 - val_f1: 0.8514\n",
      "Epoch 44/50\n",
      "496/496 [==============================] - 63s 128ms/step - loss: 0.0195 - accuracy: 0.9917 - f1: 0.8438 - val_loss: 0.0180 - val_accuracy: 0.9927 - val_f1: 0.8491\n",
      "Epoch 45/50\n",
      "496/496 [==============================] - 58s 118ms/step - loss: 0.0195 - accuracy: 0.9918 - f1: 0.8440 - val_loss: 0.0180 - val_accuracy: 0.9928 - val_f1: 0.8505\n"
     ]
    }
   ],
   "source": [
    "# This is where the magic happens\n",
    "# REQUIREMENT: The epoch logs must be visible showing validation loss and validation f1.\n",
    "history = model.fit(X_train, y_train, validation_data=(X_val, y_val), epochs = 50, batch_size=16, callbacks=[cb])"
   ]
  },
  {
   "cell_type": "code",
   "execution_count": 13,
   "metadata": {},
   "outputs": [
    {
     "name": "stdout",
     "output_type": "stream",
     "text": [
      "VladislavStoimenov_235030_unet_model_256px5.h5\n"
     ]
    }
   ],
   "source": [
    "# REQUIREMENT: Save your model, it is a deliverable\n",
    "# REQUIREMENT: naming convention 'studentname_studentnumber_unet_model_patchsizepx.h5'\n",
    "example_file_name = f'VladislavStoimenov_235030_unet_model_{patch_size}px5.h5'\n",
    "print(example_file_name)\n",
    "model.save(example_file_name)"
   ]
  },
  {
   "cell_type": "code",
   "execution_count": 14,
   "metadata": {},
   "outputs": [
    {
     "name": "stdout",
     "output_type": "stream",
     "text": [
      "Best validation loss: 0.01761794276535511\n",
      "Best validation f1: 0.8537212610244751\n"
     ]
    }
   ],
   "source": [
    "# REQUIREMENT: Run and display the output of this cell.\n",
    "# REQUIREMENT: Do not change the code.\n",
    "best_val_loss = min(history.history['val_loss'])\n",
    "best_val_f1 = max(history.history['val_f1'])\n",
    "print(f\"Best validation loss: {best_val_loss}\")\n",
    "print(f\"Best validation f1: {best_val_f1}\")"
   ]
  },
  {
   "cell_type": "code",
   "execution_count": 15,
   "metadata": {},
   "outputs": [
    {
     "data": {
      "image/png": "[encoded data removed]",
      "text/plain": [
       "<Figure size 640x480 with 1 Axes>"
      ]
     },
     "metadata": {},
     "output_type": "display_data"
    }
   ],
   "source": [
    "# REQUIREMENT: Run and display the output of this cell.\n",
    "# REQUIREMENT: Do not change the code.\n",
    "loss = history.history['loss']\n",
    "val_loss = history.history['val_loss']\n",
    "\n",
    "epochs = np.arange(1, len(loss) + 1)\n",
    "\n",
    "plt.plot(epochs, loss, label='train_loss')\n",
    "plt.plot(epochs, val_loss, label='val_loss')\n",
    "plt.legend()\n",
    "plt.xlabel('Epoch')\n",
    "plt.ylabel('Loss (binary_crossentropy)')\n",
    "_ = plt.xticks(np.arange(1, len(loss) + 1, 3))"
   ]
  },
  {
   "cell_type": "code",
   "execution_count": 16,
   "metadata": {},
   "outputs": [
    {
     "data": {
      "image/png": "[encoded data removed]",
      "text/plain": [
       "<Figure size 640x480 with 1 Axes>"
      ]
     },
     "metadata": {},
     "output_type": "display_data"
    }
   ],
   "source": [
    "# REQUIREMENT: Run and display the output of this cell.\n",
    "# REQUIREMENT: Do not change the code.\n",
    "train_f1 = history.history['f1']\n",
    "val_f1 = history.history['val_f1']\n",
    "\n",
    "epochs = np.arange(1, len(train_f1) + 1)\n",
    "\n",
    "plt.plot(epochs, train_f1, label='train_f1')\n",
    "plt.plot(epochs, val_f1, label='val_f1')\n",
    "plt.legend()\n",
    "plt.xlabel('Epoch')\n",
    "plt.ylabel('F1')\n",
    "_ = plt.xticks(np.arange(1, len(loss) + 1, 3))"
   ]
  }
 ],
 "metadata": {
  "kernelspec": {
   "display_name": "Python 3 (ipykernel)",
   "language": "python",
   "name": "python3"
  },
  "language_info": {
   "codemirror_mode": {
    "name": "ipython",
    "version": 3
   },
   "file_extension": ".py",
   "mimetype": "text/x-python",
   "name": "python",
   "nbconvert_exporter": "python",
   "pygments_lexer": "ipython3",
   "version": "3.11.0rc1"
  }
 },
 "nbformat": 4,
 "nbformat_minor": 4
}
